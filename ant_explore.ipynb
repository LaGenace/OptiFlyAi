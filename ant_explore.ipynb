{
 "cells": [
  {
   "cell_type": "code",
   "execution_count": 1,
   "metadata": {},
   "outputs": [],
   "source": [
    "import os\n",
    "from authenticate_service_account import *\n",
    "from google.cloud import bigquery\n",
    "from google.oauth2 import service_account\n",
    "\n",
    "from google.cloud import bigquery\n",
    "from google.oauth2 import service_account\n",
    "\n",
    "import pandas as pd\n"
   ]
  },
  {
   "cell_type": "code",
   "execution_count": 2,
   "metadata": {},
   "outputs": [
    {
     "ename": "FileNotFoundError",
     "evalue": "[Errno 2] No such file or directory: 'skyscanner-insights-343713-04a5b1045708.json'",
     "output_type": "error",
     "traceback": [
      "\u001b[0;31m---------------------------------------------------------------------------\u001b[0m",
      "\u001b[0;31mFileNotFoundError\u001b[0m                         Traceback (most recent call last)",
      "\u001b[1;32m/Users/agdoko/code/LaGenace/OptiFlyAi/ant_explore.ipynb Cell 2\u001b[0m line \u001b[0;36m9\n\u001b[1;32m      <a href='vscode-notebook-cell:/Users/agdoko/code/LaGenace/OptiFlyAi/ant_explore.ipynb#W1sZmlsZQ%3D%3D?line=0'>1</a>\u001b[0m key_path \u001b[39m=\u001b[39m \u001b[39m'\u001b[39m\u001b[39mskyscanner-insights-343713-04a5b1045708.json\u001b[39m\u001b[39m'\u001b[39m\n\u001b[1;32m      <a href='vscode-notebook-cell:/Users/agdoko/code/LaGenace/OptiFlyAi/ant_explore.ipynb#W1sZmlsZQ%3D%3D?line=2'>3</a>\u001b[0m \u001b[39m# [START bigquery_client_json_credentials]\u001b[39;00m\n\u001b[1;32m      <a href='vscode-notebook-cell:/Users/agdoko/code/LaGenace/OptiFlyAi/ant_explore.ipynb#W1sZmlsZQ%3D%3D?line=3'>4</a>\u001b[0m \n\u001b[1;32m      <a href='vscode-notebook-cell:/Users/agdoko/code/LaGenace/OptiFlyAi/ant_explore.ipynb#W1sZmlsZQ%3D%3D?line=4'>5</a>\u001b[0m \u001b[39m# TODO(developer): Set key_path to the path to the service account key\u001b[39;00m\n\u001b[1;32m      <a href='vscode-notebook-cell:/Users/agdoko/code/LaGenace/OptiFlyAi/ant_explore.ipynb#W1sZmlsZQ%3D%3D?line=5'>6</a>\u001b[0m \u001b[39m#                  file.\u001b[39;00m\n\u001b[1;32m      <a href='vscode-notebook-cell:/Users/agdoko/code/LaGenace/OptiFlyAi/ant_explore.ipynb#W1sZmlsZQ%3D%3D?line=6'>7</a>\u001b[0m \u001b[39m# key_path = \"path/to/service_account.json\"\u001b[39;00m\n\u001b[0;32m----> <a href='vscode-notebook-cell:/Users/agdoko/code/LaGenace/OptiFlyAi/ant_explore.ipynb#W1sZmlsZQ%3D%3D?line=8'>9</a>\u001b[0m credentials \u001b[39m=\u001b[39m service_account\u001b[39m.\u001b[39;49mCredentials\u001b[39m.\u001b[39;49mfrom_service_account_file(\n\u001b[1;32m     <a href='vscode-notebook-cell:/Users/agdoko/code/LaGenace/OptiFlyAi/ant_explore.ipynb#W1sZmlsZQ%3D%3D?line=9'>10</a>\u001b[0m     key_path, scopes\u001b[39m=\u001b[39;49m[\u001b[39m\"\u001b[39;49m\u001b[39mhttps://www.googleapis.com/auth/cloud-platform\u001b[39;49m\u001b[39m\"\u001b[39;49m],\n\u001b[1;32m     <a href='vscode-notebook-cell:/Users/agdoko/code/LaGenace/OptiFlyAi/ant_explore.ipynb#W1sZmlsZQ%3D%3D?line=10'>11</a>\u001b[0m )\n\u001b[1;32m     <a href='vscode-notebook-cell:/Users/agdoko/code/LaGenace/OptiFlyAi/ant_explore.ipynb#W1sZmlsZQ%3D%3D?line=12'>13</a>\u001b[0m client \u001b[39m=\u001b[39m bigquery\u001b[39m.\u001b[39mClient(credentials\u001b[39m=\u001b[39mcredentials, project\u001b[39m=\u001b[39mcredentials\u001b[39m.\u001b[39mproject_id,)\n\u001b[1;32m     <a href='vscode-notebook-cell:/Users/agdoko/code/LaGenace/OptiFlyAi/ant_explore.ipynb#W1sZmlsZQ%3D%3D?line=13'>14</a>\u001b[0m \u001b[39m# [END bigquery_client_json_credentials]\u001b[39;00m\n",
      "File \u001b[0;32m~/.pyenv/versions/3.12.0/envs/OptiFly/lib/python3.12/site-packages/google/oauth2/service_account.py:260\u001b[0m, in \u001b[0;36mCredentials.from_service_account_file\u001b[0;34m(cls, filename, **kwargs)\u001b[0m\n\u001b[1;32m    248\u001b[0m \u001b[39m@classmethod\u001b[39m\n\u001b[1;32m    249\u001b[0m \u001b[39mdef\u001b[39;00m \u001b[39mfrom_service_account_file\u001b[39m(\u001b[39mcls\u001b[39m, filename, \u001b[39m*\u001b[39m\u001b[39m*\u001b[39mkwargs):\n\u001b[1;32m    250\u001b[0m \u001b[39m    \u001b[39m\u001b[39m\"\"\"Creates a Credentials instance from a service account json file.\u001b[39;00m\n\u001b[1;32m    251\u001b[0m \n\u001b[1;32m    252\u001b[0m \u001b[39m    Args:\u001b[39;00m\n\u001b[0;32m   (...)\u001b[0m\n\u001b[1;32m    258\u001b[0m \u001b[39m            credentials.\u001b[39;00m\n\u001b[1;32m    259\u001b[0m \u001b[39m    \"\"\"\u001b[39;00m\n\u001b[0;32m--> 260\u001b[0m     info, signer \u001b[39m=\u001b[39m _service_account_info\u001b[39m.\u001b[39;49mfrom_filename(\n\u001b[1;32m    261\u001b[0m         filename, require\u001b[39m=\u001b[39;49m[\u001b[39m\"\u001b[39;49m\u001b[39mclient_email\u001b[39;49m\u001b[39m\"\u001b[39;49m, \u001b[39m\"\u001b[39;49m\u001b[39mtoken_uri\u001b[39;49m\u001b[39m\"\u001b[39;49m]\n\u001b[1;32m    262\u001b[0m     )\n\u001b[1;32m    263\u001b[0m     \u001b[39mreturn\u001b[39;00m \u001b[39mcls\u001b[39m\u001b[39m.\u001b[39m_from_signer_and_info(signer, info, \u001b[39m*\u001b[39m\u001b[39m*\u001b[39mkwargs)\n",
      "File \u001b[0;32m~/.pyenv/versions/3.12.0/envs/OptiFly/lib/python3.12/site-packages/google/auth/_service_account_info.py:78\u001b[0m, in \u001b[0;36mfrom_filename\u001b[0;34m(filename, require, use_rsa_signer)\u001b[0m\n\u001b[1;32m     64\u001b[0m \u001b[39mdef\u001b[39;00m \u001b[39mfrom_filename\u001b[39m(filename, require\u001b[39m=\u001b[39m\u001b[39mNone\u001b[39;00m, use_rsa_signer\u001b[39m=\u001b[39m\u001b[39mTrue\u001b[39;00m):\n\u001b[1;32m     65\u001b[0m \u001b[39m    \u001b[39m\u001b[39m\"\"\"Reads a Google service account JSON file and returns its parsed info.\u001b[39;00m\n\u001b[1;32m     66\u001b[0m \n\u001b[1;32m     67\u001b[0m \u001b[39m    Args:\u001b[39;00m\n\u001b[0;32m   (...)\u001b[0m\n\u001b[1;32m     76\u001b[0m \u001b[39m            info and a signer instance.\u001b[39;00m\n\u001b[1;32m     77\u001b[0m \u001b[39m    \"\"\"\u001b[39;00m\n\u001b[0;32m---> 78\u001b[0m     \u001b[39mwith\u001b[39;00m io\u001b[39m.\u001b[39;49mopen(filename, \u001b[39m\"\u001b[39;49m\u001b[39mr\u001b[39;49m\u001b[39m\"\u001b[39;49m, encoding\u001b[39m=\u001b[39;49m\u001b[39m\"\u001b[39;49m\u001b[39mutf-8\u001b[39;49m\u001b[39m\"\u001b[39;49m) \u001b[39mas\u001b[39;00m json_file:\n\u001b[1;32m     79\u001b[0m         data \u001b[39m=\u001b[39m json\u001b[39m.\u001b[39mload(json_file)\n\u001b[1;32m     80\u001b[0m         \u001b[39mreturn\u001b[39;00m data, from_dict(data, require\u001b[39m=\u001b[39mrequire, use_rsa_signer\u001b[39m=\u001b[39muse_rsa_signer)\n",
      "\u001b[0;31mFileNotFoundError\u001b[0m: [Errno 2] No such file or directory: 'skyscanner-insights-343713-04a5b1045708.json'"
     ]
    }
   ],
   "source": [
    "key_path = 'skyscanner-insights-343713-04a5b1045708.json'\n",
    "\n",
    "# [START bigquery_client_json_credentials]\n",
    "\n",
    "# TODO(developer): Set key_path to the path to the service account key\n",
    "#                  file.\n",
    "# key_path = \"path/to/service_account.json\"\n",
    "\n",
    "credentials = service_account.Credentials.from_service_account_file(\n",
    "    key_path, scopes=[\"https://www.googleapis.com/auth/cloud-platform\"],\n",
    ")\n",
    "\n",
    "client = bigquery.Client(credentials=credentials, project=credentials.project_id,)\n",
    "# [END bigquery_client_json_credentials]\n"
   ]
  },
  {
   "cell_type": "code",
   "execution_count": 3,
   "metadata": {},
   "outputs": [
    {
     "name": "stdout",
     "output_type": "stream",
     "text": [
      "<google.cloud.bigquery.dataset.DatasetListItem object at 0x107fd61d0>\n",
      "<google.cloud.bigquery.dataset.DatasetListItem object at 0x1327d7310>\n",
      "<google.cloud.bigquery.dataset.DatasetListItem object at 0x107fd61d0>\n",
      "<google.cloud.bigquery.dataset.DatasetListItem object at 0x1327d7310>\n",
      "<google.cloud.bigquery.dataset.DatasetListItem object at 0x107fd61d0>\n"
     ]
    }
   ],
   "source": [
    "datasets = client.list_datasets()\n",
    "\n",
    "for dataset in datasets:\n",
    "  print(dataset)\n"
   ]
  },
  {
   "cell_type": "code",
   "execution_count": 4,
   "metadata": {},
   "outputs": [],
   "source": [
    "query = '''SELECT * FROM `skyscanner-insights-343713.raw_skyscanner_data_frankfurt.skyscanner_redirect_data_v5`\n",
    "WHERE Timestamp BETWEEN DATETIME(\"2023-08-17\")\n",
    "AND DATETIME_ADD(\"2023-08-18\", INTERVAL 1 DAY) and Leg_0_StopsCount is not null'''\n"
   ]
  },
  {
   "cell_type": "code",
   "execution_count": 5,
   "metadata": {},
   "outputs": [],
   "source": [
    "query_job = client.query(query)\n"
   ]
  },
  {
   "cell_type": "code",
   "execution_count": 6,
   "metadata": {},
   "outputs": [],
   "source": [
    "results = query_job.result()\n"
   ]
  },
  {
   "cell_type": "code",
   "execution_count": 7,
   "metadata": {},
   "outputs": [
    {
     "ename": "PermissionDenied",
     "evalue": "403 request failed: the user does not have 'bigquery.readsessions.create' permission for 'projects/skyscanner-insights-343713'",
     "output_type": "error",
     "traceback": [
      "\u001b[0;31m---------------------------------------------------------------------------\u001b[0m",
      "\u001b[0;31m_InactiveRpcError\u001b[0m                         Traceback (most recent call last)",
      "File \u001b[0;32m~/.pyenv/versions/3.10.6/envs/lewagon/lib/python3.10/site-packages/google/api_core/grpc_helpers.py:72\u001b[0m, in \u001b[0;36m_wrap_unary_errors.<locals>.error_remapped_callable\u001b[0;34m(*args, **kwargs)\u001b[0m\n\u001b[1;32m     71\u001b[0m \u001b[39mtry\u001b[39;00m:\n\u001b[0;32m---> 72\u001b[0m     \u001b[39mreturn\u001b[39;00m callable_(\u001b[39m*\u001b[39;49margs, \u001b[39m*\u001b[39;49m\u001b[39m*\u001b[39;49mkwargs)\n\u001b[1;32m     73\u001b[0m \u001b[39mexcept\u001b[39;00m grpc\u001b[39m.\u001b[39mRpcError \u001b[39mas\u001b[39;00m exc:\n",
      "File \u001b[0;32m~/.pyenv/versions/3.10.6/envs/lewagon/lib/python3.10/site-packages/grpc/_channel.py:946\u001b[0m, in \u001b[0;36m_UnaryUnaryMultiCallable.__call__\u001b[0;34m(self, request, timeout, metadata, credentials, wait_for_ready, compression)\u001b[0m\n\u001b[1;32m    944\u001b[0m state, call, \u001b[39m=\u001b[39m \u001b[39mself\u001b[39m\u001b[39m.\u001b[39m_blocking(request, timeout, metadata, credentials,\n\u001b[1;32m    945\u001b[0m                               wait_for_ready, compression)\n\u001b[0;32m--> 946\u001b[0m \u001b[39mreturn\u001b[39;00m _end_unary_response_blocking(state, call, \u001b[39mFalse\u001b[39;49;00m, \u001b[39mNone\u001b[39;49;00m)\n",
      "File \u001b[0;32m~/.pyenv/versions/3.10.6/envs/lewagon/lib/python3.10/site-packages/grpc/_channel.py:849\u001b[0m, in \u001b[0;36m_end_unary_response_blocking\u001b[0;34m(state, call, with_call, deadline)\u001b[0m\n\u001b[1;32m    848\u001b[0m \u001b[39melse\u001b[39;00m:\n\u001b[0;32m--> 849\u001b[0m     \u001b[39mraise\u001b[39;00m _InactiveRpcError(state)\n",
      "\u001b[0;31m_InactiveRpcError\u001b[0m: <_InactiveRpcError of RPC that terminated with:\n\tstatus = StatusCode.PERMISSION_DENIED\n\tdetails = \"request failed: the user does not have 'bigquery.readsessions.create' permission for 'projects/skyscanner-insights-343713'\"\n\tdebug_error_string = \"UNKNOWN:Error received from peer ipv4:142.250.187.202:443 {created_time:\"2023-11-05T15:04:12.510292+00:00\", grpc_status:7, grpc_message:\"request failed: the user does not have \\'bigquery.readsessions.create\\' permission for \\'projects/skyscanner-insights-343713\\'\"}\"\n>",
      "\nThe above exception was the direct cause of the following exception:\n",
      "\u001b[0;31mPermissionDenied\u001b[0m                          Traceback (most recent call last)",
      "\u001b[1;32m/Users/antonis/code/LaGenace/OptiFlyAi/ant_explore.ipynb Cell 7\u001b[0m line \u001b[0;36m1\n\u001b[0;32m----> <a href='vscode-notebook-cell:/Users/antonis/code/LaGenace/OptiFlyAi/ant_explore.ipynb#X10sZmlsZQ%3D%3D?line=0'>1</a>\u001b[0m results\u001b[39m.\u001b[39;49mto_dataframe()\n",
      "File \u001b[0;32m~/.pyenv/versions/3.10.6/envs/lewagon/lib/python3.10/site-packages/google/cloud/bigquery/table.py:1985\u001b[0m, in \u001b[0;36mRowIterator.to_dataframe\u001b[0;34m(self, bqstorage_client, dtypes, progress_bar_type, create_bqstorage_client, date_as_object, geography_as_object)\u001b[0m\n\u001b[1;32m   1982\u001b[0m     create_bqstorage_client \u001b[39m=\u001b[39m \u001b[39mFalse\u001b[39;00m\n\u001b[1;32m   1983\u001b[0m     bqstorage_client \u001b[39m=\u001b[39m \u001b[39mNone\u001b[39;00m\n\u001b[0;32m-> 1985\u001b[0m record_batch \u001b[39m=\u001b[39m \u001b[39mself\u001b[39;49m\u001b[39m.\u001b[39;49mto_arrow(\n\u001b[1;32m   1986\u001b[0m     progress_bar_type\u001b[39m=\u001b[39;49mprogress_bar_type,\n\u001b[1;32m   1987\u001b[0m     bqstorage_client\u001b[39m=\u001b[39;49mbqstorage_client,\n\u001b[1;32m   1988\u001b[0m     create_bqstorage_client\u001b[39m=\u001b[39;49mcreate_bqstorage_client,\n\u001b[1;32m   1989\u001b[0m )\n\u001b[1;32m   1991\u001b[0m \u001b[39m# When converting timestamp values to nanosecond precision, the result\u001b[39;00m\n\u001b[1;32m   1992\u001b[0m \u001b[39m# can be out of pyarrow bounds. To avoid the error when converting to\u001b[39;00m\n\u001b[1;32m   1993\u001b[0m \u001b[39m# Pandas, we set the timestamp_as_object parameter to True, if necessary.\u001b[39;00m\n\u001b[1;32m   1994\u001b[0m types_to_check \u001b[39m=\u001b[39m {\n\u001b[1;32m   1995\u001b[0m     pyarrow\u001b[39m.\u001b[39mtimestamp(\u001b[39m\"\u001b[39m\u001b[39mus\u001b[39m\u001b[39m\"\u001b[39m),\n\u001b[1;32m   1996\u001b[0m     pyarrow\u001b[39m.\u001b[39mtimestamp(\u001b[39m\"\u001b[39m\u001b[39mus\u001b[39m\u001b[39m\"\u001b[39m, tz\u001b[39m=\u001b[39mdatetime\u001b[39m.\u001b[39mtimezone\u001b[39m.\u001b[39mutc),\n\u001b[1;32m   1997\u001b[0m }\n",
      "File \u001b[0;32m~/.pyenv/versions/3.10.6/envs/lewagon/lib/python3.10/site-packages/google/cloud/bigquery/table.py:1779\u001b[0m, in \u001b[0;36mRowIterator.to_arrow\u001b[0;34m(self, progress_bar_type, bqstorage_client, create_bqstorage_client)\u001b[0m\n\u001b[1;32m   1774\u001b[0m progress_bar \u001b[39m=\u001b[39m get_progress_bar(\n\u001b[1;32m   1775\u001b[0m     progress_bar_type, \u001b[39m\"\u001b[39m\u001b[39mDownloading\u001b[39m\u001b[39m\"\u001b[39m, \u001b[39mself\u001b[39m\u001b[39m.\u001b[39mtotal_rows, \u001b[39m\"\u001b[39m\u001b[39mrows\u001b[39m\u001b[39m\"\u001b[39m\n\u001b[1;32m   1776\u001b[0m )\n\u001b[1;32m   1778\u001b[0m record_batches \u001b[39m=\u001b[39m []\n\u001b[0;32m-> 1779\u001b[0m \u001b[39mfor\u001b[39;00m record_batch \u001b[39min\u001b[39;00m \u001b[39mself\u001b[39m\u001b[39m.\u001b[39mto_arrow_iterable(\n\u001b[1;32m   1780\u001b[0m     bqstorage_client\u001b[39m=\u001b[39mbqstorage_client\n\u001b[1;32m   1781\u001b[0m ):\n\u001b[1;32m   1782\u001b[0m     record_batches\u001b[39m.\u001b[39mappend(record_batch)\n\u001b[1;32m   1784\u001b[0m     \u001b[39mif\u001b[39;00m progress_bar \u001b[39mis\u001b[39;00m \u001b[39mnot\u001b[39;00m \u001b[39mNone\u001b[39;00m:\n\u001b[1;32m   1785\u001b[0m         \u001b[39m# In some cases, the number of total rows is not populated\u001b[39;00m\n\u001b[1;32m   1786\u001b[0m         \u001b[39m# until the first page of rows is fetched. Update the\u001b[39;00m\n\u001b[1;32m   1787\u001b[0m         \u001b[39m# progress bar's total to keep an accurate count.\u001b[39;00m\n",
      "File \u001b[0;32m~/.pyenv/versions/3.10.6/envs/lewagon/lib/python3.10/site-packages/google/cloud/bigquery/table.py:1635\u001b[0m, in \u001b[0;36mRowIterator._to_page_iterable\u001b[0;34m(self, bqstorage_download, tabledata_list_download, bqstorage_client)\u001b[0m\n\u001b[1;32m   1628\u001b[0m     bqstorage_client \u001b[39m=\u001b[39m \u001b[39mNone\u001b[39;00m\n\u001b[1;32m   1630\u001b[0m result_pages \u001b[39m=\u001b[39m (\n\u001b[1;32m   1631\u001b[0m     bqstorage_download()\n\u001b[1;32m   1632\u001b[0m     \u001b[39mif\u001b[39;00m bqstorage_client \u001b[39mis\u001b[39;00m \u001b[39mnot\u001b[39;00m \u001b[39mNone\u001b[39;00m\n\u001b[1;32m   1633\u001b[0m     \u001b[39melse\u001b[39;00m tabledata_list_download()\n\u001b[1;32m   1634\u001b[0m )\n\u001b[0;32m-> 1635\u001b[0m \u001b[39myield from\u001b[39;00m result_pages\n",
      "File \u001b[0;32m~/.pyenv/versions/3.10.6/envs/lewagon/lib/python3.10/site-packages/google/cloud/bigquery/_pandas_helpers.py:752\u001b[0m, in \u001b[0;36m_download_table_bqstorage\u001b[0;34m(project_id, table, bqstorage_client, preserve_order, selected_fields, page_to_item, max_queue_size)\u001b[0m\n\u001b[1;32m    747\u001b[0m \u001b[39mif\u001b[39;00m _ARROW_COMPRESSION_SUPPORT:\n\u001b[1;32m    748\u001b[0m     requested_session\u001b[39m.\u001b[39mread_options\u001b[39m.\u001b[39marrow_serialization_options\u001b[39m.\u001b[39mbuffer_compression \u001b[39m=\u001b[39m (\n\u001b[1;32m    749\u001b[0m         ArrowSerializationOptions\u001b[39m.\u001b[39mCompressionCodec\u001b[39m.\u001b[39mLZ4_FRAME\n\u001b[1;32m    750\u001b[0m     )\n\u001b[0;32m--> 752\u001b[0m session \u001b[39m=\u001b[39m bqstorage_client\u001b[39m.\u001b[39;49mcreate_read_session(\n\u001b[1;32m    753\u001b[0m     parent\u001b[39m=\u001b[39;49m\u001b[39m\"\u001b[39;49m\u001b[39mprojects/\u001b[39;49m\u001b[39m{}\u001b[39;49;00m\u001b[39m\"\u001b[39;49m\u001b[39m.\u001b[39;49mformat(project_id),\n\u001b[1;32m    754\u001b[0m     read_session\u001b[39m=\u001b[39;49mrequested_session,\n\u001b[1;32m    755\u001b[0m     max_stream_count\u001b[39m=\u001b[39;49mrequested_streams,\n\u001b[1;32m    756\u001b[0m )\n\u001b[1;32m    758\u001b[0m _LOGGER\u001b[39m.\u001b[39mdebug(\n\u001b[1;32m    759\u001b[0m     \u001b[39m\"\u001b[39m\u001b[39mStarted reading table \u001b[39m\u001b[39m'\u001b[39m\u001b[39m{}\u001b[39;00m\u001b[39m.\u001b[39m\u001b[39m{}\u001b[39;00m\u001b[39m.\u001b[39m\u001b[39m{}\u001b[39;00m\u001b[39m'\u001b[39m\u001b[39m with BQ Storage API session \u001b[39m\u001b[39m'\u001b[39m\u001b[39m{}\u001b[39;00m\u001b[39m'\u001b[39m\u001b[39m.\u001b[39m\u001b[39m\"\u001b[39m\u001b[39m.\u001b[39mformat(\n\u001b[1;32m    760\u001b[0m         table\u001b[39m.\u001b[39mproject, table\u001b[39m.\u001b[39mdataset_id, table\u001b[39m.\u001b[39mtable_id, session\u001b[39m.\u001b[39mname\n\u001b[1;32m    761\u001b[0m     )\n\u001b[1;32m    762\u001b[0m )\n\u001b[1;32m    764\u001b[0m \u001b[39m# Avoid reading rows from an empty table.\u001b[39;00m\n",
      "File \u001b[0;32m~/.pyenv/versions/3.10.6/envs/lewagon/lib/python3.10/site-packages/google/cloud/bigquery_storage_v1/services/big_query_read/client.py:622\u001b[0m, in \u001b[0;36mBigQueryReadClient.create_read_session\u001b[0;34m(self, request, parent, read_session, max_stream_count, retry, timeout, metadata)\u001b[0m\n\u001b[1;32m    615\u001b[0m metadata \u001b[39m=\u001b[39m \u001b[39mtuple\u001b[39m(metadata) \u001b[39m+\u001b[39m (\n\u001b[1;32m    616\u001b[0m     gapic_v1\u001b[39m.\u001b[39mrouting_header\u001b[39m.\u001b[39mto_grpc_metadata(\n\u001b[1;32m    617\u001b[0m         ((\u001b[39m\"\u001b[39m\u001b[39mread_session.table\u001b[39m\u001b[39m\"\u001b[39m, request\u001b[39m.\u001b[39mread_session\u001b[39m.\u001b[39mtable),)\n\u001b[1;32m    618\u001b[0m     ),\n\u001b[1;32m    619\u001b[0m )\n\u001b[1;32m    621\u001b[0m \u001b[39m# Send the request.\u001b[39;00m\n\u001b[0;32m--> 622\u001b[0m response \u001b[39m=\u001b[39m rpc(\n\u001b[1;32m    623\u001b[0m     request,\n\u001b[1;32m    624\u001b[0m     retry\u001b[39m=\u001b[39;49mretry,\n\u001b[1;32m    625\u001b[0m     timeout\u001b[39m=\u001b[39;49mtimeout,\n\u001b[1;32m    626\u001b[0m     metadata\u001b[39m=\u001b[39;49mmetadata,\n\u001b[1;32m    627\u001b[0m )\n\u001b[1;32m    629\u001b[0m \u001b[39m# Done; return the response.\u001b[39;00m\n\u001b[1;32m    630\u001b[0m \u001b[39mreturn\u001b[39;00m response\n",
      "File \u001b[0;32m~/.pyenv/versions/3.10.6/envs/lewagon/lib/python3.10/site-packages/google/api_core/gapic_v1/method.py:154\u001b[0m, in \u001b[0;36m_GapicCallable.__call__\u001b[0;34m(self, timeout, retry, *args, **kwargs)\u001b[0m\n\u001b[1;32m    151\u001b[0m     metadata\u001b[39m.\u001b[39mextend(\u001b[39mself\u001b[39m\u001b[39m.\u001b[39m_metadata)\n\u001b[1;32m    152\u001b[0m     kwargs[\u001b[39m\"\u001b[39m\u001b[39mmetadata\u001b[39m\u001b[39m\"\u001b[39m] \u001b[39m=\u001b[39m metadata\n\u001b[0;32m--> 154\u001b[0m \u001b[39mreturn\u001b[39;00m wrapped_func(\u001b[39m*\u001b[39;49margs, \u001b[39m*\u001b[39;49m\u001b[39m*\u001b[39;49mkwargs)\n",
      "File \u001b[0;32m~/.pyenv/versions/3.10.6/envs/lewagon/lib/python3.10/site-packages/google/api_core/retry.py:283\u001b[0m, in \u001b[0;36mRetry.__call__.<locals>.retry_wrapped_func\u001b[0;34m(*args, **kwargs)\u001b[0m\n\u001b[1;32m    279\u001b[0m target \u001b[39m=\u001b[39m functools\u001b[39m.\u001b[39mpartial(func, \u001b[39m*\u001b[39margs, \u001b[39m*\u001b[39m\u001b[39m*\u001b[39mkwargs)\n\u001b[1;32m    280\u001b[0m sleep_generator \u001b[39m=\u001b[39m exponential_sleep_generator(\n\u001b[1;32m    281\u001b[0m     \u001b[39mself\u001b[39m\u001b[39m.\u001b[39m_initial, \u001b[39mself\u001b[39m\u001b[39m.\u001b[39m_maximum, multiplier\u001b[39m=\u001b[39m\u001b[39mself\u001b[39m\u001b[39m.\u001b[39m_multiplier\n\u001b[1;32m    282\u001b[0m )\n\u001b[0;32m--> 283\u001b[0m \u001b[39mreturn\u001b[39;00m retry_target(\n\u001b[1;32m    284\u001b[0m     target,\n\u001b[1;32m    285\u001b[0m     \u001b[39mself\u001b[39;49m\u001b[39m.\u001b[39;49m_predicate,\n\u001b[1;32m    286\u001b[0m     sleep_generator,\n\u001b[1;32m    287\u001b[0m     \u001b[39mself\u001b[39;49m\u001b[39m.\u001b[39;49m_deadline,\n\u001b[1;32m    288\u001b[0m     on_error\u001b[39m=\u001b[39;49mon_error,\n\u001b[1;32m    289\u001b[0m )\n",
      "File \u001b[0;32m~/.pyenv/versions/3.10.6/envs/lewagon/lib/python3.10/site-packages/google/api_core/retry.py:190\u001b[0m, in \u001b[0;36mretry_target\u001b[0;34m(target, predicate, sleep_generator, deadline, on_error)\u001b[0m\n\u001b[1;32m    188\u001b[0m \u001b[39mfor\u001b[39;00m sleep \u001b[39min\u001b[39;00m sleep_generator:\n\u001b[1;32m    189\u001b[0m     \u001b[39mtry\u001b[39;00m:\n\u001b[0;32m--> 190\u001b[0m         \u001b[39mreturn\u001b[39;00m target()\n\u001b[1;32m    192\u001b[0m     \u001b[39m# pylint: disable=broad-except\u001b[39;00m\n\u001b[1;32m    193\u001b[0m     \u001b[39m# This function explicitly must deal with broad exceptions.\u001b[39;00m\n\u001b[1;32m    194\u001b[0m     \u001b[39mexcept\u001b[39;00m \u001b[39mException\u001b[39;00m \u001b[39mas\u001b[39;00m exc:\n",
      "File \u001b[0;32m~/.pyenv/versions/3.10.6/envs/lewagon/lib/python3.10/site-packages/google/api_core/grpc_helpers.py:74\u001b[0m, in \u001b[0;36m_wrap_unary_errors.<locals>.error_remapped_callable\u001b[0;34m(*args, **kwargs)\u001b[0m\n\u001b[1;32m     72\u001b[0m     \u001b[39mreturn\u001b[39;00m callable_(\u001b[39m*\u001b[39margs, \u001b[39m*\u001b[39m\u001b[39m*\u001b[39mkwargs)\n\u001b[1;32m     73\u001b[0m \u001b[39mexcept\u001b[39;00m grpc\u001b[39m.\u001b[39mRpcError \u001b[39mas\u001b[39;00m exc:\n\u001b[0;32m---> 74\u001b[0m     \u001b[39mraise\u001b[39;00m exceptions\u001b[39m.\u001b[39mfrom_grpc_error(exc) \u001b[39mfrom\u001b[39;00m \u001b[39mexc\u001b[39;00m\n",
      "\u001b[0;31mPermissionDenied\u001b[0m: 403 request failed: the user does not have 'bigquery.readsessions.create' permission for 'projects/skyscanner-insights-343713'"
     ]
    }
   ],
   "source": [
    "the_data = results.to_dataframe()\n"
   ]
  },
  {
   "cell_type": "code",
   "execution_count": null,
   "metadata": {},
   "outputs": [],
   "source": []
  }
 ],
 "metadata": {
  "kernelspec": {
   "display_name": "Python 3 (ipykernel)",
   "language": "python",
   "name": "python3"
  },
  "language_info": {
   "codemirror_mode": {
    "name": "ipython",
    "version": 3
   },
   "file_extension": ".py",
   "mimetype": "text/x-python",
   "name": "python",
   "nbconvert_exporter": "python",
   "pygments_lexer": "ipython3",
   "version": "3.11.2"
  }
 },
 "nbformat": 4,
 "nbformat_minor": 4
}
