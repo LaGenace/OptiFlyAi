{
 "cells": [
  {
   "cell_type": "code",
   "execution_count": 1,
   "metadata": {},
   "outputs": [],
   "source": [
    "import os\n",
    "import sys\n",
    "sys.path.insert(0, '..')\n",
    "\n",
    "from google.cloud import bigquery\n",
    "from google.oauth2 import service_account\n",
    "\n",
    "from google.cloud import bigquery\n",
    "from google.oauth2 import service_account\n",
    "\n",
    "import pandas as pd\n",
    "import matplotlib.pyplot as plt\n",
    "from decouple import config\n",
    "import json\n",
    "import numpy as np\n",
    "import seaborn as sns\n",
    "\n",
    "from sklearn.linear_model import LinearRegression\n",
    "\n",
    "from authenticate_service_account import main\n",
    "from utils import *\n",
    "\n",
    "from sklearn.model_selection import train_test_split\n",
    "\n",
    "from scipy import stats\n",
    "\n",
    "from sklearn.linear_model import LinearRegression\n",
    "from sklearn.metrics import mean_squared_error, mean_absolute_error\n",
    "\n",
    "from sklearn.preprocessing import MinMaxScaler\n",
    "\n",
    "from sklearn.metrics import r2_score\n",
    "\n",
    "import category_encoders as ce\n",
    "from scipy import stats\n",
    "\n",
    "from sklearn.preprocessing import MinMaxScaler\n",
    "\n",
    "from sklearn.neighbors import KNeighborsRegressor\n",
    "\n",
    "from keras.models import load_model\n",
    "\n",
    "from keras.callbacks import EarlyStopping\n",
    "from tensorflow import keras\n",
    "from tensorflow.keras import layers, Sequential\n",
    "\n",
    "from joblib import dump, load\n"
   ]
  },
  {
   "cell_type": "code",
   "execution_count": 2,
   "metadata": {},
   "outputs": [],
   "source": [
    "def ants_preprocess(data):\n",
    "    data_with_od = create_od_column(data, ['OriginCty', 'DestinationCty'])\n",
    "\n",
    "    data_with_layover = calculate_total_layover_time(data_with_od, as_ratio=True)\n",
    "\n",
    "    data_with_layover2 = calculate_distance_difference(data_with_layover, as_ratio=True)\n",
    "\n",
    "    data_with_redirect_ratio = redirect_ratio(data_with_layover2)\n",
    "\n",
    "    droped_values = drop_neg_layover_time(data_with_redirect_ratio)\n",
    "\n",
    "    return droped_values\n"
   ]
  },
  {
   "cell_type": "code",
   "execution_count": 3,
   "metadata": {},
   "outputs": [],
   "source": [
    "def convert_bool_to_num(value):\n",
    "    return 0 if value else 1\n"
   ]
  },
  {
   "cell_type": "code",
   "execution_count": 4,
   "metadata": {},
   "outputs": [],
   "source": [
    "data = pd.read_csv('../raw_data/all_data_30_horizon_with_day_of_week')\n",
    "data.dropna(subset=['OriginApt', 'DestinationCty'], inplace=True)\n"
   ]
  },
  {
   "cell_type": "code",
   "execution_count": 5,
   "metadata": {},
   "outputs": [],
   "source": [
    "economy_flights = data[data['PricePerPax']< 1500].copy()\n"
   ]
  },
  {
   "cell_type": "code",
   "execution_count": 6,
   "metadata": {},
   "outputs": [],
   "source": [
    "processed_data = ants_preprocess(economy_flights)\n"
   ]
  },
  {
   "cell_type": "code",
   "execution_count": 7,
   "metadata": {},
   "outputs": [],
   "source": [
    "# Creating our target\n",
    "df_with_target = scale_itin_redirects(processed_data, 'ItineraryRedirects', 0, 50)\n"
   ]
  },
  {
   "cell_type": "code",
   "execution_count": 8,
   "metadata": {},
   "outputs": [],
   "source": [
    "columns = ['Stops','DurationMin', 'total_layover_time_ratio', 'OriginApt', 'DestinationApt',\n",
    "            'total_distance_traveled','extra_travel_distance_ratio', 'TravelHorizonDays',\n",
    "            'Seg_0_OperatingCarrierIATA', 'Seg_1_OperatingCarrierIATA', 'Seg_2_OperatingCarrierIATA', 'Seg_3_OperatingCarrierIATA',\n",
    "            'TravelDistanceKm', 'PricePerPax', 'SelfTransfer', \"Score_Z_score_0_50\"]\n",
    "\n",
    "box_cox_columns = ['DurationMin', 'TravelDistanceKm','extra_travel_distance_ratio', 'PricePerPax']\n",
    "\n",
    "yeo_johnson_columns = ['total_layover_time_ratio']\n",
    "\n",
    "min_max_scaling = ['TravelHorizonDays','Stops']\n"
   ]
  },
  {
   "cell_type": "code",
   "execution_count": 9,
   "metadata": {},
   "outputs": [
    {
     "data": {
      "text/plain": [
       "(3597748, 16)"
      ]
     },
     "execution_count": 9,
     "metadata": {},
     "output_type": "execute_result"
    }
   ],
   "source": [
    "df_with_target[columns].shape\n"
   ]
  },
  {
   "cell_type": "code",
   "execution_count": 10,
   "metadata": {},
   "outputs": [],
   "source": [
    "def feature_engineering(processed_data, list_of_columns,\n",
    "                        box_cox_columns, yeo_johnson_columns, min_max_scaling,\n",
    "                        return_encoders=False):\n",
    "\n",
    "    model_data = processed_data[list_of_columns]\n",
    "\n",
    "    #Binary encoding origin and destination\n",
    "    o_encoder = ce.BinaryEncoder(cols=['OriginApt'])\n",
    "    df_binary = o_encoder.fit_transform(model_data)\n",
    "\n",
    "    d_encoder = ce.BinaryEncoder(cols=['DestinationApt'])\n",
    "    all_binary = d_encoder.fit_transform(df_binary)\n",
    "\n",
    "    # Scaling other features\n",
    "\n",
    "    # Box cox\n",
    "    for col in box_cox_columns:\n",
    "        all_binary[col], box_lambda = stats.boxcox(all_binary[col])\n",
    "\n",
    "    # Yeo-johnson\n",
    "    for col in yeo_johnson_columns:\n",
    "        all_binary[col], yeo_lambda = stats.yeojohnson(all_binary[col])\n",
    "\n",
    "    #Min max scaling\n",
    "    minmax_scaler = MinMaxScaler()\n",
    "    all_binary[min_max_scaling] = minmax_scaler.fit_transform(all_binary[min_max_scaling])\n",
    "\n",
    "    # # Cyclical encoding\n",
    "    # all_binary['sin_day'] = np.sin(2 * np.pi * all_binary['dayofweek'] / 7)\n",
    "    # all_binary['cos_day'] = np.cos(2 * np.pi * all_binary['dayofweek'] / 7)\n",
    "\n",
    "    # Binary encoding Operator IATA'\n",
    "    seg_0_encoder = ce.BinaryEncoder(cols=['Seg_0_OperatingCarrierIATA'])\n",
    "    seg_0_binary = seg_0_encoder.fit_transform(all_binary)\n",
    "\n",
    "    seg_1_encoder = ce.BinaryEncoder(cols=['Seg_1_OperatingCarrierIATA'])\n",
    "    seg_1_binary = seg_1_encoder.fit_transform(seg_0_binary)\n",
    "\n",
    "    seg_2_encoder = ce.BinaryEncoder(cols=['Seg_2_OperatingCarrierIATA'])\n",
    "    seg_2_binary = seg_2_encoder.fit_transform(seg_1_binary)\n",
    "\n",
    "    seg_3_encoder = ce.BinaryEncoder(cols=['Seg_3_OperatingCarrierIATA'])\n",
    "    seg_3_binary = seg_3_encoder.fit_transform(seg_2_binary)\n",
    "\n",
    "    if return_encoders == False:\n",
    "        return seg_3_binary\n",
    "    else:\n",
    "        class PreprocessScalers:\n",
    "            def __init__(self, o_encoder, d_encoder, box_lambda, yeo_lambda, minmax_scaler, seg_0_encoder, seg_1_encoder, seg_2_encoder, seg_3_encoder):\n",
    "                self.o_encoder = o_encoder\n",
    "                self.d_encoder = d_encoder\n",
    "                self.box_lambda = box_lambda\n",
    "                self.yeo_lambda = yeo_lambda\n",
    "                self.minmax_scaler = minmax_scaler\n",
    "                self.seg_0_encoder = seg_0_encoder\n",
    "                self.seg_1_encoder = seg_1_encoder\n",
    "                self.seg_2_encoder = seg_2_encoder\n",
    "                self.seg_3_encoder = seg_3_encoder\n",
    "\n",
    "        scalers = PreprocessScalers(o_encoder, d_encoder, box_lambda, yeo_lambda, minmax_scaler, seg_0_encoder, seg_1_encoder, seg_2_encoder, seg_3_encoder)\n",
    "\n",
    "        return seg_3_binary, scalers\n"
   ]
  },
  {
   "cell_type": "code",
   "execution_count": 11,
   "metadata": {},
   "outputs": [],
   "source": [
    "model_ready_data, PreprocessScalers = feature_engineering(df_with_target, columns,\n",
    "                                       box_cox_columns, yeo_johnson_columns, min_max_scaling, return_encoders=True)\n"
   ]
  },
  {
   "cell_type": "code",
   "execution_count": 12,
   "metadata": {},
   "outputs": [
    {
     "data": {
      "text/html": [
       "<div>\n",
       "<style scoped>\n",
       "    .dataframe tbody tr th:only-of-type {\n",
       "        vertical-align: middle;\n",
       "    }\n",
       "\n",
       "    .dataframe tbody tr th {\n",
       "        vertical-align: top;\n",
       "    }\n",
       "\n",
       "    .dataframe thead th {\n",
       "        text-align: right;\n",
       "    }\n",
       "</style>\n",
       "<table border=\"1\" class=\"dataframe\">\n",
       "  <thead>\n",
       "    <tr style=\"text-align: right;\">\n",
       "      <th></th>\n",
       "      <th>Stops</th>\n",
       "      <th>DurationMin</th>\n",
       "      <th>total_layover_time_ratio</th>\n",
       "      <th>OriginApt_0</th>\n",
       "      <th>OriginApt_1</th>\n",
       "      <th>OriginApt_2</th>\n",
       "      <th>OriginApt_3</th>\n",
       "      <th>OriginApt_4</th>\n",
       "      <th>OriginApt_5</th>\n",
       "      <th>OriginApt_6</th>\n",
       "      <th>...</th>\n",
       "      <th>Seg_3_OperatingCarrierIATA_3</th>\n",
       "      <th>Seg_3_OperatingCarrierIATA_4</th>\n",
       "      <th>Seg_3_OperatingCarrierIATA_5</th>\n",
       "      <th>Seg_3_OperatingCarrierIATA_6</th>\n",
       "      <th>Seg_3_OperatingCarrierIATA_7</th>\n",
       "      <th>Seg_3_OperatingCarrierIATA_8</th>\n",
       "      <th>TravelDistanceKm</th>\n",
       "      <th>PricePerPax</th>\n",
       "      <th>SelfTransfer</th>\n",
       "      <th>Score_Z_score_0_50</th>\n",
       "    </tr>\n",
       "  </thead>\n",
       "  <tbody>\n",
       "    <tr>\n",
       "      <th>31</th>\n",
       "      <td>0.333333</td>\n",
       "      <td>3.039457</td>\n",
       "      <td>0.106491</td>\n",
       "      <td>0</td>\n",
       "      <td>0</td>\n",
       "      <td>0</td>\n",
       "      <td>0</td>\n",
       "      <td>0</td>\n",
       "      <td>0</td>\n",
       "      <td>0</td>\n",
       "      <td>...</td>\n",
       "      <td>1</td>\n",
       "      <td>0</td>\n",
       "      <td>0</td>\n",
       "      <td>1</td>\n",
       "      <td>0</td>\n",
       "      <td>1</td>\n",
       "      <td>7.318372</td>\n",
       "      <td>5.602782</td>\n",
       "      <td>False</td>\n",
       "      <td>4.105183</td>\n",
       "    </tr>\n",
       "    <tr>\n",
       "      <th>32</th>\n",
       "      <td>0.333333</td>\n",
       "      <td>3.015119</td>\n",
       "      <td>0.092163</td>\n",
       "      <td>0</td>\n",
       "      <td>0</td>\n",
       "      <td>0</td>\n",
       "      <td>0</td>\n",
       "      <td>0</td>\n",
       "      <td>0</td>\n",
       "      <td>0</td>\n",
       "      <td>...</td>\n",
       "      <td>1</td>\n",
       "      <td>0</td>\n",
       "      <td>0</td>\n",
       "      <td>1</td>\n",
       "      <td>0</td>\n",
       "      <td>1</td>\n",
       "      <td>7.196344</td>\n",
       "      <td>5.687526</td>\n",
       "      <td>False</td>\n",
       "      <td>NaN</td>\n",
       "    </tr>\n",
       "    <tr>\n",
       "      <th>33</th>\n",
       "      <td>0.333333</td>\n",
       "      <td>2.946094</td>\n",
       "      <td>0.098941</td>\n",
       "      <td>0</td>\n",
       "      <td>0</td>\n",
       "      <td>0</td>\n",
       "      <td>0</td>\n",
       "      <td>0</td>\n",
       "      <td>0</td>\n",
       "      <td>0</td>\n",
       "      <td>...</td>\n",
       "      <td>1</td>\n",
       "      <td>0</td>\n",
       "      <td>0</td>\n",
       "      <td>1</td>\n",
       "      <td>0</td>\n",
       "      <td>1</td>\n",
       "      <td>6.760897</td>\n",
       "      <td>5.168417</td>\n",
       "      <td>False</td>\n",
       "      <td>NaN</td>\n",
       "    </tr>\n",
       "    <tr>\n",
       "      <th>34</th>\n",
       "      <td>0.333333</td>\n",
       "      <td>3.062777</td>\n",
       "      <td>0.087019</td>\n",
       "      <td>0</td>\n",
       "      <td>0</td>\n",
       "      <td>0</td>\n",
       "      <td>0</td>\n",
       "      <td>0</td>\n",
       "      <td>0</td>\n",
       "      <td>0</td>\n",
       "      <td>...</td>\n",
       "      <td>1</td>\n",
       "      <td>0</td>\n",
       "      <td>0</td>\n",
       "      <td>1</td>\n",
       "      <td>0</td>\n",
       "      <td>1</td>\n",
       "      <td>7.433209</td>\n",
       "      <td>6.215339</td>\n",
       "      <td>False</td>\n",
       "      <td>3.051040</td>\n",
       "    </tr>\n",
       "    <tr>\n",
       "      <th>35</th>\n",
       "      <td>0.333333</td>\n",
       "      <td>2.997628</td>\n",
       "      <td>0.098312</td>\n",
       "      <td>0</td>\n",
       "      <td>0</td>\n",
       "      <td>0</td>\n",
       "      <td>0</td>\n",
       "      <td>0</td>\n",
       "      <td>0</td>\n",
       "      <td>0</td>\n",
       "      <td>...</td>\n",
       "      <td>1</td>\n",
       "      <td>0</td>\n",
       "      <td>0</td>\n",
       "      <td>1</td>\n",
       "      <td>0</td>\n",
       "      <td>1</td>\n",
       "      <td>7.096676</td>\n",
       "      <td>6.064113</td>\n",
       "      <td>False</td>\n",
       "      <td>2.206968</td>\n",
       "    </tr>\n",
       "    <tr>\n",
       "      <th>...</th>\n",
       "      <td>...</td>\n",
       "      <td>...</td>\n",
       "      <td>...</td>\n",
       "      <td>...</td>\n",
       "      <td>...</td>\n",
       "      <td>...</td>\n",
       "      <td>...</td>\n",
       "      <td>...</td>\n",
       "      <td>...</td>\n",
       "      <td>...</td>\n",
       "      <td>...</td>\n",
       "      <td>...</td>\n",
       "      <td>...</td>\n",
       "      <td>...</td>\n",
       "      <td>...</td>\n",
       "      <td>...</td>\n",
       "      <td>...</td>\n",
       "      <td>...</td>\n",
       "      <td>...</td>\n",
       "      <td>...</td>\n",
       "      <td>...</td>\n",
       "    </tr>\n",
       "    <tr>\n",
       "      <th>3699660</th>\n",
       "      <td>0.000000</td>\n",
       "      <td>2.636230</td>\n",
       "      <td>-0.000000</td>\n",
       "      <td>0</td>\n",
       "      <td>0</td>\n",
       "      <td>1</td>\n",
       "      <td>0</td>\n",
       "      <td>0</td>\n",
       "      <td>1</td>\n",
       "      <td>0</td>\n",
       "      <td>...</td>\n",
       "      <td>1</td>\n",
       "      <td>0</td>\n",
       "      <td>0</td>\n",
       "      <td>1</td>\n",
       "      <td>0</td>\n",
       "      <td>1</td>\n",
       "      <td>5.955061</td>\n",
       "      <td>5.222104</td>\n",
       "      <td>False</td>\n",
       "      <td>2.198663</td>\n",
       "    </tr>\n",
       "    <tr>\n",
       "      <th>3699661</th>\n",
       "      <td>0.000000</td>\n",
       "      <td>2.636230</td>\n",
       "      <td>-0.000000</td>\n",
       "      <td>0</td>\n",
       "      <td>0</td>\n",
       "      <td>1</td>\n",
       "      <td>0</td>\n",
       "      <td>0</td>\n",
       "      <td>1</td>\n",
       "      <td>0</td>\n",
       "      <td>...</td>\n",
       "      <td>1</td>\n",
       "      <td>0</td>\n",
       "      <td>0</td>\n",
       "      <td>1</td>\n",
       "      <td>0</td>\n",
       "      <td>1</td>\n",
       "      <td>5.955061</td>\n",
       "      <td>5.115096</td>\n",
       "      <td>False</td>\n",
       "      <td>2.794569</td>\n",
       "    </tr>\n",
       "    <tr>\n",
       "      <th>3699662</th>\n",
       "      <td>0.000000</td>\n",
       "      <td>2.704774</td>\n",
       "      <td>-0.000000</td>\n",
       "      <td>0</td>\n",
       "      <td>0</td>\n",
       "      <td>1</td>\n",
       "      <td>0</td>\n",
       "      <td>0</td>\n",
       "      <td>1</td>\n",
       "      <td>0</td>\n",
       "      <td>...</td>\n",
       "      <td>1</td>\n",
       "      <td>0</td>\n",
       "      <td>0</td>\n",
       "      <td>1</td>\n",
       "      <td>0</td>\n",
       "      <td>1</td>\n",
       "      <td>6.212177</td>\n",
       "      <td>4.803804</td>\n",
       "      <td>False</td>\n",
       "      <td>3.783916</td>\n",
       "    </tr>\n",
       "    <tr>\n",
       "      <th>3699663</th>\n",
       "      <td>0.000000</td>\n",
       "      <td>2.704774</td>\n",
       "      <td>-0.000000</td>\n",
       "      <td>0</td>\n",
       "      <td>0</td>\n",
       "      <td>1</td>\n",
       "      <td>0</td>\n",
       "      <td>0</td>\n",
       "      <td>1</td>\n",
       "      <td>0</td>\n",
       "      <td>...</td>\n",
       "      <td>1</td>\n",
       "      <td>0</td>\n",
       "      <td>0</td>\n",
       "      <td>1</td>\n",
       "      <td>0</td>\n",
       "      <td>1</td>\n",
       "      <td>6.212177</td>\n",
       "      <td>4.781246</td>\n",
       "      <td>False</td>\n",
       "      <td>3.014033</td>\n",
       "    </tr>\n",
       "    <tr>\n",
       "      <th>3699664</th>\n",
       "      <td>0.000000</td>\n",
       "      <td>2.624260</td>\n",
       "      <td>-0.000000</td>\n",
       "      <td>0</td>\n",
       "      <td>0</td>\n",
       "      <td>1</td>\n",
       "      <td>0</td>\n",
       "      <td>0</td>\n",
       "      <td>1</td>\n",
       "      <td>0</td>\n",
       "      <td>...</td>\n",
       "      <td>1</td>\n",
       "      <td>0</td>\n",
       "      <td>0</td>\n",
       "      <td>1</td>\n",
       "      <td>0</td>\n",
       "      <td>1</td>\n",
       "      <td>5.825430</td>\n",
       "      <td>4.478008</td>\n",
       "      <td>False</td>\n",
       "      <td>3.772262</td>\n",
       "    </tr>\n",
       "  </tbody>\n",
       "</table>\n",
       "<p>3597748 rows × 72 columns</p>\n",
       "</div>"
      ],
      "text/plain": [
       "            Stops  DurationMin  total_layover_time_ratio  OriginApt_0  \\\n",
       "31       0.333333     3.039457                  0.106491            0   \n",
       "32       0.333333     3.015119                  0.092163            0   \n",
       "33       0.333333     2.946094                  0.098941            0   \n",
       "34       0.333333     3.062777                  0.087019            0   \n",
       "35       0.333333     2.997628                  0.098312            0   \n",
       "...           ...          ...                       ...          ...   \n",
       "3699660  0.000000     2.636230                 -0.000000            0   \n",
       "3699661  0.000000     2.636230                 -0.000000            0   \n",
       "3699662  0.000000     2.704774                 -0.000000            0   \n",
       "3699663  0.000000     2.704774                 -0.000000            0   \n",
       "3699664  0.000000     2.624260                 -0.000000            0   \n",
       "\n",
       "         OriginApt_1  OriginApt_2  OriginApt_3  OriginApt_4  OriginApt_5  \\\n",
       "31                 0            0            0            0            0   \n",
       "32                 0            0            0            0            0   \n",
       "33                 0            0            0            0            0   \n",
       "34                 0            0            0            0            0   \n",
       "35                 0            0            0            0            0   \n",
       "...              ...          ...          ...          ...          ...   \n",
       "3699660            0            1            0            0            1   \n",
       "3699661            0            1            0            0            1   \n",
       "3699662            0            1            0            0            1   \n",
       "3699663            0            1            0            0            1   \n",
       "3699664            0            1            0            0            1   \n",
       "\n",
       "         OriginApt_6  ...  Seg_3_OperatingCarrierIATA_3  \\\n",
       "31                 0  ...                             1   \n",
       "32                 0  ...                             1   \n",
       "33                 0  ...                             1   \n",
       "34                 0  ...                             1   \n",
       "35                 0  ...                             1   \n",
       "...              ...  ...                           ...   \n",
       "3699660            0  ...                             1   \n",
       "3699661            0  ...                             1   \n",
       "3699662            0  ...                             1   \n",
       "3699663            0  ...                             1   \n",
       "3699664            0  ...                             1   \n",
       "\n",
       "         Seg_3_OperatingCarrierIATA_4  Seg_3_OperatingCarrierIATA_5  \\\n",
       "31                                  0                             0   \n",
       "32                                  0                             0   \n",
       "33                                  0                             0   \n",
       "34                                  0                             0   \n",
       "35                                  0                             0   \n",
       "...                               ...                           ...   \n",
       "3699660                             0                             0   \n",
       "3699661                             0                             0   \n",
       "3699662                             0                             0   \n",
       "3699663                             0                             0   \n",
       "3699664                             0                             0   \n",
       "\n",
       "         Seg_3_OperatingCarrierIATA_6  Seg_3_OperatingCarrierIATA_7  \\\n",
       "31                                  1                             0   \n",
       "32                                  1                             0   \n",
       "33                                  1                             0   \n",
       "34                                  1                             0   \n",
       "35                                  1                             0   \n",
       "...                               ...                           ...   \n",
       "3699660                             1                             0   \n",
       "3699661                             1                             0   \n",
       "3699662                             1                             0   \n",
       "3699663                             1                             0   \n",
       "3699664                             1                             0   \n",
       "\n",
       "         Seg_3_OperatingCarrierIATA_8  TravelDistanceKm  PricePerPax  \\\n",
       "31                                  1          7.318372     5.602782   \n",
       "32                                  1          7.196344     5.687526   \n",
       "33                                  1          6.760897     5.168417   \n",
       "34                                  1          7.433209     6.215339   \n",
       "35                                  1          7.096676     6.064113   \n",
       "...                               ...               ...          ...   \n",
       "3699660                             1          5.955061     5.222104   \n",
       "3699661                             1          5.955061     5.115096   \n",
       "3699662                             1          6.212177     4.803804   \n",
       "3699663                             1          6.212177     4.781246   \n",
       "3699664                             1          5.825430     4.478008   \n",
       "\n",
       "         SelfTransfer  Score_Z_score_0_50  \n",
       "31              False            4.105183  \n",
       "32              False                 NaN  \n",
       "33              False                 NaN  \n",
       "34              False            3.051040  \n",
       "35              False            2.206968  \n",
       "...               ...                 ...  \n",
       "3699660         False            2.198663  \n",
       "3699661         False            2.794569  \n",
       "3699662         False            3.783916  \n",
       "3699663         False            3.014033  \n",
       "3699664         False            3.772262  \n",
       "\n",
       "[3597748 rows x 72 columns]"
      ]
     },
     "execution_count": 12,
     "metadata": {},
     "output_type": "execute_result"
    }
   ],
   "source": [
    "model_ready_data\n"
   ]
  },
  {
   "cell_type": "code",
   "execution_count": 13,
   "metadata": {},
   "outputs": [],
   "source": [
    "# cols_to_drop = ['Z_Score', 'MinMax_Scaled','MinMax_Scaled',\n",
    "#                 'Score_min_max', 'Score_Z_score']\n"
   ]
  },
  {
   "cell_type": "code",
   "execution_count": 14,
   "metadata": {},
   "outputs": [],
   "source": [
    "# data_with_target = model_ready_data.drop(columns=cols_to_drop).copy()\n"
   ]
  },
  {
   "cell_type": "code",
   "execution_count": 15,
   "metadata": {},
   "outputs": [],
   "source": [
    "model_ready_data['Score_Z_score_0_50'] = model_ready_data['Score_Z_score_0_50'].fillna(0)\n"
   ]
  },
  {
   "cell_type": "code",
   "execution_count": 16,
   "metadata": {},
   "outputs": [],
   "source": [
    "model_ready_data['SelfTransfer'] = model_ready_data['SelfTransfer'].apply(convert_bool_to_num)\n"
   ]
  },
  {
   "cell_type": "code",
   "execution_count": 17,
   "metadata": {},
   "outputs": [],
   "source": [
    "clean_and_processed_data = model_ready_data.copy()\n"
   ]
  },
  {
   "cell_type": "markdown",
   "metadata": {},
   "source": [
    "# Modelin'"
   ]
  },
  {
   "cell_type": "code",
   "execution_count": 18,
   "metadata": {},
   "outputs": [],
   "source": [
    "X_train, X_test, y_train, y_test = train_test_split(clean_and_processed_data.drop('Score_Z_score_0_50',\n",
    "                                                                                axis=1), clean_and_processed_data['Score_Z_score_0_50'], random_state=42)\n",
    "\n",
    "X_train_all, X_test_all, y_train_all, y_test_all = train_test_split(processed_data.drop('Seg_3_OperatingCarrierIATA',\n",
    "                                                                                axis=1), processed_data['Seg_3_OperatingCarrierIATA'], random_state=42)\n"
   ]
  },
  {
   "cell_type": "code",
   "execution_count": 156,
   "metadata": {},
   "outputs": [],
   "source": [
    "# k = 50\n",
    "# knn_50 = KNeighborsRegressor(n_neighbors=k, n_jobs=-1)\n",
    "# knn_50.fit(X_train, y_train)\n"
   ]
  },
  {
   "cell_type": "code",
   "execution_count": 157,
   "metadata": {},
   "outputs": [],
   "source": [
    "# y_pred_knn = knn_50.predict(X_test)\n"
   ]
  },
  {
   "cell_type": "code",
   "execution_count": 158,
   "metadata": {},
   "outputs": [],
   "source": [
    "# r2_score(y_true=y_test, y_pred=y_pred_knn)\n"
   ]
  },
  {
   "cell_type": "code",
   "execution_count": 159,
   "metadata": {},
   "outputs": [],
   "source": [
    "# knn_50_performance_df = pd.DataFrame({'true_value':y_test, 'pred_value':y_pred_knn, 'DurationMin':X_test['DurationMin'],\n",
    "#                                   \"ODRedirects\":X_test_all['ODRedirects'], \"ItineraryRedirects\":X_test_all['ItineraryRedirects'],\n",
    "#                                   'Stops':X_test_all['Stops']})\n",
    "\n",
    "# knn_50_performance_df['difference'] = knn_50_performance_df['pred_value'] - knn_50_performance_df['true_value']\n"
   ]
  },
  {
   "cell_type": "code",
   "execution_count": 160,
   "metadata": {},
   "outputs": [],
   "source": [
    "# sns.scatterplot(knn_50_performance_df, x='ODRedirects', y='difference', alpha=0.5, hue='ItineraryRedirects')\n"
   ]
  },
  {
   "cell_type": "code",
   "execution_count": 163,
   "metadata": {},
   "outputs": [],
   "source": [
    "model = Sequential()\n",
    "model.add(layers.Dense(128, input_dim=73, activation='relu'))\n",
    "model.add(layers.Dense(64, activation='relu'))\n",
    "model.add(layers.Dense(64, activation='relu'))\n",
    "model.add(layers.Dense(64, activation='relu'))\n",
    "model.add(layers.Dense(64, activation='relu'))\n",
    "model.add(layers.Dense(1, activation='linear'))\n"
   ]
  },
  {
   "cell_type": "code",
   "execution_count": 164,
   "metadata": {},
   "outputs": [],
   "source": [
    "early_stopping = EarlyStopping(monitor='val_loss', min_delta=0.001, patience=3, verbose=1, mode='min', restore_best_weights=True)\n"
   ]
  },
  {
   "cell_type": "code",
   "execution_count": 165,
   "metadata": {},
   "outputs": [],
   "source": [
    "model.compile(loss='mse', optimizer='adam', metrics=['mae'])\n"
   ]
  },
  {
   "cell_type": "code",
   "execution_count": 166,
   "metadata": {},
   "outputs": [
    {
     "name": "stdout",
     "output_type": "stream",
     "text": [
      "Epoch 1/10\n",
      "8433/8433 [==============================] - 17s 2ms/step - loss: 3.3308 - mae: 0.9749 - val_loss: 2.0339 - val_mae: 1.0311\n",
      "Epoch 2/10\n",
      "8433/8433 [==============================] - 14s 2ms/step - loss: 1.7898 - mae: 0.8618 - val_loss: 1.7804 - val_mae: 0.8199\n",
      "Epoch 3/10\n",
      "8433/8433 [==============================] - 14s 2ms/step - loss: 1.7751 - mae: 0.8577 - val_loss: 1.7499 - val_mae: 0.8530\n",
      "Epoch 4/10\n",
      "8433/8433 [==============================] - 16s 2ms/step - loss: 1.7610 - mae: 0.8556 - val_loss: 1.7345 - val_mae: 0.8512\n",
      "Epoch 5/10\n",
      "8433/8433 [==============================] - 14s 2ms/step - loss: 1.7505 - mae: 0.8546 - val_loss: 1.7486 - val_mae: 0.8803\n",
      "Epoch 6/10\n",
      "8433/8433 [==============================] - 14s 2ms/step - loss: 1.7478 - mae: 0.8544 - val_loss: 1.7487 - val_mae: 0.8997\n",
      "Epoch 7/10\n",
      "8411/8433 [============================>.] - ETA: 0s - loss: 1.7453 - mae: 0.8540Restoring model weights from the end of the best epoch: 4.\n",
      "8433/8433 [==============================] - 14s 2ms/step - loss: 1.7453 - mae: 0.8540 - val_loss: 1.7445 - val_mae: 0.8302\n",
      "Epoch 7: early stopping\n"
     ]
    },
    {
     "data": {
      "text/plain": [
       "<keras.src.callbacks.History at 0x2c4e5ac50>"
      ]
     },
     "execution_count": 166,
     "metadata": {},
     "output_type": "execute_result"
    }
   ],
   "source": [
    "model.fit(X_train, y_train, epochs=10, batch_size=256, verbose=1, callbacks=[early_stopping], validation_split=0.2)\n"
   ]
  },
  {
   "cell_type": "code",
   "execution_count": null,
   "metadata": {},
   "outputs": [
    {
     "name": "stderr",
     "output_type": "stream",
     "text": [
      "/Users/antonis/.pyenv/versions/3.11.2/envs/OptiEnv/lib/python3.11/site-packages/keras/src/engine/training.py:3103: UserWarning: You are saving your model as an HDF5 file via `model.save()`. This file format is considered legacy. We recommend using instead the native Keras format, e.g. `model.save('my_model.keras')`.\n",
      "  saving_api.save_model(\n"
     ]
    }
   ],
   "source": [
    "# model = load_model('../models/ant_model_021223.h5')\n",
    "# model.save('../models/ant_model_071223.h5')\n"
   ]
  },
  {
   "cell_type": "code",
   "execution_count": 167,
   "metadata": {},
   "outputs": [
    {
     "name": "stdout",
     "output_type": "stream",
     "text": [
      "28108/28108 [==============================] - 11s 382us/step - loss: 1.7298 - mae: 0.8516\n",
      "Test Loss (MSE): 1.7298251390457153\n",
      "Test Error (MAE): 0.8515568375587463\n"
     ]
    }
   ],
   "source": [
    "test_loss, test_error = model.evaluate(X_test, y_test, verbose=1)\n",
    "\n",
    "# Print the results\n",
    "print(f\"Test Loss (MSE): {test_loss}\")\n",
    "print(f\"Test Error (MAE): {test_error}\")\n"
   ]
  },
  {
   "cell_type": "code",
   "execution_count": 168,
   "metadata": {},
   "outputs": [
    {
     "name": "stdout",
     "output_type": "stream",
     "text": [
      "28108/28108 [==============================] - 10s 352us/step\n"
     ]
    }
   ],
   "source": [
    "y_pred = model.predict(X_test)\n"
   ]
  },
  {
   "cell_type": "code",
   "execution_count": 169,
   "metadata": {},
   "outputs": [
    {
     "data": {
      "text/plain": [
       "array([2.9660165, 2.7956643, 2.6890879, ..., 2.9489   , 2.9652476,\n",
       "       2.7737792], dtype=float32)"
      ]
     },
     "execution_count": 169,
     "metadata": {},
     "output_type": "execute_result"
    }
   ],
   "source": [
    "y_pred.reshape(-1)\n"
   ]
  },
  {
   "cell_type": "code",
   "execution_count": 174,
   "metadata": {},
   "outputs": [],
   "source": [
    "knn_50_performance_df = pd.DataFrame({'true_value':y_test, 'pred_value':y_pred.reshape(-1), 'DurationMin':X_test['DurationMin'],\n",
    "                                  \"ODRedirects\":X_test_all['ODRedirects'], \"ItineraryRedirects\":X_test_all['ItineraryRedirects'],\n",
    "                                  'Stops':X_test_all['Stops'], 'redirect_ratio':X_test_all['redirect_ratio']})\n",
    "\n",
    "knn_50_performance_df['difference'] = knn_50_performance_df['pred_value'] - knn_50_performance_df['true_value']\n"
   ]
  },
  {
   "cell_type": "code",
   "execution_count": 180,
   "metadata": {},
   "outputs": [
    {
     "data": {
      "text/plain": [
       "<Axes: xlabel='ODRedirects', ylabel='difference'>"
      ]
     },
     "execution_count": 180,
     "metadata": {},
     "output_type": "execute_result"
    },
    {
     "data": {
      "image/png": "[encoded data removed]",
      "text/plain": [
       "<Figure size 2000x600 with 1 Axes>"
      ]
     },
     "metadata": {},
     "output_type": "display_data"
    }
   ],
   "source": [
    "plt.figure(figsize=(20, 6))\n",
    "sns.scatterplot(knn_50_performance_df, x='ODRedirects', y='difference', alpha=1, hue='ItineraryRedirects')\n"
   ]
  },
  {
   "cell_type": "markdown",
   "metadata": {},
   "source": [
    "# Dohop test dataset"
   ]
  },
  {
   "cell_type": "code",
   "execution_count": 19,
   "metadata": {},
   "outputs": [],
   "source": [
    "dohop_data = pd.read_csv('../raw_data/test_predictions.csv', index_col='Unnamed: 0')\n"
   ]
  },
  {
   "cell_type": "code",
   "execution_count": 20,
   "metadata": {},
   "outputs": [
    {
     "name": "stderr",
     "output_type": "stream",
     "text": [
      "/var/folders/62/d7t21rj54ls65fhypjm4ryb00000gn/T/ipykernel_3444/3831053749.py:6: SettingWithCopyWarning: \n",
      "A value is trying to be set on a copy of a slice from a DataFrame\n",
      "\n",
      "See the caveats in the documentation: https://pandas.pydata.org/pandas-docs/stable/user_guide/indexing.html#returning-a-view-versus-a-copy\n",
      "  dohop_data['seg_0'][i] = listtt[0][:2]\n",
      "/var/folders/62/d7t21rj54ls65fhypjm4ryb00000gn/T/ipykernel_3444/3831053749.py:6: FutureWarning: Setting an item of incompatible dtype is deprecated and will raise in a future error of pandas. Value 'U2' has dtype incompatible with int64, please explicitly cast to a compatible dtype first.\n",
      "  dohop_data['seg_0'][i] = listtt[0][:2]\n",
      "/var/folders/62/d7t21rj54ls65fhypjm4ryb00000gn/T/ipykernel_3444/3831053749.py:7: SettingWithCopyWarning: \n",
      "A value is trying to be set on a copy of a slice from a DataFrame\n",
      "\n",
      "See the caveats in the documentation: https://pandas.pydata.org/pandas-docs/stable/user_guide/indexing.html#returning-a-view-versus-a-copy\n",
      "  dohop_data['seg_1'][i] = listtt[1].strip()[:2]\n",
      "/var/folders/62/d7t21rj54ls65fhypjm4ryb00000gn/T/ipykernel_3444/3831053749.py:7: FutureWarning: Setting an item of incompatible dtype is deprecated and will raise in a future error of pandas. Value 'U2' has dtype incompatible with int64, please explicitly cast to a compatible dtype first.\n",
      "  dohop_data['seg_1'][i] = listtt[1].strip()[:2]\n"
     ]
    }
   ],
   "source": [
    "dohop_data['seg_0'] = 0\n",
    "dohop_data['seg_1'] = 0\n",
    "\n",
    "for i in range(len(dohop_data)):\n",
    "    listtt = dohop_data['flights'][i].split(',')\n",
    "    dohop_data['seg_0'][i] = listtt[0][:2]\n",
    "    dohop_data['seg_1'][i] = listtt[1].strip()[:2]\n"
   ]
  },
  {
   "cell_type": "code",
   "execution_count": 21,
   "metadata": {},
   "outputs": [],
   "source": [
    "col_rename_dict = {'origin': 'OriginApt', 'destination':'DestinationApt', 'days_to_travel':'TravelHorizonDays', 'total_distance':'total_distance_traveled',\n",
    "                   'direct_distance':'TravelDistanceKm', 'total_minutes':'DurationMin', 'connection_time':'total_layover_time',\n",
    "                   'seg_0':'Seg_0_OperatingCarrierIATA', 'seg_1':'Seg_1_OperatingCarrierIATA', 'seg_2':'Seg_2_OperatingCarrierIATA', 'seg_3':'Seg_3_OperatingCarrierIATA'}\n"
   ]
  },
  {
   "cell_type": "code",
   "execution_count": 22,
   "metadata": {},
   "outputs": [],
   "source": [
    "dohop_data.drop(columns=['flights', 'connection_airport', 'pax',\n",
    "                         'bookings', 'total_price', 'predictions'], inplace=True)\n"
   ]
  },
  {
   "cell_type": "code",
   "execution_count": 49,
   "metadata": {},
   "outputs": [],
   "source": [
    "def create_df_of_all_categories(raw_data, data_to_be_processed, column):\n",
    "    \"\"\"\n",
    "    This creates a list of all categories, and appends it to existing data that needs processing\n",
    "    it appends the data, processes it, and drops the unnecesary columns\n",
    "    It then appends it back to the dataframe so it can be used in the next step\n",
    "    \"\"\"\n",
    "\n",
    "    # Creating dummy data\n",
    "    categories  = pd.DataFrame(raw_data[column].unique(), columns=[column])\n",
    "\n",
    "    #Isolating the important data\n",
    "    # data_for_processing = data_to_be_processed[[column]].copy()\n",
    "\n",
    "    # Merged data for encoding\n",
    "    merged_data = pd.concat([data_to_be_processed,categories])\n",
    "\n",
    "    return merged_data\n"
   ]
  },
  {
   "cell_type": "code",
   "execution_count": 50,
   "metadata": {},
   "outputs": [
    {
     "data": {
      "text/html": [
       "<div>\n",
       "<style scoped>\n",
       "    .dataframe tbody tr th:only-of-type {\n",
       "        vertical-align: middle;\n",
       "    }\n",
       "\n",
       "    .dataframe tbody tr th {\n",
       "        vertical-align: top;\n",
       "    }\n",
       "\n",
       "    .dataframe thead th {\n",
       "        text-align: right;\n",
       "    }\n",
       "</style>\n",
       "<table border=\"1\" class=\"dataframe\">\n",
       "  <thead>\n",
       "    <tr style=\"text-align: right;\">\n",
       "      <th></th>\n",
       "      <th>OriginApt</th>\n",
       "      <th>DestinationApt</th>\n",
       "      <th>DurationMin</th>\n",
       "      <th>total_layover_time</th>\n",
       "      <th>TravelHorizonDays</th>\n",
       "      <th>total_distance_traveled</th>\n",
       "      <th>TravelDistanceKm</th>\n",
       "      <th>SelfTransfer</th>\n",
       "      <th>total_layover_time_ratio</th>\n",
       "      <th>extra_travel_distance_ratio</th>\n",
       "      <th>PricePerPax</th>\n",
       "      <th>Seg_0_OperatingCarrierIATA</th>\n",
       "      <th>Seg_1_OperatingCarrierIATA</th>\n",
       "      <th>Seg_2_OperatingCarrierIATA</th>\n",
       "      <th>Seg_3_OperatingCarrierIATA</th>\n",
       "      <th>Stops</th>\n",
       "    </tr>\n",
       "  </thead>\n",
       "  <tbody>\n",
       "    <tr>\n",
       "      <th>0</th>\n",
       "      <td>MRS</td>\n",
       "      <td>MXP</td>\n",
       "      <td>160.0</td>\n",
       "      <td>105.0</td>\n",
       "      <td>9.0</td>\n",
       "      <td>1300.563</td>\n",
       "      <td>403.439</td>\n",
       "      <td>1.0</td>\n",
       "      <td>0.396226</td>\n",
       "      <td>3.223692</td>\n",
       "      <td>113.633395</td>\n",
       "      <td>U2</td>\n",
       "      <td>U2</td>\n",
       "      <td>NaN</td>\n",
       "      <td>NaN</td>\n",
       "      <td>1.0</td>\n",
       "    </tr>\n",
       "    <tr>\n",
       "      <th>1</th>\n",
       "      <td>JFK</td>\n",
       "      <td>TNG</td>\n",
       "      <td>565.0</td>\n",
       "      <td>170.0</td>\n",
       "      <td>13.0</td>\n",
       "      <td>7014.057</td>\n",
       "      <td>5811.312</td>\n",
       "      <td>1.0</td>\n",
       "      <td>0.231293</td>\n",
       "      <td>1.206966</td>\n",
       "      <td>289.801556</td>\n",
       "      <td>IB</td>\n",
       "      <td>3O</td>\n",
       "      <td>NaN</td>\n",
       "      <td>NaN</td>\n",
       "      <td>1.0</td>\n",
       "    </tr>\n",
       "    <tr>\n",
       "      <th>2</th>\n",
       "      <td>NBE</td>\n",
       "      <td>BRU</td>\n",
       "      <td>210.0</td>\n",
       "      <td>125.0</td>\n",
       "      <td>36.0</td>\n",
       "      <td>1693.643</td>\n",
       "      <td>1691.602</td>\n",
       "      <td>1.0</td>\n",
       "      <td>0.373134</td>\n",
       "      <td>1.001207</td>\n",
       "      <td>74.018052</td>\n",
       "      <td>U2</td>\n",
       "      <td>U2</td>\n",
       "      <td>NaN</td>\n",
       "      <td>NaN</td>\n",
       "      <td>1.0</td>\n",
       "    </tr>\n",
       "    <tr>\n",
       "      <th>3</th>\n",
       "      <td>GIB</td>\n",
       "      <td>AMS</td>\n",
       "      <td>255.0</td>\n",
       "      <td>250.0</td>\n",
       "      <td>10.0</td>\n",
       "      <td>2102.413</td>\n",
       "      <td>1963.491</td>\n",
       "      <td>1.0</td>\n",
       "      <td>0.495050</td>\n",
       "      <td>1.070753</td>\n",
       "      <td>284.314697</td>\n",
       "      <td>U2</td>\n",
       "      <td>U2</td>\n",
       "      <td>NaN</td>\n",
       "      <td>NaN</td>\n",
       "      <td>1.0</td>\n",
       "    </tr>\n",
       "    <tr>\n",
       "      <th>4</th>\n",
       "      <td>BCN</td>\n",
       "      <td>MCO</td>\n",
       "      <td>710.0</td>\n",
       "      <td>310.0</td>\n",
       "      <td>107.0</td>\n",
       "      <td>8130.504</td>\n",
       "      <td>7402.081</td>\n",
       "      <td>1.0</td>\n",
       "      <td>0.303922</td>\n",
       "      <td>1.098408</td>\n",
       "      <td>438.694302</td>\n",
       "      <td>U2</td>\n",
       "      <td>Z0</td>\n",
       "      <td>NaN</td>\n",
       "      <td>NaN</td>\n",
       "      <td>1.0</td>\n",
       "    </tr>\n",
       "    <tr>\n",
       "      <th>...</th>\n",
       "      <td>...</td>\n",
       "      <td>...</td>\n",
       "      <td>...</td>\n",
       "      <td>...</td>\n",
       "      <td>...</td>\n",
       "      <td>...</td>\n",
       "      <td>...</td>\n",
       "      <td>...</td>\n",
       "      <td>...</td>\n",
       "      <td>...</td>\n",
       "      <td>...</td>\n",
       "      <td>...</td>\n",
       "      <td>...</td>\n",
       "      <td>...</td>\n",
       "      <td>...</td>\n",
       "      <td>...</td>\n",
       "    </tr>\n",
       "    <tr>\n",
       "      <th>2691</th>\n",
       "      <td>NaN</td>\n",
       "      <td>PEU</td>\n",
       "      <td>NaN</td>\n",
       "      <td>NaN</td>\n",
       "      <td>NaN</td>\n",
       "      <td>NaN</td>\n",
       "      <td>NaN</td>\n",
       "      <td>NaN</td>\n",
       "      <td>NaN</td>\n",
       "      <td>NaN</td>\n",
       "      <td>NaN</td>\n",
       "      <td>NaN</td>\n",
       "      <td>NaN</td>\n",
       "      <td>NaN</td>\n",
       "      <td>NaN</td>\n",
       "      <td>NaN</td>\n",
       "    </tr>\n",
       "    <tr>\n",
       "      <th>2692</th>\n",
       "      <td>NaN</td>\n",
       "      <td>TEN</td>\n",
       "      <td>NaN</td>\n",
       "      <td>NaN</td>\n",
       "      <td>NaN</td>\n",
       "      <td>NaN</td>\n",
       "      <td>NaN</td>\n",
       "      <td>NaN</td>\n",
       "      <td>NaN</td>\n",
       "      <td>NaN</td>\n",
       "      <td>NaN</td>\n",
       "      <td>NaN</td>\n",
       "      <td>NaN</td>\n",
       "      <td>NaN</td>\n",
       "      <td>NaN</td>\n",
       "      <td>NaN</td>\n",
       "    </tr>\n",
       "    <tr>\n",
       "      <th>2693</th>\n",
       "      <td>NaN</td>\n",
       "      <td>PLH</td>\n",
       "      <td>NaN</td>\n",
       "      <td>NaN</td>\n",
       "      <td>NaN</td>\n",
       "      <td>NaN</td>\n",
       "      <td>NaN</td>\n",
       "      <td>NaN</td>\n",
       "      <td>NaN</td>\n",
       "      <td>NaN</td>\n",
       "      <td>NaN</td>\n",
       "      <td>NaN</td>\n",
       "      <td>NaN</td>\n",
       "      <td>NaN</td>\n",
       "      <td>NaN</td>\n",
       "      <td>NaN</td>\n",
       "    </tr>\n",
       "    <tr>\n",
       "      <th>2694</th>\n",
       "      <td>NaN</td>\n",
       "      <td>RFP</td>\n",
       "      <td>NaN</td>\n",
       "      <td>NaN</td>\n",
       "      <td>NaN</td>\n",
       "      <td>NaN</td>\n",
       "      <td>NaN</td>\n",
       "      <td>NaN</td>\n",
       "      <td>NaN</td>\n",
       "      <td>NaN</td>\n",
       "      <td>NaN</td>\n",
       "      <td>NaN</td>\n",
       "      <td>NaN</td>\n",
       "      <td>NaN</td>\n",
       "      <td>NaN</td>\n",
       "      <td>NaN</td>\n",
       "    </tr>\n",
       "    <tr>\n",
       "      <th>2695</th>\n",
       "      <td>NaN</td>\n",
       "      <td>ICI</td>\n",
       "      <td>NaN</td>\n",
       "      <td>NaN</td>\n",
       "      <td>NaN</td>\n",
       "      <td>NaN</td>\n",
       "      <td>NaN</td>\n",
       "      <td>NaN</td>\n",
       "      <td>NaN</td>\n",
       "      <td>NaN</td>\n",
       "      <td>NaN</td>\n",
       "      <td>NaN</td>\n",
       "      <td>NaN</td>\n",
       "      <td>NaN</td>\n",
       "      <td>NaN</td>\n",
       "      <td>NaN</td>\n",
       "    </tr>\n",
       "  </tbody>\n",
       "</table>\n",
       "<p>6429 rows × 16 columns</p>\n",
       "</div>"
      ],
      "text/plain": [
       "     OriginApt DestinationApt  DurationMin  total_layover_time  \\\n",
       "0          MRS            MXP        160.0               105.0   \n",
       "1          JFK            TNG        565.0               170.0   \n",
       "2          NBE            BRU        210.0               125.0   \n",
       "3          GIB            AMS        255.0               250.0   \n",
       "4          BCN            MCO        710.0               310.0   \n",
       "...        ...            ...          ...                 ...   \n",
       "2691       NaN            PEU          NaN                 NaN   \n",
       "2692       NaN            TEN          NaN                 NaN   \n",
       "2693       NaN            PLH          NaN                 NaN   \n",
       "2694       NaN            RFP          NaN                 NaN   \n",
       "2695       NaN            ICI          NaN                 NaN   \n",
       "\n",
       "      TravelHorizonDays  total_distance_traveled  TravelDistanceKm  \\\n",
       "0                   9.0                 1300.563           403.439   \n",
       "1                  13.0                 7014.057          5811.312   \n",
       "2                  36.0                 1693.643          1691.602   \n",
       "3                  10.0                 2102.413          1963.491   \n",
       "4                 107.0                 8130.504          7402.081   \n",
       "...                 ...                      ...               ...   \n",
       "2691                NaN                      NaN               NaN   \n",
       "2692                NaN                      NaN               NaN   \n",
       "2693                NaN                      NaN               NaN   \n",
       "2694                NaN                      NaN               NaN   \n",
       "2695                NaN                      NaN               NaN   \n",
       "\n",
       "      SelfTransfer  total_layover_time_ratio  extra_travel_distance_ratio  \\\n",
       "0              1.0                  0.396226                     3.223692   \n",
       "1              1.0                  0.231293                     1.206966   \n",
       "2              1.0                  0.373134                     1.001207   \n",
       "3              1.0                  0.495050                     1.070753   \n",
       "4              1.0                  0.303922                     1.098408   \n",
       "...            ...                       ...                          ...   \n",
       "2691           NaN                       NaN                          NaN   \n",
       "2692           NaN                       NaN                          NaN   \n",
       "2693           NaN                       NaN                          NaN   \n",
       "2694           NaN                       NaN                          NaN   \n",
       "2695           NaN                       NaN                          NaN   \n",
       "\n",
       "      PricePerPax Seg_0_OperatingCarrierIATA Seg_1_OperatingCarrierIATA  \\\n",
       "0      113.633395                         U2                         U2   \n",
       "1      289.801556                         IB                         3O   \n",
       "2       74.018052                         U2                         U2   \n",
       "3      284.314697                         U2                         U2   \n",
       "4      438.694302                         U2                         Z0   \n",
       "...           ...                        ...                        ...   \n",
       "2691          NaN                        NaN                        NaN   \n",
       "2692          NaN                        NaN                        NaN   \n",
       "2693          NaN                        NaN                        NaN   \n",
       "2694          NaN                        NaN                        NaN   \n",
       "2695          NaN                        NaN                        NaN   \n",
       "\n",
       "      Seg_2_OperatingCarrierIATA  Seg_3_OperatingCarrierIATA  Stops  \n",
       "0                            NaN                         NaN    1.0  \n",
       "1                            NaN                         NaN    1.0  \n",
       "2                            NaN                         NaN    1.0  \n",
       "3                            NaN                         NaN    1.0  \n",
       "4                            NaN                         NaN    1.0  \n",
       "...                          ...                         ...    ...  \n",
       "2691                         NaN                         NaN    NaN  \n",
       "2692                         NaN                         NaN    NaN  \n",
       "2693                         NaN                         NaN    NaN  \n",
       "2694                         NaN                         NaN    NaN  \n",
       "2695                         NaN                         NaN    NaN  \n",
       "\n",
       "[6429 rows x 16 columns]"
      ]
     },
     "execution_count": 50,
     "metadata": {},
     "output_type": "execute_result"
    }
   ],
   "source": [
    "create_df_of_all_categories(df_with_target, update_col_names, 'DestinationApt')\n"
   ]
  },
  {
   "cell_type": "code",
   "execution_count": 54,
   "metadata": {},
   "outputs": [],
   "source": [
    "def process_new_data(original_data, new_data, PreprocessScalers, box_cox_columns, yeo_johnson_columns):\n",
    "\n",
    "\n",
    "    #Binary encoding origin\n",
    "    df_binary = PreprocessScalers.o_encoder.transform(new_data)\n",
    "\n",
    "    # Binary encoding Destination\n",
    "    all_destination_cats = create_df_of_all_categories(df_with_target, df_binary, 'DestinationApt')\n",
    "    all_binary = PreprocessScalers.d_encoder.transform(all_destination_cats)\n",
    "    all_binary.dropna(subset='Stops', inplace=True)\n",
    "\n",
    "    # Scaling other features\n",
    "\n",
    "    # Box cox\n",
    "    for col in box_cox_columns:\n",
    "        all_binary[col]  = stats.boxcox(all_binary[col], lmbda=PreprocessScalers.box_lambda)\n",
    "\n",
    "    # Yeo-johnson\n",
    "    for col in yeo_johnson_columns:\n",
    "        all_binary[col] = stats.yeojohnson(all_binary[col], lmbda=PreprocessScalers.yeo_lambda)\n",
    "\n",
    "    #Min max scaling\n",
    "    all_binary[min_max_scaling] = PreprocessScalers.minmax_scaler.transform(all_binary[min_max_scaling])\n",
    "\n",
    "    # # Cyclical encoding\n",
    "    # all_binary['sin_day'] = np.sin(2 * np.pi * all_binary['dayofweek'] / 7)\n",
    "    # all_binary['cos_day'] = np.cos(2 * np.pi * all_binary['dayofweek'] / 7)\n",
    "\n",
    "    # Binary encoding Operator IATA'\n",
    "    seg_0_cats = create_df_of_all_categories(df_with_target, all_binary, 'Seg_0_OperatingCarrierIATA')\n",
    "    seg_0_binary = PreprocessScalers.seg_0_encoder.transform(seg_0_cats)\n",
    "    seg_0_binary.dropna(subset='Stops', inplace=True)\n",
    "\n",
    "    seg_1_cats = create_df_of_all_categories(df_with_target, seg_0_binary, 'Seg_1_OperatingCarrierIATA')\n",
    "    seg_1_binary = PreprocessScalers.seg_1_encoder.transform(seg_1_cats)\n",
    "    seg_1_binary.dropna(subset='Stops', inplace=True)\n",
    "\n",
    "    seg_2_cats = create_df_of_all_categories(df_with_target, seg_1_binary, 'Seg_2_OperatingCarrierIATA')\n",
    "    seg_2_binary = PreprocessScalers.seg_2_encoder.transform(seg_2_cats)\n",
    "    seg_2_binary.dropna(subset='Stops', inplace=True)\n",
    "\n",
    "    seg_3_cats = create_df_of_all_categories(df_with_target, seg_2_binary, 'Seg_3_OperatingCarrierIATA')\n",
    "    seg_3_binary = PreprocessScalers.seg_3_encoder.transform(seg_3_cats)\n",
    "    seg_3_binary.dropna(subset='Stops', inplace=True)\n",
    "\n",
    "    return seg_3_binary\n"
   ]
  },
  {
   "cell_type": "code",
   "execution_count": 24,
   "metadata": {},
   "outputs": [],
   "source": [
    "update_col_names = dohop_data.rename(columns=col_rename_dict)\n"
   ]
  },
  {
   "cell_type": "code",
   "execution_count": 25,
   "metadata": {},
   "outputs": [],
   "source": [
    "update_col_names[\"Seg_2_OperatingCarrierIATA\"] = np.nan\n",
    "update_col_names[\"Seg_3_OperatingCarrierIATA\"] = np.nan\n",
    "update_col_names[\"Stops\"] = 1\n"
   ]
  },
  {
   "cell_type": "code",
   "execution_count": 65,
   "metadata": {},
   "outputs": [],
   "source": [
    "scaled_dohop_data = process_new_data(df_with_target, update_col_names, PreprocessScalers,\n",
    "                                     box_cox_columns, yeo_johnson_columns).drop(columns='total_layover_time')\n"
   ]
  },
  {
   "cell_type": "code",
   "execution_count": 66,
   "metadata": {},
   "outputs": [
    {
     "data": {
      "text/plain": [
       "(2698311, 71)"
      ]
     },
     "execution_count": 66,
     "metadata": {},
     "output_type": "execute_result"
    }
   ],
   "source": [
    "X_train.shape\n"
   ]
  },
  {
   "cell_type": "code",
   "execution_count": 67,
   "metadata": {},
   "outputs": [
    {
     "data": {
      "text/plain": [
       "(3733, 71)"
      ]
     },
     "execution_count": 67,
     "metadata": {},
     "output_type": "execute_result"
    }
   ],
   "source": [
    "scaled_dohop_data.shape\n"
   ]
  },
  {
   "cell_type": "code",
   "execution_count": 68,
   "metadata": {},
   "outputs": [],
   "source": [
    "model = load_model('../models/ant_model_071223.h5')\n"
   ]
  },
  {
   "cell_type": "code",
   "execution_count": 69,
   "metadata": {},
   "outputs": [
    {
     "ename": "ValueError",
     "evalue": "in user code:\n\n    File \"/Users/antonis/.pyenv/versions/3.11.2/envs/OptiEnv/lib/python3.11/site-packages/keras/src/engine/training.py\", line 2440, in predict_function  *\n        return step_function(self, iterator)\n    File \"/Users/antonis/.pyenv/versions/3.11.2/envs/OptiEnv/lib/python3.11/site-packages/keras/src/engine/training.py\", line 2425, in step_function  **\n        outputs = model.distribute_strategy.run(run_step, args=(data,))\n    File \"/Users/antonis/.pyenv/versions/3.11.2/envs/OptiEnv/lib/python3.11/site-packages/keras/src/engine/training.py\", line 2413, in run_step  **\n        outputs = model.predict_step(data)\n    File \"/Users/antonis/.pyenv/versions/3.11.2/envs/OptiEnv/lib/python3.11/site-packages/keras/src/engine/training.py\", line 2381, in predict_step\n        return self(x, training=False)\n    File \"/Users/antonis/.pyenv/versions/3.11.2/envs/OptiEnv/lib/python3.11/site-packages/keras/src/utils/traceback_utils.py\", line 70, in error_handler\n        raise e.with_traceback(filtered_tb) from None\n    File \"/Users/antonis/.pyenv/versions/3.11.2/envs/OptiEnv/lib/python3.11/site-packages/keras/src/engine/input_spec.py\", line 298, in assert_input_compatibility\n        raise ValueError(\n\n    ValueError: Input 0 of layer \"sequential_1\" is incompatible with the layer: expected shape=(None, 72), found shape=(None, 71)\n",
     "output_type": "error",
     "traceback": [
      "\u001b[0;31m---------------------------------------------------------------------------\u001b[0m",
      "\u001b[0;31mValueError\u001b[0m                                Traceback (most recent call last)",
      "\u001b[1;32m/Users/antonis/code/LaGenace/OptiFlyAi/Notebooks/ant_december_model.ipynb Cell 49\u001b[0m line \u001b[0;36m1\n\u001b[0;32m----> <a href='vscode-notebook-cell:/Users/antonis/code/LaGenace/OptiFlyAi/Notebooks/ant_december_model.ipynb#Y121sZmlsZQ%3D%3D?line=0'>1</a>\u001b[0m model\u001b[39m.\u001b[39;49mpredict(scaled_dohop_data)\n",
      "File \u001b[0;32m~/.pyenv/versions/3.11.2/envs/OptiEnv/lib/python3.11/site-packages/keras/src/utils/traceback_utils.py:70\u001b[0m, in \u001b[0;36mfilter_traceback.<locals>.error_handler\u001b[0;34m(*args, **kwargs)\u001b[0m\n\u001b[1;32m     67\u001b[0m     filtered_tb \u001b[39m=\u001b[39m _process_traceback_frames(e\u001b[39m.\u001b[39m__traceback__)\n\u001b[1;32m     68\u001b[0m     \u001b[39m# To get the full stack trace, call:\u001b[39;00m\n\u001b[1;32m     69\u001b[0m     \u001b[39m# `tf.debugging.disable_traceback_filtering()`\u001b[39;00m\n\u001b[0;32m---> 70\u001b[0m     \u001b[39mraise\u001b[39;00m e\u001b[39m.\u001b[39mwith_traceback(filtered_tb) \u001b[39mfrom\u001b[39;00m \u001b[39mNone\u001b[39;00m\n\u001b[1;32m     71\u001b[0m \u001b[39mfinally\u001b[39;00m:\n\u001b[1;32m     72\u001b[0m     \u001b[39mdel\u001b[39;00m filtered_tb\n",
      "File \u001b[0;32m/var/folders/62/d7t21rj54ls65fhypjm4ryb00000gn/T/__autograph_generated_filecn9k7eyu.py:15\u001b[0m, in \u001b[0;36mouter_factory.<locals>.inner_factory.<locals>.tf__predict_function\u001b[0;34m(iterator)\u001b[0m\n\u001b[1;32m     13\u001b[0m \u001b[39mtry\u001b[39;00m:\n\u001b[1;32m     14\u001b[0m     do_return \u001b[39m=\u001b[39m \u001b[39mTrue\u001b[39;00m\n\u001b[0;32m---> 15\u001b[0m     retval_ \u001b[39m=\u001b[39m ag__\u001b[39m.\u001b[39mconverted_call(ag__\u001b[39m.\u001b[39mld(step_function), (ag__\u001b[39m.\u001b[39mld(\u001b[39mself\u001b[39m), ag__\u001b[39m.\u001b[39mld(iterator)), \u001b[39mNone\u001b[39;00m, fscope)\n\u001b[1;32m     16\u001b[0m \u001b[39mexcept\u001b[39;00m:\n\u001b[1;32m     17\u001b[0m     do_return \u001b[39m=\u001b[39m \u001b[39mFalse\u001b[39;00m\n",
      "\u001b[0;31mValueError\u001b[0m: in user code:\n\n    File \"/Users/antonis/.pyenv/versions/3.11.2/envs/OptiEnv/lib/python3.11/site-packages/keras/src/engine/training.py\", line 2440, in predict_function  *\n        return step_function(self, iterator)\n    File \"/Users/antonis/.pyenv/versions/3.11.2/envs/OptiEnv/lib/python3.11/site-packages/keras/src/engine/training.py\", line 2425, in step_function  **\n        outputs = model.distribute_strategy.run(run_step, args=(data,))\n    File \"/Users/antonis/.pyenv/versions/3.11.2/envs/OptiEnv/lib/python3.11/site-packages/keras/src/engine/training.py\", line 2413, in run_step  **\n        outputs = model.predict_step(data)\n    File \"/Users/antonis/.pyenv/versions/3.11.2/envs/OptiEnv/lib/python3.11/site-packages/keras/src/engine/training.py\", line 2381, in predict_step\n        return self(x, training=False)\n    File \"/Users/antonis/.pyenv/versions/3.11.2/envs/OptiEnv/lib/python3.11/site-packages/keras/src/utils/traceback_utils.py\", line 70, in error_handler\n        raise e.with_traceback(filtered_tb) from None\n    File \"/Users/antonis/.pyenv/versions/3.11.2/envs/OptiEnv/lib/python3.11/site-packages/keras/src/engine/input_spec.py\", line 298, in assert_input_compatibility\n        raise ValueError(\n\n    ValueError: Input 0 of layer \"sequential_1\" is incompatible with the layer: expected shape=(None, 72), found shape=(None, 71)\n"
     ]
    }
   ],
   "source": [
    "model.predict(scaled_dohop_data)\n"
   ]
  },
  {
   "cell_type": "markdown",
   "metadata": {},
   "source": [
    "# When youre back!\n",
    "\n",
    "Try predict with a model, but you may have to retrain as you kept changing columns that were being trained on. \n",
    "1. retriain a model with the X_train you have now\n",
    "2. Try predict using your new pre-processing functions\n",
    "3. Clean this notebook up!"
   ]
  },
  {
   "cell_type": "markdown",
   "metadata": {},
   "source": []
  }
 ],
 "metadata": {
  "kernelspec": {
   "display_name": "OptiEnv",
   "language": "python",
   "name": "python3"
  },
  "language_info": {
   "codemirror_mode": {
    "name": "ipython",
    "version": 3
   },
   "file_extension": ".py",
   "mimetype": "text/x-python",
   "name": "python",
   "nbconvert_exporter": "python",
   "pygments_lexer": "ipython3",
   "version": "3.11.2"
  }
 },
 "nbformat": 4,
 "nbformat_minor": 2
}
