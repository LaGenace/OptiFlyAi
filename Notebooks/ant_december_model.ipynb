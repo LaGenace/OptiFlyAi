{
 "cells": [
  {
   "cell_type": "code",
   "execution_count": 1,
   "metadata": {},
   "outputs": [],
   "source": [
    "import os\n",
    "import sys\n",
    "sys.path.insert(0, '..')\n",
    "\n",
    "from google.cloud import bigquery\n",
    "from google.oauth2 import service_account\n",
    "\n",
    "from google.cloud import bigquery\n",
    "from google.oauth2 import service_account\n",
    "\n",
    "import pandas as pd\n",
    "import matplotlib.pyplot as plt\n",
    "from decouple import config\n",
    "import json\n",
    "import numpy as np\n",
    "import seaborn as sns\n",
    "\n",
    "from sklearn.linear_model import LinearRegression\n",
    "\n",
    "from authenticate_service_account import main\n",
    "from utils import *\n",
    "\n",
    "from sklearn.model_selection import train_test_split\n",
    "\n",
    "from scipy import stats\n",
    "\n",
    "from sklearn.linear_model import LinearRegression\n",
    "from sklearn.metrics import mean_squared_error, mean_absolute_error\n",
    "\n",
    "from sklearn.preprocessing import MinMaxScaler\n",
    "\n",
    "from sklearn.metrics import r2_score\n",
    "\n",
    "import category_encoders as ce\n",
    "from scipy import stats\n",
    "\n",
    "from sklearn.preprocessing import MinMaxScaler\n",
    "\n",
    "from sklearn.neighbors import KNeighborsRegressor\n",
    "\n",
    "from keras.models import load_model\n",
    "\n",
    "from keras.callbacks import EarlyStopping\n",
    "from tensorflow import keras\n",
    "from tensorflow.keras import layers, Sequential\n",
    "\n",
    "from joblib import dump, load\n",
    "\n",
    "from sklearn.ensemble import RandomForestRegressor\n"
   ]
  },
  {
   "cell_type": "code",
   "execution_count": 2,
   "metadata": {},
   "outputs": [],
   "source": [
    "def ants_preprocess(data):\n",
    "    data_with_od = create_od_column(data, ['OriginCty', 'DestinationCty'])\n",
    "\n",
    "    data_with_layover = calculate_total_layover_time(data_with_od, as_ratio=True)\n",
    "\n",
    "    data_with_layover2 = calculate_distance_difference(data_with_layover, as_ratio=True)\n",
    "\n",
    "    data_with_redirect_ratio = redirect_ratio(data_with_layover2)\n",
    "\n",
    "    droped_values = drop_neg_layover_time(data_with_redirect_ratio)\n",
    "\n",
    "    return droped_values\n"
   ]
  },
  {
   "cell_type": "code",
   "execution_count": 3,
   "metadata": {},
   "outputs": [],
   "source": [
    "def convert_bool_to_num(value):\n",
    "    return 0 if value else 1\n"
   ]
  },
  {
   "cell_type": "code",
   "execution_count": 4,
   "metadata": {},
   "outputs": [],
   "source": [
    "data = pd.read_csv('../raw_data/all_data_30_horizon_with_day_of_week')\n",
    "data.dropna(subset=['OriginApt', 'DestinationCty'], inplace=True)\n"
   ]
  },
  {
   "cell_type": "code",
   "execution_count": 5,
   "metadata": {},
   "outputs": [],
   "source": [
    "economy_flights = data[data['PricePerPax']< 1500].copy()\n"
   ]
  },
  {
   "cell_type": "code",
   "execution_count": 6,
   "metadata": {},
   "outputs": [],
   "source": [
    "processed_data = ants_preprocess(economy_flights)\n"
   ]
  },
  {
   "cell_type": "code",
   "execution_count": 7,
   "metadata": {},
   "outputs": [],
   "source": [
    "# Creating our target\n",
    "df_with_target = scale_itin_redirects(processed_data, 'ItineraryRedirects', 0, 50)\n"
   ]
  },
  {
   "cell_type": "code",
   "execution_count": 8,
   "metadata": {},
   "outputs": [],
   "source": [
    "# df_with_target = make_target[(make_target['Score_Z_score_0_50'] > 1) & (make_target['ODRedirects'] > 10)]\n"
   ]
  },
  {
   "cell_type": "code",
   "execution_count": 9,
   "metadata": {},
   "outputs": [],
   "source": [
    "# fig, axs = plt.subplots(4, 1, figsize=(20, 20))\n",
    "# sns.scatterplot(data=df_with_target, x='ODRedirects', y='Score_Z_score_0_50', hue='redirect_ratio', ax=axs[0], legend=False)\n",
    "# sns.scatterplot(data=df_with_target, x='ODRedirects', y='Score_Z_score', hue='redirect_ratio', ax=axs[1], legend=False)\n",
    "# sns.scatterplot(data=df_with_target, x='ODRedirects', y='Score_min_max', hue='redirect_ratio', ax=axs[2], legend=False)\n",
    "# sns.scatterplot(data=df_with_target, x='ODRedirects', y='MinMax_Scaled', hue='redirect_ratio', ax=axs[3], legend=False)\n",
    "\n",
    "# for ax in axs:\n",
    "#     ax.set_xlim(-5, 500)\n"
   ]
  },
  {
   "cell_type": "code",
   "execution_count": 10,
   "metadata": {},
   "outputs": [],
   "source": [
    "columns = ['Stops','DurationMin', 'total_layover_time_ratio', 'OriginApt', 'DestinationApt',\n",
    "            'total_distance_traveled','extra_travel_distance_ratio', 'TravelHorizonDays', 'dayofweek',\n",
    "            'Seg_0_OperatingCarrierIATA', 'Seg_1_OperatingCarrierIATA', 'Seg_2_OperatingCarrierIATA', 'Seg_3_OperatingCarrierIATA',\n",
    "            'TravelDistanceKm', 'PricePerPax', 'SelfTransfer', \"Score_Z_score_0_50\"]\n",
    "\n",
    "box_cox_columns = ['DurationMin', 'TravelDistanceKm','extra_travel_distance_ratio', 'PricePerPax']\n",
    "\n",
    "yeo_johnson_columns = ['total_layover_time_ratio']\n",
    "\n",
    "min_max_scaling = ['TravelHorizonDays','Stops']\n"
   ]
  },
  {
   "cell_type": "code",
   "execution_count": 11,
   "metadata": {},
   "outputs": [
    {
     "data": {
      "text/plain": [
       "(3597748, 17)"
      ]
     },
     "execution_count": 11,
     "metadata": {},
     "output_type": "execute_result"
    }
   ],
   "source": [
    "df_with_target[columns].shape\n"
   ]
  },
  {
   "cell_type": "code",
   "execution_count": 12,
   "metadata": {},
   "outputs": [],
   "source": [
    "def feature_engineering(processed_data, list_of_columns,\n",
    "                        box_cox_columns, yeo_johnson_columns, min_max_scaling,\n",
    "                        return_encoders=False):\n",
    "\n",
    "    model_data = processed_data[list_of_columns]\n",
    "\n",
    "    print(model_data.shape)\n",
    "\n",
    "    #Binary encoding origin and destination\n",
    "    o_encoder = ce.BinaryEncoder(cols=['OriginApt'])\n",
    "    df_binary = o_encoder.fit_transform(model_data)\n",
    "\n",
    "    print(df_binary.shape)\n",
    "\n",
    "    d_encoder = ce.BinaryEncoder(cols=['DestinationApt'])\n",
    "    all_binary = d_encoder.fit_transform(df_binary)\n",
    "\n",
    "    print(all_binary.shape)\n",
    "    # Scaling other features\n",
    "\n",
    "    # Box cox\n",
    "    for col in box_cox_columns:\n",
    "        all_binary[col], box_lambda = stats.boxcox(all_binary[col])\n",
    "\n",
    "    print(all_binary.shape)\n",
    "\n",
    "\n",
    "    # Yeo-johnson\n",
    "    for col in yeo_johnson_columns:\n",
    "        all_binary[col], yeo_lambda = stats.yeojohnson(all_binary[col])\n",
    "\n",
    "    print(all_binary.shape)\n",
    "\n",
    "\n",
    "    #Min max scaling\n",
    "    minmax_scaler = MinMaxScaler()\n",
    "    all_binary[min_max_scaling] = minmax_scaler.fit_transform(all_binary[min_max_scaling])\n",
    "\n",
    "    print(all_binary.shape)\n",
    "\n",
    "\n",
    "    # Cyclical encoding\n",
    "    all_binary['sin_day'] = np.sin(2 * np.pi * all_binary['dayofweek'] / 7)\n",
    "    all_binary['cos_day'] = np.cos(2 * np.pi * all_binary['dayofweek'] / 7)\n",
    "\n",
    "    all_binary.drop(columns='dayofweek', inplace=True)\n",
    "\n",
    "    print(all_binary.shape)\n",
    "\n",
    "\n",
    "    # Binary encoding Operator IATA'\n",
    "    seg_0_encoder = ce.BinaryEncoder(cols=['Seg_0_OperatingCarrierIATA'])\n",
    "    seg_0_binary = seg_0_encoder.fit_transform(all_binary)\n",
    "\n",
    "    seg_1_encoder = ce.BinaryEncoder(cols=['Seg_1_OperatingCarrierIATA'])\n",
    "    seg_1_binary = seg_1_encoder.fit_transform(seg_0_binary)\n",
    "\n",
    "    seg_2_encoder = ce.BinaryEncoder(cols=['Seg_2_OperatingCarrierIATA'])\n",
    "    seg_2_binary = seg_2_encoder.fit_transform(seg_1_binary)\n",
    "\n",
    "    seg_3_encoder = ce.BinaryEncoder(cols=['Seg_3_OperatingCarrierIATA'])\n",
    "    seg_3_binary = seg_3_encoder.fit_transform(seg_2_binary)\n",
    "\n",
    "    if return_encoders == False:\n",
    "        return seg_3_binary\n",
    "    else:\n",
    "        class PreprocessScalers:\n",
    "            def __init__(self, o_encoder, d_encoder, box_lambda, yeo_lambda, minmax_scaler, seg_0_encoder, seg_1_encoder, seg_2_encoder, seg_3_encoder):\n",
    "                self.o_encoder = o_encoder\n",
    "                self.d_encoder = d_encoder\n",
    "                self.box_lambda = box_lambda\n",
    "                self.yeo_lambda = yeo_lambda\n",
    "                self.minmax_scaler = minmax_scaler\n",
    "                self.seg_0_encoder = seg_0_encoder\n",
    "                self.seg_1_encoder = seg_1_encoder\n",
    "                self.seg_2_encoder = seg_2_encoder\n",
    "                self.seg_3_encoder = seg_3_encoder\n",
    "\n",
    "        scalers = PreprocessScalers(o_encoder, d_encoder, box_lambda, yeo_lambda, minmax_scaler, seg_0_encoder, seg_1_encoder, seg_2_encoder, seg_3_encoder)\n",
    "\n",
    "        return seg_3_binary, scalers\n"
   ]
  },
  {
   "cell_type": "code",
   "execution_count": 13,
   "metadata": {},
   "outputs": [
    {
     "name": "stdout",
     "output_type": "stream",
     "text": [
      "(3597748, 17)\n",
      "(3597748, 28)\n",
      "(3597748, 39)\n",
      "(3597748, 39)\n",
      "(3597748, 39)\n",
      "(3597748, 39)\n",
      "(3597748, 40)\n"
     ]
    }
   ],
   "source": [
    "model_ready_data, PreprocessScalers = feature_engineering(df_with_target, columns,\n",
    "                                       box_cox_columns, yeo_johnson_columns, min_max_scaling, return_encoders=True)\n"
   ]
  },
  {
   "cell_type": "code",
   "execution_count": 14,
   "metadata": {},
   "outputs": [],
   "source": [
    "model_ready_data['Score_Z_score_0_50'] = model_ready_data['Score_Z_score_0_50'].fillna(0)\n"
   ]
  },
  {
   "cell_type": "code",
   "execution_count": 15,
   "metadata": {},
   "outputs": [],
   "source": [
    "model_ready_data['SelfTransfer'] = model_ready_data['SelfTransfer'].apply(convert_bool_to_num)\n"
   ]
  },
  {
   "cell_type": "code",
   "execution_count": 16,
   "metadata": {},
   "outputs": [],
   "source": [
    "clean_and_processed_data = model_ready_data.copy()\n"
   ]
  },
  {
   "cell_type": "markdown",
   "metadata": {},
   "source": [
    "# Modelin'"
   ]
  },
  {
   "cell_type": "code",
   "execution_count": 19,
   "metadata": {},
   "outputs": [],
   "source": [
    "X_train, X_test, y_train, y_test = train_test_split(clean_and_processed_data.drop('Score_Z_score_0_50',\n",
    "                                                                                axis=1), clean_and_processed_data['Score_Z_score_0_50'], random_state=42)\n",
    "\n",
    "X_train_all, X_test_all, y_train_all, y_test_all = train_test_split(processed_data.drop('Seg_3_OperatingCarrierIATA',\n",
    "                                                                                axis=1), processed_data['Seg_3_OperatingCarrierIATA'], random_state=42)\n"
   ]
  },
  {
   "cell_type": "code",
   "execution_count": 20,
   "metadata": {},
   "outputs": [
    {
     "data": {
      "text/plain": [
       "(2698311, 73)"
      ]
     },
     "execution_count": 20,
     "metadata": {},
     "output_type": "execute_result"
    }
   ],
   "source": [
    "X_train.shape\n"
   ]
  },
  {
   "cell_type": "code",
   "execution_count": 87,
   "metadata": {},
   "outputs": [],
   "source": [
    "model = Sequential()\n",
    "model.add(layers.Dense(128, input_dim=73, activation='relu'))\n",
    "model.add(layers.Dense(64, activation='relu'))\n",
    "model.add(layers.Dense(64, activation='relu'))\n",
    "model.add(layers.Dense(64, activation='relu'))\n",
    "model.add(layers.Dense(64, activation='relu'))\n",
    "model.add(layers.Dense(1, activation='linear'))\n"
   ]
  },
  {
   "cell_type": "code",
   "execution_count": 88,
   "metadata": {},
   "outputs": [],
   "source": [
    "early_stopping = EarlyStopping(monitor='val_loss', min_delta=0.001, patience=3, verbose=1, mode='min', restore_best_weights=True)\n"
   ]
  },
  {
   "cell_type": "code",
   "execution_count": 89,
   "metadata": {},
   "outputs": [],
   "source": [
    "model.compile(loss='mse', optimizer='adam', metrics=['mae'])\n"
   ]
  },
  {
   "cell_type": "code",
   "execution_count": 90,
   "metadata": {},
   "outputs": [
    {
     "name": "stdout",
     "output_type": "stream",
     "text": [
      "Epoch 1/10\n",
      "8433/8433 [==============================] - 13s 2ms/step - loss: 10.0158 - mae: 1.0398 - val_loss: 1.9359 - val_mae: 0.8519\n",
      "Epoch 2/10\n",
      "8433/8433 [==============================] - 12s 1ms/step - loss: 1.8539 - mae: 0.8793 - val_loss: 1.7758 - val_mae: 0.8790\n",
      "Epoch 3/10\n",
      "8433/8433 [==============================] - 12s 1ms/step - loss: 1.7767 - mae: 0.8581 - val_loss: 1.7448 - val_mae: 0.8548\n",
      "Epoch 4/10\n",
      "8433/8433 [==============================] - 11s 1ms/step - loss: 1.7625 - mae: 0.8563 - val_loss: 1.7460 - val_mae: 0.8341\n",
      "Epoch 5/10\n",
      "8433/8433 [==============================] - 12s 1ms/step - loss: 1.7520 - mae: 0.8554 - val_loss: 1.7361 - val_mae: 0.8629\n",
      "Epoch 6/10\n",
      "8433/8433 [==============================] - 13s 2ms/step - loss: 1.7459 - mae: 0.8550 - val_loss: 1.7343 - val_mae: 0.8545\n",
      "Epoch 7/10\n",
      "8433/8433 [==============================] - 12s 1ms/step - loss: 1.7418 - mae: 0.8543 - val_loss: 1.7344 - val_mae: 0.8715\n",
      "Epoch 8/10\n",
      "8433/8433 [==============================] - 12s 1ms/step - loss: 1.7398 - mae: 0.8541 - val_loss: 1.7272 - val_mae: 0.8303\n",
      "Epoch 9/10\n",
      "8433/8433 [==============================] - 12s 1ms/step - loss: 1.7387 - mae: 0.8538 - val_loss: 1.7266 - val_mae: 0.8768\n",
      "Epoch 10/10\n",
      "8433/8433 [==============================] - 12s 1ms/step - loss: 1.7369 - mae: 0.8535 - val_loss: 1.7265 - val_mae: 0.8239\n"
     ]
    },
    {
     "data": {
      "text/plain": [
       "<keras.src.callbacks.History at 0x41a8b49d0>"
      ]
     },
     "execution_count": 90,
     "metadata": {},
     "output_type": "execute_result"
    }
   ],
   "source": [
    "model.fit(X_train, y_train, epochs=10, batch_size=256, verbose=1, callbacks=[early_stopping], validation_split=0.2)\n"
   ]
  },
  {
   "cell_type": "code",
   "execution_count": 91,
   "metadata": {},
   "outputs": [
    {
     "name": "stderr",
     "output_type": "stream",
     "text": [
      "/Users/antonis/.pyenv/versions/3.11.2/envs/OptiEnv/lib/python3.11/site-packages/keras/src/engine/training.py:3103: UserWarning: You are saving your model as an HDF5 file via `model.save()`. This file format is considered legacy. We recommend using instead the native Keras format, e.g. `model.save('my_model.keras')`.\n",
      "  saving_api.save_model(\n"
     ]
    }
   ],
   "source": [
    "# model = load_model('../models/ant_model_021223.h5')\n",
    "model.save('../models/ant_model_111223_v3.h5')\n"
   ]
  },
  {
   "cell_type": "code",
   "execution_count": 92,
   "metadata": {},
   "outputs": [
    {
     "name": "stdout",
     "output_type": "stream",
     "text": [
      "28108/28108 [==============================] - 11s 378us/step - loss: 1.7219 - mae: 0.8243\n",
      "Test Loss (MSE): 1.721914529800415\n",
      "Test Error (MAE): 0.824326753616333\n"
     ]
    }
   ],
   "source": [
    "test_loss, test_error = model.evaluate(X_test, y_test, verbose=1)\n",
    "\n",
    "# Print the results\n",
    "print(f\"Test Loss (MSE): {test_loss}\")\n",
    "print(f\"Test Error (MAE): {test_error}\")\n"
   ]
  },
  {
   "cell_type": "code",
   "execution_count": 93,
   "metadata": {},
   "outputs": [
    {
     "name": "stdout",
     "output_type": "stream",
     "text": [
      "28108/28108 [==============================] - 10s 363us/step\n"
     ]
    }
   ],
   "source": [
    "y_pred = model.predict(X_test)\n"
   ]
  },
  {
   "cell_type": "code",
   "execution_count": 94,
   "metadata": {},
   "outputs": [
    {
     "data": {
      "text/plain": [
       "array([2.8837261, 2.762924 , 2.56398  , ..., 2.9112108, 2.9010453,\n",
       "       2.7314959], dtype=float32)"
      ]
     },
     "execution_count": 94,
     "metadata": {},
     "output_type": "execute_result"
    }
   ],
   "source": [
    "y_pred.reshape(-1)\n"
   ]
  },
  {
   "cell_type": "code",
   "execution_count": 95,
   "metadata": {},
   "outputs": [],
   "source": [
    "knn_50_performance_df = pd.DataFrame({'true_value':y_test, 'pred_value':y_pred.reshape(-1), 'DurationMin':X_test['DurationMin'],\n",
    "                                  \"ODRedirects\":X_test_all['ODRedirects'], \"ItineraryRedirects\":X_test_all['ItineraryRedirects'],\n",
    "                                  'Stops':X_test_all['Stops'], 'redirect_ratio':X_test_all['redirect_ratio']})\n",
    "\n",
    "knn_50_performance_df['difference'] = knn_50_performance_df['pred_value'] - knn_50_performance_df['true_value']\n"
   ]
  },
  {
   "cell_type": "code",
   "execution_count": 96,
   "metadata": {},
   "outputs": [
    {
     "data": {
      "text/plain": [
       "<Axes: xlabel='ODRedirects', ylabel='difference'>"
      ]
     },
     "execution_count": 96,
     "metadata": {},
     "output_type": "execute_result"
    },
    {
     "data": {
      "image/png": "[encoded data removed]",
      "text/plain": [
       "<Figure size 2000x600 with 1 Axes>"
      ]
     },
     "metadata": {},
     "output_type": "display_data"
    }
   ],
   "source": [
    "plt.figure(figsize=(20, 6))\n",
    "sns.scatterplot(knn_50_performance_df, x='ODRedirects', y='difference', alpha=1, hue='ItineraryRedirects')\n"
   ]
  },
  {
   "cell_type": "markdown",
   "metadata": {},
   "source": [
    "# Random Forrest model"
   ]
  },
  {
   "cell_type": "code",
   "execution_count": 69,
   "metadata": {},
   "outputs": [],
   "source": [
    "# rf_regressor = RandomForestRegressor(n_estimators=10, n_jobs=-1, max_depth=20, )\n",
    "\n",
    "# rf_regressor.fit(X_train, y_train)\n"
   ]
  },
  {
   "cell_type": "code",
   "execution_count": null,
   "metadata": {},
   "outputs": [],
   "source": [
    "# rf_y_pred = rf_regressor.predict(X_test)\n",
    "\n",
    "# rf_y_pred.reshape(-1)\n",
    "\n",
    "# rf_performance_df = pd.DataFrame({'true_value':y_test, 'pred_value':rf_y_pred.reshape(-1), 'DurationMin':X_test['DurationMin'],\n",
    "#                                   \"ODRedirects\":X_test_all['ODRedirects'], \"ItineraryRedirects\":X_test_all['ItineraryRedirects'],\n",
    "#                                   'Stops':X_test_all['Stops'], 'redirect_ratio':X_test_all['redirect_ratio']})\n",
    "\n",
    "# rf_performance_df['difference'] = rf_performance_df['pred_value'] - rf_performance_df['true_value']\n"
   ]
  },
  {
   "cell_type": "code",
   "execution_count": null,
   "metadata": {},
   "outputs": [],
   "source": [
    "# plt.figure(figsize=(20, 6))\n",
    "# sns.scatterplot(rf_performance_df, x='ODRedirects', y='difference', alpha=1, hue='ItineraryRedirects')\n"
   ]
  },
  {
   "cell_type": "markdown",
   "metadata": {},
   "source": [
    "# Dohop test dataset"
   ]
  },
  {
   "cell_type": "code",
   "execution_count": 64,
   "metadata": {},
   "outputs": [],
   "source": [
    "raw_dohop_data = pd.read_csv('../raw_data/bq-results-20231211-194938-1702324257187.csv')\n",
    "\n",
    "copy_data = raw_dohop_data.copy()\n",
    "\n",
    "dohop_data = copy_data[~copy_data['itinerary_fare'].isna()]\n"
   ]
  },
  {
   "cell_type": "code",
   "execution_count": 65,
   "metadata": {},
   "outputs": [],
   "source": [
    "dohop_data.reset_index(drop=True, inplace=True)\n"
   ]
  },
  {
   "cell_type": "code",
   "execution_count": 66,
   "metadata": {},
   "outputs": [
    {
     "name": "stderr",
     "output_type": "stream",
     "text": [
      "/var/folders/62/d7t21rj54ls65fhypjm4ryb00000gn/T/ipykernel_13244/3831053749.py:1: SettingWithCopyWarning: \n",
      "A value is trying to be set on a copy of a slice from a DataFrame.\n",
      "Try using .loc[row_indexer,col_indexer] = value instead\n",
      "\n",
      "See the caveats in the documentation: https://pandas.pydata.org/pandas-docs/stable/user_guide/indexing.html#returning-a-view-versus-a-copy\n",
      "  dohop_data['seg_0'] = 0\n",
      "/var/folders/62/d7t21rj54ls65fhypjm4ryb00000gn/T/ipykernel_13244/3831053749.py:2: SettingWithCopyWarning: \n",
      "A value is trying to be set on a copy of a slice from a DataFrame.\n",
      "Try using .loc[row_indexer,col_indexer] = value instead\n",
      "\n",
      "See the caveats in the documentation: https://pandas.pydata.org/pandas-docs/stable/user_guide/indexing.html#returning-a-view-versus-a-copy\n",
      "  dohop_data['seg_1'] = 0\n",
      "/var/folders/62/d7t21rj54ls65fhypjm4ryb00000gn/T/ipykernel_13244/3831053749.py:6: SettingWithCopyWarning: \n",
      "A value is trying to be set on a copy of a slice from a DataFrame\n",
      "\n",
      "See the caveats in the documentation: https://pandas.pydata.org/pandas-docs/stable/user_guide/indexing.html#returning-a-view-versus-a-copy\n",
      "  dohop_data['seg_0'][i] = listtt[0][:2]\n",
      "/var/folders/62/d7t21rj54ls65fhypjm4ryb00000gn/T/ipykernel_13244/3831053749.py:6: FutureWarning: Setting an item of incompatible dtype is deprecated and will raise in a future error of pandas. Value 'U2' has dtype incompatible with int64, please explicitly cast to a compatible dtype first.\n",
      "  dohop_data['seg_0'][i] = listtt[0][:2]\n",
      "/var/folders/62/d7t21rj54ls65fhypjm4ryb00000gn/T/ipykernel_13244/3831053749.py:7: SettingWithCopyWarning: \n",
      "A value is trying to be set on a copy of a slice from a DataFrame\n",
      "\n",
      "See the caveats in the documentation: https://pandas.pydata.org/pandas-docs/stable/user_guide/indexing.html#returning-a-view-versus-a-copy\n",
      "  dohop_data['seg_1'][i] = listtt[1].strip()[:2]\n",
      "/var/folders/62/d7t21rj54ls65fhypjm4ryb00000gn/T/ipykernel_13244/3831053749.py:7: FutureWarning: Setting an item of incompatible dtype is deprecated and will raise in a future error of pandas. Value 'U2' has dtype incompatible with int64, please explicitly cast to a compatible dtype first.\n",
      "  dohop_data['seg_1'][i] = listtt[1].strip()[:2]\n",
      "/var/folders/62/d7t21rj54ls65fhypjm4ryb00000gn/T/ipykernel_13244/3831053749.py:6: SettingWithCopyWarning: \n",
      "A value is trying to be set on a copy of a slice from a DataFrame\n",
      "\n",
      "See the caveats in the documentation: https://pandas.pydata.org/pandas-docs/stable/user_guide/indexing.html#returning-a-view-versus-a-copy\n",
      "  dohop_data['seg_0'][i] = listtt[0][:2]\n"
     ]
    }
   ],
   "source": [
    "dohop_data['seg_0'] = 0\n",
    "dohop_data['seg_1'] = 0\n",
    "\n",
    "for i in range(len(dohop_data)):\n",
    "    listtt = dohop_data['flights'][i].split(',')\n",
    "    dohop_data['seg_0'][i] = listtt[0][:2]\n",
    "    dohop_data['seg_1'][i] = listtt[1].strip()[:2]\n"
   ]
  },
  {
   "cell_type": "code",
   "execution_count": 67,
   "metadata": {},
   "outputs": [
    {
     "name": "stderr",
     "output_type": "stream",
     "text": [
      "/var/folders/62/d7t21rj54ls65fhypjm4ryb00000gn/T/ipykernel_13244/1285210725.py:1: SettingWithCopyWarning: \n",
      "A value is trying to be set on a copy of a slice from a DataFrame.\n",
      "Try using .loc[row_indexer,col_indexer] = value instead\n",
      "\n",
      "See the caveats in the documentation: https://pandas.pydata.org/pandas-docs/stable/user_guide/indexing.html#returning-a-view-versus-a-copy\n",
      "  dohop_data['DurationMin'] = dohop_data['total_flight_time'] + dohop_data['connection_time']\n",
      "/var/folders/62/d7t21rj54ls65fhypjm4ryb00000gn/T/ipykernel_13244/1285210725.py:2: SettingWithCopyWarning: \n",
      "A value is trying to be set on a copy of a slice from a DataFrame.\n",
      "Try using .loc[row_indexer,col_indexer] = value instead\n",
      "\n",
      "See the caveats in the documentation: https://pandas.pydata.org/pandas-docs/stable/user_guide/indexing.html#returning-a-view-versus-a-copy\n",
      "  dohop_data['total_layover_time_ratio'] = dohop_data['connection_time'] / dohop_data['DurationMin']\n"
     ]
    }
   ],
   "source": [
    "dohop_data['DurationMin'] = dohop_data['total_flight_time'] + dohop_data['connection_time']\n",
    "dohop_data['total_layover_time_ratio'] = dohop_data['connection_time'] / dohop_data['DurationMin']\n"
   ]
  },
  {
   "cell_type": "code",
   "execution_count": 68,
   "metadata": {},
   "outputs": [],
   "source": [
    "# This was for an old dataset\n",
    "\n",
    "# col_rename_dict = {'origin': 'OriginApt', 'destination':'DestinationApt', 'days_to_travel':'TravelHorizonDays', 'total_distance':'total_distance_traveled',\n",
    "#                    'direct_distance':'TravelDistanceKm', 'total_minutes':'DurationMin', 'connection_time':'total_layover_time',\n",
    "#                    'seg_0':'Seg_0_OperatingCarrierIATAa', 'seg_1':'Seg_1_OperatingCarrierIATA', 'seg_2':'Seg_2_OperatingCarrierIATA', 'seg_3':'Seg_3_OperatingCarrierIATA'}\n",
    "\n",
    "\n",
    "col_rename_dict = {'origin_iata': 'OriginApt', 'destination_iata':'DestinationApt', 'days_to_travel':'TravelHorizonDays', 'total_distance':'total_distance_traveled',\n",
    "                   'direct_distance':'TravelDistanceKm', 'connection_time':'total_layover_time', 'itinerary_fare':'PricePerPax',\n",
    "                   'seg_0':'Seg_0_OperatingCarrierIATA', 'seg_1':'Seg_1_OperatingCarrierIATA', 'seg_2':'Seg_2_OperatingCarrierIATA', 'seg_3':'Seg_3_OperatingCarrierIATA'}\n"
   ]
  },
  {
   "cell_type": "code",
   "execution_count": 69,
   "metadata": {},
   "outputs": [
    {
     "name": "stderr",
     "output_type": "stream",
     "text": [
      "/var/folders/62/d7t21rj54ls65fhypjm4ryb00000gn/T/ipykernel_13244/2724626855.py:1: SettingWithCopyWarning: \n",
      "A value is trying to be set on a copy of a slice from a DataFrame\n",
      "\n",
      "See the caveats in the documentation: https://pandas.pydata.org/pandas-docs/stable/user_guide/indexing.html#returning-a-view-versus-a-copy\n",
      "  dohop_data.drop(columns=['flights', 'connection_airport', 'pax',\n"
     ]
    }
   ],
   "source": [
    "dohop_data.drop(columns=['flights', 'connection_airport', 'pax',\n",
    "                         'bookings', 'booked_fare', 'total_flight_time'], inplace=True)\n"
   ]
  },
  {
   "cell_type": "code",
   "execution_count": 70,
   "metadata": {},
   "outputs": [],
   "source": [
    "def create_df_of_all_categories(raw_data, data_to_be_processed, column):\n",
    "    \"\"\"\n",
    "    This creates a list of all categories, and appends it to existing data that needs processing\n",
    "    it appends the data, processes it, and drops the unnecesary columns\n",
    "    It then appends it back to the dataframe so it can be used in the next step\n",
    "    \"\"\"\n",
    "\n",
    "    # Creating dummy data\n",
    "    categories  = pd.DataFrame(raw_data[column].unique(), columns=[column])\n",
    "\n",
    "    #Isolating the important data\n",
    "    # data_for_processing = data_to_be_processed[[column]].copy()\n",
    "\n",
    "    # Merged data for encoding\n",
    "    merged_data = pd.concat([data_to_be_processed,categories])\n",
    "\n",
    "    return merged_data\n"
   ]
  },
  {
   "cell_type": "code",
   "execution_count": 71,
   "metadata": {},
   "outputs": [],
   "source": [
    "update_col_names = dohop_data.rename(columns=col_rename_dict)\n"
   ]
  },
  {
   "cell_type": "code",
   "execution_count": 72,
   "metadata": {},
   "outputs": [],
   "source": [
    "update_col_names[\"Seg_2_OperatingCarrierIATA\"] = np.nan\n",
    "update_col_names[\"Seg_3_OperatingCarrierIATA\"] = np.nan\n",
    "update_col_names[\"Stops\"] = 1\n",
    "update_col_names[\"SelfTransfer\"] = 1\n"
   ]
  },
  {
   "cell_type": "code",
   "execution_count": 73,
   "metadata": {},
   "outputs": [],
   "source": [
    "update_col_names['extra_travel_distance_ratio'] = update_col_names['total_distance_traveled'] / update_col_names['TravelDistanceKm']\n"
   ]
  },
  {
   "cell_type": "code",
   "execution_count": 74,
   "metadata": {},
   "outputs": [
    {
     "data": {
      "text/plain": [
       "Index(['OriginApt', 'DestinationApt', 'total_layover_time',\n",
       "       'TravelHorizonDays', 'dayofweek', 'total_distance_traveled',\n",
       "       'TravelDistanceKm', 'PricePerPax', 'Seg_0_OperatingCarrierIATA',\n",
       "       'Seg_1_OperatingCarrierIATA', 'DurationMin', 'total_layover_time_ratio',\n",
       "       'Seg_2_OperatingCarrierIATA', 'Seg_3_OperatingCarrierIATA', 'Stops',\n",
       "       'SelfTransfer', 'extra_travel_distance_ratio'],\n",
       "      dtype='object')"
      ]
     },
     "execution_count": 74,
     "metadata": {},
     "output_type": "execute_result"
    }
   ],
   "source": [
    "update_col_names.columns\n"
   ]
  },
  {
   "cell_type": "code",
   "execution_count": 75,
   "metadata": {},
   "outputs": [],
   "source": [
    "columns_v2 = ['Stops','DurationMin', 'total_layover_time_ratio', 'OriginApt', 'DestinationApt',\n",
    "            'total_distance_traveled','extra_travel_distance_ratio', 'TravelHorizonDays', 'dayofweek',\n",
    "            'Seg_0_OperatingCarrierIATA', 'Seg_1_OperatingCarrierIATA', 'Seg_2_OperatingCarrierIATA', 'Seg_3_OperatingCarrierIATA',\n",
    "            'TravelDistanceKm', 'PricePerPax', 'SelfTransfer', \"total_layover_time\"]\n",
    "\n",
    "box_cox_columns = ['DurationMin', 'TravelDistanceKm','extra_travel_distance_ratio', 'PricePerPax']\n",
    "\n",
    "yeo_johnson_columns = ['total_layover_time_ratio']\n",
    "\n",
    "min_max_scaling = ['TravelHorizonDays','Stops']\n"
   ]
  },
  {
   "cell_type": "code",
   "execution_count": 76,
   "metadata": {},
   "outputs": [
    {
     "data": {
      "text/html": [
       "<div>\n",
       "<style scoped>\n",
       "    .dataframe tbody tr th:only-of-type {\n",
       "        vertical-align: middle;\n",
       "    }\n",
       "\n",
       "    .dataframe tbody tr th {\n",
       "        vertical-align: top;\n",
       "    }\n",
       "\n",
       "    .dataframe thead th {\n",
       "        text-align: right;\n",
       "    }\n",
       "</style>\n",
       "<table border=\"1\" class=\"dataframe\">\n",
       "  <thead>\n",
       "    <tr style=\"text-align: right;\">\n",
       "      <th></th>\n",
       "      <th>Stops</th>\n",
       "      <th>DurationMin</th>\n",
       "      <th>total_layover_time_ratio</th>\n",
       "      <th>OriginApt</th>\n",
       "      <th>DestinationApt</th>\n",
       "      <th>total_distance_traveled</th>\n",
       "      <th>extra_travel_distance_ratio</th>\n",
       "      <th>TravelHorizonDays</th>\n",
       "      <th>dayofweek</th>\n",
       "      <th>Seg_0_OperatingCarrierIATA</th>\n",
       "      <th>Seg_1_OperatingCarrierIATA</th>\n",
       "      <th>Seg_2_OperatingCarrierIATA</th>\n",
       "      <th>Seg_3_OperatingCarrierIATA</th>\n",
       "      <th>TravelDistanceKm</th>\n",
       "      <th>PricePerPax</th>\n",
       "      <th>SelfTransfer</th>\n",
       "      <th>total_layover_time</th>\n",
       "    </tr>\n",
       "  </thead>\n",
       "  <tbody>\n",
       "    <tr>\n",
       "      <th>0</th>\n",
       "      <td>1</td>\n",
       "      <td>410</td>\n",
       "      <td>0.512195</td>\n",
       "      <td>TLS</td>\n",
       "      <td>FCO</td>\n",
       "      <td>1714.360</td>\n",
       "      <td>1.854818</td>\n",
       "      <td>3</td>\n",
       "      <td>2</td>\n",
       "      <td>U2</td>\n",
       "      <td>U2</td>\n",
       "      <td>NaN</td>\n",
       "      <td>NaN</td>\n",
       "      <td>924.274</td>\n",
       "      <td>104.667500</td>\n",
       "      <td>1</td>\n",
       "      <td>210</td>\n",
       "    </tr>\n",
       "    <tr>\n",
       "      <th>1</th>\n",
       "      <td>1</td>\n",
       "      <td>425</td>\n",
       "      <td>0.247059</td>\n",
       "      <td>AGP</td>\n",
       "      <td>ARN</td>\n",
       "      <td>3015.741</td>\n",
       "      <td>1.016140</td>\n",
       "      <td>12</td>\n",
       "      <td>4</td>\n",
       "      <td>U2</td>\n",
       "      <td>U2</td>\n",
       "      <td>NaN</td>\n",
       "      <td>NaN</td>\n",
       "      <td>2967.841</td>\n",
       "      <td>173.426667</td>\n",
       "      <td>1</td>\n",
       "      <td>105</td>\n",
       "    </tr>\n",
       "    <tr>\n",
       "      <th>2</th>\n",
       "      <td>1</td>\n",
       "      <td>390</td>\n",
       "      <td>0.589744</td>\n",
       "      <td>FCO</td>\n",
       "      <td>TLS</td>\n",
       "      <td>1107.049</td>\n",
       "      <td>1.197750</td>\n",
       "      <td>3</td>\n",
       "      <td>2</td>\n",
       "      <td>U2</td>\n",
       "      <td>U2</td>\n",
       "      <td>NaN</td>\n",
       "      <td>NaN</td>\n",
       "      <td>924.274</td>\n",
       "      <td>112.763333</td>\n",
       "      <td>1</td>\n",
       "      <td>230</td>\n",
       "    </tr>\n",
       "    <tr>\n",
       "      <th>3</th>\n",
       "      <td>1</td>\n",
       "      <td>425</td>\n",
       "      <td>0.352941</td>\n",
       "      <td>LIS</td>\n",
       "      <td>BER</td>\n",
       "      <td>2549.215</td>\n",
       "      <td>1.106451</td>\n",
       "      <td>7</td>\n",
       "      <td>6</td>\n",
       "      <td>U2</td>\n",
       "      <td>U2</td>\n",
       "      <td>NaN</td>\n",
       "      <td>NaN</td>\n",
       "      <td>2303.957</td>\n",
       "      <td>159.526806</td>\n",
       "      <td>1</td>\n",
       "      <td>150</td>\n",
       "    </tr>\n",
       "    <tr>\n",
       "      <th>4</th>\n",
       "      <td>1</td>\n",
       "      <td>505</td>\n",
       "      <td>0.346535</td>\n",
       "      <td>PRG</td>\n",
       "      <td>KEF</td>\n",
       "      <td>2906.959</td>\n",
       "      <td>1.101503</td>\n",
       "      <td>15</td>\n",
       "      <td>7</td>\n",
       "      <td>U2</td>\n",
       "      <td>U2</td>\n",
       "      <td>NaN</td>\n",
       "      <td>NaN</td>\n",
       "      <td>2639.083</td>\n",
       "      <td>139.332500</td>\n",
       "      <td>1</td>\n",
       "      <td>175</td>\n",
       "    </tr>\n",
       "    <tr>\n",
       "      <th>...</th>\n",
       "      <td>...</td>\n",
       "      <td>...</td>\n",
       "      <td>...</td>\n",
       "      <td>...</td>\n",
       "      <td>...</td>\n",
       "      <td>...</td>\n",
       "      <td>...</td>\n",
       "      <td>...</td>\n",
       "      <td>...</td>\n",
       "      <td>...</td>\n",
       "      <td>...</td>\n",
       "      <td>...</td>\n",
       "      <td>...</td>\n",
       "      <td>...</td>\n",
       "      <td>...</td>\n",
       "      <td>...</td>\n",
       "      <td>...</td>\n",
       "    </tr>\n",
       "    <tr>\n",
       "      <th>867293</th>\n",
       "      <td>1</td>\n",
       "      <td>1530</td>\n",
       "      <td>0.372549</td>\n",
       "      <td>TFS</td>\n",
       "      <td>LAX</td>\n",
       "      <td>11727.578</td>\n",
       "      <td>1.263142</td>\n",
       "      <td>29</td>\n",
       "      <td>7</td>\n",
       "      <td>U2</td>\n",
       "      <td>Z0</td>\n",
       "      <td>NaN</td>\n",
       "      <td>NaN</td>\n",
       "      <td>9284.452</td>\n",
       "      <td>524.023104</td>\n",
       "      <td>1</td>\n",
       "      <td>570</td>\n",
       "    </tr>\n",
       "    <tr>\n",
       "      <th>867294</th>\n",
       "      <td>1</td>\n",
       "      <td>690</td>\n",
       "      <td>0.688406</td>\n",
       "      <td>ABZ</td>\n",
       "      <td>NCE</td>\n",
       "      <td>1672.391</td>\n",
       "      <td>1.018478</td>\n",
       "      <td>2</td>\n",
       "      <td>1</td>\n",
       "      <td>U2</td>\n",
       "      <td>U2</td>\n",
       "      <td>NaN</td>\n",
       "      <td>NaN</td>\n",
       "      <td>1642.049</td>\n",
       "      <td>186.831250</td>\n",
       "      <td>1</td>\n",
       "      <td>475</td>\n",
       "    </tr>\n",
       "    <tr>\n",
       "      <th>867295</th>\n",
       "      <td>1</td>\n",
       "      <td>690</td>\n",
       "      <td>0.688406</td>\n",
       "      <td>ABZ</td>\n",
       "      <td>NCE</td>\n",
       "      <td>1672.391</td>\n",
       "      <td>1.018478</td>\n",
       "      <td>9</td>\n",
       "      <td>1</td>\n",
       "      <td>U2</td>\n",
       "      <td>U2</td>\n",
       "      <td>NaN</td>\n",
       "      <td>NaN</td>\n",
       "      <td>1642.049</td>\n",
       "      <td>171.790937</td>\n",
       "      <td>1</td>\n",
       "      <td>475</td>\n",
       "    </tr>\n",
       "    <tr>\n",
       "      <th>867296</th>\n",
       "      <td>1</td>\n",
       "      <td>450</td>\n",
       "      <td>0.522222</td>\n",
       "      <td>MRS</td>\n",
       "      <td>ZRH</td>\n",
       "      <td>1752.698</td>\n",
       "      <td>3.389974</td>\n",
       "      <td>17</td>\n",
       "      <td>2</td>\n",
       "      <td>U2</td>\n",
       "      <td>U2</td>\n",
       "      <td>NaN</td>\n",
       "      <td>NaN</td>\n",
       "      <td>517.024</td>\n",
       "      <td>154.540375</td>\n",
       "      <td>1</td>\n",
       "      <td>235</td>\n",
       "    </tr>\n",
       "    <tr>\n",
       "      <th>867297</th>\n",
       "      <td>1</td>\n",
       "      <td>450</td>\n",
       "      <td>0.522222</td>\n",
       "      <td>MRS</td>\n",
       "      <td>ZRH</td>\n",
       "      <td>1752.698</td>\n",
       "      <td>3.389974</td>\n",
       "      <td>10</td>\n",
       "      <td>2</td>\n",
       "      <td>U2</td>\n",
       "      <td>U2</td>\n",
       "      <td>NaN</td>\n",
       "      <td>NaN</td>\n",
       "      <td>517.024</td>\n",
       "      <td>157.982762</td>\n",
       "      <td>1</td>\n",
       "      <td>235</td>\n",
       "    </tr>\n",
       "  </tbody>\n",
       "</table>\n",
       "<p>867298 rows × 17 columns</p>\n",
       "</div>"
      ],
      "text/plain": [
       "        Stops  DurationMin  total_layover_time_ratio OriginApt DestinationApt  \\\n",
       "0           1          410                  0.512195       TLS            FCO   \n",
       "1           1          425                  0.247059       AGP            ARN   \n",
       "2           1          390                  0.589744       FCO            TLS   \n",
       "3           1          425                  0.352941       LIS            BER   \n",
       "4           1          505                  0.346535       PRG            KEF   \n",
       "...       ...          ...                       ...       ...            ...   \n",
       "867293      1         1530                  0.372549       TFS            LAX   \n",
       "867294      1          690                  0.688406       ABZ            NCE   \n",
       "867295      1          690                  0.688406       ABZ            NCE   \n",
       "867296      1          450                  0.522222       MRS            ZRH   \n",
       "867297      1          450                  0.522222       MRS            ZRH   \n",
       "\n",
       "        total_distance_traveled  extra_travel_distance_ratio  \\\n",
       "0                      1714.360                     1.854818   \n",
       "1                      3015.741                     1.016140   \n",
       "2                      1107.049                     1.197750   \n",
       "3                      2549.215                     1.106451   \n",
       "4                      2906.959                     1.101503   \n",
       "...                         ...                          ...   \n",
       "867293                11727.578                     1.263142   \n",
       "867294                 1672.391                     1.018478   \n",
       "867295                 1672.391                     1.018478   \n",
       "867296                 1752.698                     3.389974   \n",
       "867297                 1752.698                     3.389974   \n",
       "\n",
       "        TravelHorizonDays  dayofweek Seg_0_OperatingCarrierIATA  \\\n",
       "0                       3          2                         U2   \n",
       "1                      12          4                         U2   \n",
       "2                       3          2                         U2   \n",
       "3                       7          6                         U2   \n",
       "4                      15          7                         U2   \n",
       "...                   ...        ...                        ...   \n",
       "867293                 29          7                         U2   \n",
       "867294                  2          1                         U2   \n",
       "867295                  9          1                         U2   \n",
       "867296                 17          2                         U2   \n",
       "867297                 10          2                         U2   \n",
       "\n",
       "       Seg_1_OperatingCarrierIATA  Seg_2_OperatingCarrierIATA  \\\n",
       "0                              U2                         NaN   \n",
       "1                              U2                         NaN   \n",
       "2                              U2                         NaN   \n",
       "3                              U2                         NaN   \n",
       "4                              U2                         NaN   \n",
       "...                           ...                         ...   \n",
       "867293                         Z0                         NaN   \n",
       "867294                         U2                         NaN   \n",
       "867295                         U2                         NaN   \n",
       "867296                         U2                         NaN   \n",
       "867297                         U2                         NaN   \n",
       "\n",
       "        Seg_3_OperatingCarrierIATA  TravelDistanceKm  PricePerPax  \\\n",
       "0                              NaN           924.274   104.667500   \n",
       "1                              NaN          2967.841   173.426667   \n",
       "2                              NaN           924.274   112.763333   \n",
       "3                              NaN          2303.957   159.526806   \n",
       "4                              NaN          2639.083   139.332500   \n",
       "...                            ...               ...          ...   \n",
       "867293                         NaN          9284.452   524.023104   \n",
       "867294                         NaN          1642.049   186.831250   \n",
       "867295                         NaN          1642.049   171.790937   \n",
       "867296                         NaN           517.024   154.540375   \n",
       "867297                         NaN           517.024   157.982762   \n",
       "\n",
       "        SelfTransfer  total_layover_time  \n",
       "0                  1                 210  \n",
       "1                  1                 105  \n",
       "2                  1                 230  \n",
       "3                  1                 150  \n",
       "4                  1                 175  \n",
       "...              ...                 ...  \n",
       "867293             1                 570  \n",
       "867294             1                 475  \n",
       "867295             1                 475  \n",
       "867296             1                 235  \n",
       "867297             1                 235  \n",
       "\n",
       "[867298 rows x 17 columns]"
      ]
     },
     "execution_count": 76,
     "metadata": {},
     "output_type": "execute_result"
    }
   ],
   "source": [
    "update_col_names[columns_v2]\n"
   ]
  },
  {
   "cell_type": "code",
   "execution_count": 83,
   "metadata": {},
   "outputs": [],
   "source": [
    "def process_new_data(original_data, new_data, PreprocessScalers, box_cox_columns, yeo_johnson_columns):\n",
    "\n",
    "\n",
    "    #Binary encoding origin\n",
    "    df_binary = PreprocessScalers.o_encoder.transform(new_data)\n",
    "\n",
    "    print(df_binary.shape)\n",
    "\n",
    "    # Binary encoding Destination\n",
    "    all_destination_cats = create_df_of_all_categories(original_data, df_binary, 'DestinationApt')\n",
    "    all_binary = PreprocessScalers.d_encoder.transform(all_destination_cats)\n",
    "    all_binary.dropna(subset='Stops', inplace=True)\n",
    "\n",
    "    print(all_binary.shape)\n",
    "\n",
    "    # Scaling other features\n",
    "\n",
    "    # Box cox\n",
    "    for col in box_cox_columns:\n",
    "        all_binary[col]  = stats.boxcox(all_binary[col], lmbda=PreprocessScalers.box_lambda)\n",
    "\n",
    "    print(all_binary.shape)\n",
    "\n",
    "    # Yeo-johnson\n",
    "    for col in yeo_johnson_columns:\n",
    "        all_binary[col] = stats.yeojohnson(all_binary[col], lmbda=PreprocessScalers.yeo_lambda)\n",
    "\n",
    "    print(all_binary.shape)\n",
    "\n",
    "    #Min max scaling\n",
    "    all_binary[min_max_scaling] = PreprocessScalers.minmax_scaler.transform(all_binary[min_max_scaling])\n",
    "\n",
    "    print(all_binary.shape)\n",
    "\n",
    "    # Cyclical encoding\n",
    "    all_binary['sin_day'] = np.sin(2 * np.pi * all_binary['dayofweek'] / 7)\n",
    "    all_binary['cos_day'] = np.cos(2 * np.pi * all_binary['dayofweek'] / 7)\n",
    "\n",
    "    all_binary.drop(columns=['dayofweek'], inplace=True)\n",
    "\n",
    "    print(all_binary.shape)\n",
    "\n",
    "    # Binary encoding Operator IATA'\n",
    "    seg_0_cats = create_df_of_all_categories(original_data, all_binary, 'Seg_0_OperatingCarrierIATA')\n",
    "    seg_0_binary = PreprocessScalers.seg_0_encoder.transform(seg_0_cats)\n",
    "    seg_0_binary.dropna(subset='Stops', inplace=True)\n",
    "\n",
    "    seg_1_cats = create_df_of_all_categories(original_data, seg_0_binary, 'Seg_1_OperatingCarrierIATA')\n",
    "    seg_1_binary = PreprocessScalers.seg_1_encoder.transform(seg_1_cats)\n",
    "    seg_1_binary.dropna(subset='Stops', inplace=True)\n",
    "\n",
    "    seg_2_cats = create_df_of_all_categories(original_data, seg_1_binary, 'Seg_2_OperatingCarrierIATA')\n",
    "    seg_2_binary = PreprocessScalers.seg_2_encoder.transform(seg_2_cats)\n",
    "    seg_2_binary.dropna(subset='Stops', inplace=True)\n",
    "\n",
    "    seg_3_cats = create_df_of_all_categories(original_data, seg_2_binary, 'Seg_3_OperatingCarrierIATA')\n",
    "    seg_3_binary = PreprocessScalers.seg_3_encoder.transform(seg_3_cats)\n",
    "    seg_3_binary.dropna(subset='Stops', inplace=True)\n",
    "\n",
    "    return seg_3_binary\n"
   ]
  },
  {
   "cell_type": "code",
   "execution_count": 84,
   "metadata": {},
   "outputs": [
    {
     "name": "stdout",
     "output_type": "stream",
     "text": [
      "(867298, 28)\n",
      "(867298, 39)\n",
      "(867298, 39)\n",
      "(867298, 39)\n",
      "(867298, 39)\n",
      "(867298, 40)\n"
     ]
    }
   ],
   "source": [
    "scaled_dohop_data = process_new_data(df_with_target, update_col_names, PreprocessScalers,\n",
    "                                     box_cox_columns, yeo_johnson_columns).drop(columns='total_layover_time')\n"
   ]
  },
  {
   "cell_type": "code",
   "execution_count": 88,
   "metadata": {},
   "outputs": [],
   "source": [
    "model = load_model('../models/ant_model_111223_v2.h5')\n"
   ]
  },
  {
   "cell_type": "code",
   "execution_count": 89,
   "metadata": {},
   "outputs": [
    {
     "name": "stdout",
     "output_type": "stream",
     "text": [
      "27104/27104 [==============================] - 10s 349us/step\n"
     ]
    }
   ],
   "source": [
    "dohop_pred = model.predict(scaled_dohop_data)\n"
   ]
  },
  {
   "cell_type": "code",
   "execution_count": 95,
   "metadata": {},
   "outputs": [],
   "source": [
    "raw_dohop_data['bookings'] = raw_dohop_data['bookings'].fillna(0)\n"
   ]
  },
  {
   "cell_type": "code",
   "execution_count": 98,
   "metadata": {},
   "outputs": [],
   "source": [
    "clean_raw_dohop_data = raw_dohop_data.dropna(subset='itinerary_fare')\n"
   ]
  },
  {
   "cell_type": "code",
   "execution_count": 99,
   "metadata": {},
   "outputs": [
    {
     "name": "stderr",
     "output_type": "stream",
     "text": [
      "/var/folders/62/d7t21rj54ls65fhypjm4ryb00000gn/T/ipykernel_13244/1805995779.py:1: SettingWithCopyWarning: \n",
      "A value is trying to be set on a copy of a slice from a DataFrame.\n",
      "Try using .loc[row_indexer,col_indexer] = value instead\n",
      "\n",
      "See the caveats in the documentation: https://pandas.pydata.org/pandas-docs/stable/user_guide/indexing.html#returning-a-view-versus-a-copy\n",
      "  clean_raw_dohop_data['y_pred'] = dohop_pred\n"
     ]
    }
   ],
   "source": [
    "clean_raw_dohop_data['y_pred'] = dohop_pred\n"
   ]
  },
  {
   "cell_type": "code",
   "execution_count": 100,
   "metadata": {},
   "outputs": [
    {
     "data": {
      "text/html": [
       "<div>\n",
       "<style scoped>\n",
       "    .dataframe tbody tr th:only-of-type {\n",
       "        vertical-align: middle;\n",
       "    }\n",
       "\n",
       "    .dataframe tbody tr th {\n",
       "        vertical-align: top;\n",
       "    }\n",
       "\n",
       "    .dataframe thead th {\n",
       "        text-align: right;\n",
       "    }\n",
       "</style>\n",
       "<table border=\"1\" class=\"dataframe\">\n",
       "  <thead>\n",
       "    <tr style=\"text-align: right;\">\n",
       "      <th></th>\n",
       "      <th>flights</th>\n",
       "      <th>origin_iata</th>\n",
       "      <th>destination_iata</th>\n",
       "      <th>connection_airport</th>\n",
       "      <th>total_flight_time</th>\n",
       "      <th>connection_time</th>\n",
       "      <th>days_to_travel</th>\n",
       "      <th>dayofweek</th>\n",
       "      <th>pax</th>\n",
       "      <th>bookings</th>\n",
       "      <th>booked_fare</th>\n",
       "      <th>total_distance</th>\n",
       "      <th>direct_distance</th>\n",
       "      <th>itinerary_fare</th>\n",
       "      <th>y_pred</th>\n",
       "    </tr>\n",
       "  </thead>\n",
       "  <tbody>\n",
       "    <tr>\n",
       "      <th>0</th>\n",
       "      <td>U24706, U24743</td>\n",
       "      <td>TLS</td>\n",
       "      <td>FCO</td>\n",
       "      <td>NTE</td>\n",
       "      <td>200</td>\n",
       "      <td>210</td>\n",
       "      <td>3</td>\n",
       "      <td>2</td>\n",
       "      <td>11.0</td>\n",
       "      <td>7.0</td>\n",
       "      <td>147.763456</td>\n",
       "      <td>1714.360</td>\n",
       "      <td>924.274</td>\n",
       "      <td>104.667500</td>\n",
       "      <td>0.894940</td>\n",
       "    </tr>\n",
       "    <tr>\n",
       "      <th>1</th>\n",
       "      <td>U21388, U21595</td>\n",
       "      <td>AGP</td>\n",
       "      <td>ARN</td>\n",
       "      <td>GVA</td>\n",
       "      <td>320</td>\n",
       "      <td>105</td>\n",
       "      <td>12</td>\n",
       "      <td>4</td>\n",
       "      <td>5.0</td>\n",
       "      <td>4.0</td>\n",
       "      <td>168.904838</td>\n",
       "      <td>3015.741</td>\n",
       "      <td>2967.841</td>\n",
       "      <td>173.426667</td>\n",
       "      <td>1.264778</td>\n",
       "    </tr>\n",
       "    <tr>\n",
       "      <th>2</th>\n",
       "      <td>U24412, U24325</td>\n",
       "      <td>FCO</td>\n",
       "      <td>TLS</td>\n",
       "      <td>LYS</td>\n",
       "      <td>160</td>\n",
       "      <td>230</td>\n",
       "      <td>3</td>\n",
       "      <td>2</td>\n",
       "      <td>7.0</td>\n",
       "      <td>4.0</td>\n",
       "      <td>233.022479</td>\n",
       "      <td>1107.049</td>\n",
       "      <td>924.274</td>\n",
       "      <td>112.763333</td>\n",
       "      <td>-0.143769</td>\n",
       "    </tr>\n",
       "    <tr>\n",
       "      <th>3</th>\n",
       "      <td>U27617, U25146</td>\n",
       "      <td>LIS</td>\n",
       "      <td>BER</td>\n",
       "      <td>NCE</td>\n",
       "      <td>275</td>\n",
       "      <td>150</td>\n",
       "      <td>7</td>\n",
       "      <td>6</td>\n",
       "      <td>4.0</td>\n",
       "      <td>4.0</td>\n",
       "      <td>146.028624</td>\n",
       "      <td>2549.215</td>\n",
       "      <td>2303.957</td>\n",
       "      <td>159.526806</td>\n",
       "      <td>0.717019</td>\n",
       "    </tr>\n",
       "    <tr>\n",
       "      <th>4</th>\n",
       "      <td>U28782, U28845</td>\n",
       "      <td>PRG</td>\n",
       "      <td>KEF</td>\n",
       "      <td>LGW</td>\n",
       "      <td>330</td>\n",
       "      <td>175</td>\n",
       "      <td>15</td>\n",
       "      <td>7</td>\n",
       "      <td>3.0</td>\n",
       "      <td>3.0</td>\n",
       "      <td>177.352702</td>\n",
       "      <td>2906.959</td>\n",
       "      <td>2639.083</td>\n",
       "      <td>139.332500</td>\n",
       "      <td>0.562714</td>\n",
       "    </tr>\n",
       "    <tr>\n",
       "      <th>...</th>\n",
       "      <td>...</td>\n",
       "      <td>...</td>\n",
       "      <td>...</td>\n",
       "      <td>...</td>\n",
       "      <td>...</td>\n",
       "      <td>...</td>\n",
       "      <td>...</td>\n",
       "      <td>...</td>\n",
       "      <td>...</td>\n",
       "      <td>...</td>\n",
       "      <td>...</td>\n",
       "      <td>...</td>\n",
       "      <td>...</td>\n",
       "      <td>...</td>\n",
       "      <td>...</td>\n",
       "    </tr>\n",
       "    <tr>\n",
       "      <th>2019368</th>\n",
       "      <td>U28054, Z0711</td>\n",
       "      <td>TFS</td>\n",
       "      <td>LAX</td>\n",
       "      <td>LGW</td>\n",
       "      <td>960</td>\n",
       "      <td>570</td>\n",
       "      <td>29</td>\n",
       "      <td>7</td>\n",
       "      <td>NaN</td>\n",
       "      <td>0.0</td>\n",
       "      <td>NaN</td>\n",
       "      <td>11727.578</td>\n",
       "      <td>9284.452</td>\n",
       "      <td>524.023104</td>\n",
       "      <td>-0.337488</td>\n",
       "    </tr>\n",
       "    <tr>\n",
       "      <th>2019369</th>\n",
       "      <td>U2856, U28419</td>\n",
       "      <td>ABZ</td>\n",
       "      <td>NCE</td>\n",
       "      <td>LGW</td>\n",
       "      <td>215</td>\n",
       "      <td>475</td>\n",
       "      <td>2</td>\n",
       "      <td>1</td>\n",
       "      <td>NaN</td>\n",
       "      <td>0.0</td>\n",
       "      <td>NaN</td>\n",
       "      <td>1672.391</td>\n",
       "      <td>1642.049</td>\n",
       "      <td>186.831250</td>\n",
       "      <td>0.810475</td>\n",
       "    </tr>\n",
       "    <tr>\n",
       "      <th>2019370</th>\n",
       "      <td>U2856, U28419</td>\n",
       "      <td>ABZ</td>\n",
       "      <td>NCE</td>\n",
       "      <td>LGW</td>\n",
       "      <td>215</td>\n",
       "      <td>475</td>\n",
       "      <td>9</td>\n",
       "      <td>1</td>\n",
       "      <td>NaN</td>\n",
       "      <td>0.0</td>\n",
       "      <td>NaN</td>\n",
       "      <td>1672.391</td>\n",
       "      <td>1642.049</td>\n",
       "      <td>171.790937</td>\n",
       "      <td>0.803207</td>\n",
       "    </tr>\n",
       "    <tr>\n",
       "      <th>2019374</th>\n",
       "      <td>U28440, U28473</td>\n",
       "      <td>MRS</td>\n",
       "      <td>ZRH</td>\n",
       "      <td>LGW</td>\n",
       "      <td>215</td>\n",
       "      <td>235</td>\n",
       "      <td>17</td>\n",
       "      <td>2</td>\n",
       "      <td>NaN</td>\n",
       "      <td>0.0</td>\n",
       "      <td>NaN</td>\n",
       "      <td>1752.698</td>\n",
       "      <td>517.024</td>\n",
       "      <td>154.540375</td>\n",
       "      <td>0.882778</td>\n",
       "    </tr>\n",
       "    <tr>\n",
       "      <th>2019375</th>\n",
       "      <td>U28440, U28473</td>\n",
       "      <td>MRS</td>\n",
       "      <td>ZRH</td>\n",
       "      <td>LGW</td>\n",
       "      <td>215</td>\n",
       "      <td>235</td>\n",
       "      <td>10</td>\n",
       "      <td>2</td>\n",
       "      <td>NaN</td>\n",
       "      <td>0.0</td>\n",
       "      <td>NaN</td>\n",
       "      <td>1752.698</td>\n",
       "      <td>517.024</td>\n",
       "      <td>157.982762</td>\n",
       "      <td>0.889972</td>\n",
       "    </tr>\n",
       "  </tbody>\n",
       "</table>\n",
       "<p>867298 rows × 15 columns</p>\n",
       "</div>"
      ],
      "text/plain": [
       "                flights origin_iata destination_iata connection_airport  \\\n",
       "0        U24706, U24743         TLS              FCO                NTE   \n",
       "1        U21388, U21595         AGP              ARN                GVA   \n",
       "2        U24412, U24325         FCO              TLS                LYS   \n",
       "3        U27617, U25146         LIS              BER                NCE   \n",
       "4        U28782, U28845         PRG              KEF                LGW   \n",
       "...                 ...         ...              ...                ...   \n",
       "2019368   U28054, Z0711         TFS              LAX                LGW   \n",
       "2019369   U2856, U28419         ABZ              NCE                LGW   \n",
       "2019370   U2856, U28419         ABZ              NCE                LGW   \n",
       "2019374  U28440, U28473         MRS              ZRH                LGW   \n",
       "2019375  U28440, U28473         MRS              ZRH                LGW   \n",
       "\n",
       "         total_flight_time  connection_time  days_to_travel  dayofweek   pax  \\\n",
       "0                      200              210               3          2  11.0   \n",
       "1                      320              105              12          4   5.0   \n",
       "2                      160              230               3          2   7.0   \n",
       "3                      275              150               7          6   4.0   \n",
       "4                      330              175              15          7   3.0   \n",
       "...                    ...              ...             ...        ...   ...   \n",
       "2019368                960              570              29          7   NaN   \n",
       "2019369                215              475               2          1   NaN   \n",
       "2019370                215              475               9          1   NaN   \n",
       "2019374                215              235              17          2   NaN   \n",
       "2019375                215              235              10          2   NaN   \n",
       "\n",
       "         bookings  booked_fare  total_distance  direct_distance  \\\n",
       "0             7.0   147.763456        1714.360          924.274   \n",
       "1             4.0   168.904838        3015.741         2967.841   \n",
       "2             4.0   233.022479        1107.049          924.274   \n",
       "3             4.0   146.028624        2549.215         2303.957   \n",
       "4             3.0   177.352702        2906.959         2639.083   \n",
       "...           ...          ...             ...              ...   \n",
       "2019368       0.0          NaN       11727.578         9284.452   \n",
       "2019369       0.0          NaN        1672.391         1642.049   \n",
       "2019370       0.0          NaN        1672.391         1642.049   \n",
       "2019374       0.0          NaN        1752.698          517.024   \n",
       "2019375       0.0          NaN        1752.698          517.024   \n",
       "\n",
       "         itinerary_fare    y_pred  \n",
       "0            104.667500  0.894940  \n",
       "1            173.426667  1.264778  \n",
       "2            112.763333 -0.143769  \n",
       "3            159.526806  0.717019  \n",
       "4            139.332500  0.562714  \n",
       "...                 ...       ...  \n",
       "2019368      524.023104 -0.337488  \n",
       "2019369      186.831250  0.810475  \n",
       "2019370      171.790937  0.803207  \n",
       "2019374      154.540375  0.882778  \n",
       "2019375      157.982762  0.889972  \n",
       "\n",
       "[867298 rows x 15 columns]"
      ]
     },
     "execution_count": 100,
     "metadata": {},
     "output_type": "execute_result"
    }
   ],
   "source": [
    "clean_raw_dohop_data\n"
   ]
  },
  {
   "cell_type": "code",
   "execution_count": 102,
   "metadata": {},
   "outputs": [
    {
     "data": {
      "text/plain": [
       "<Axes: xlabel='bookings', ylabel='y_pred'>"
      ]
     },
     "execution_count": 102,
     "metadata": {},
     "output_type": "execute_result"
    },
    {
     "data": {
      "image/png": "[encoded data removed]",
      "text/plain": [
       "<Figure size 640x480 with 1 Axes>"
      ]
     },
     "metadata": {},
     "output_type": "display_data"
    }
   ],
   "source": [
    "sns.scatterplot(data=clean_raw_dohop_data, x='bookings', y='y_pred', hue='itinerary_fare')\n"
   ]
  },
  {
   "cell_type": "code",
   "execution_count": null,
   "metadata": {},
   "outputs": [],
   "source": []
  }
 ],
 "metadata": {
  "kernelspec": {
   "display_name": "OptiEnv",
   "language": "python",
   "name": "python3"
  },
  "language_info": {
   "codemirror_mode": {
    "name": "ipython",
    "version": 3
   },
   "file_extension": ".py",
   "mimetype": "text/x-python",
   "name": "python",
   "nbconvert_exporter": "python",
   "pygments_lexer": "ipython3",
   "version": "3.11.2"
  }
 },
 "nbformat": 4,
 "nbformat_minor": 2
}
