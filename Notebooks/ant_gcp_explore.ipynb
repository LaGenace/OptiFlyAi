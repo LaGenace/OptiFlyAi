{
 "cells": [
  {
   "cell_type": "code",
   "execution_count": 5,
   "metadata": {},
   "outputs": [],
   "source": [
    "import os\n",
    "from authenticate_service_account import *\n",
    "from google.cloud import bigquery\n",
    "from google.oauth2 import service_account\n",
    "\n",
    "from google.cloud import bigquery\n",
    "from google.oauth2 import service_account\n",
    "\n",
    "import pandas as pd\n"
   ]
  },
  {
   "cell_type": "code",
   "execution_count": 6,
   "metadata": {},
   "outputs": [],
   "source": [
    "key_path = 'raw_data/skyscanner-insights-343713-06a72b2724ca.json'\n",
    "\n",
    "# [START bigquery_client_json_credentials]\n",
    "\n",
    "# TODO(developer): Set key_path to the path to the service account key\n",
    "#                  file.\n",
    "# key_path = \"path/to/service_account.json\"\n",
    "\n",
    "credentials = service_account.Credentials.from_service_account_file(\n",
    "    key_path, scopes=[\"https://www.googleapis.com/auth/cloud-platform\"],\n",
    ")\n",
    "\n",
    "client = bigquery.Client(credentials=credentials, project=credentials.project_id,)\n",
    "# [END bigquery_client_json_credentials]\n"
   ]
  },
  {
   "cell_type": "code",
   "execution_count": 7,
   "metadata": {},
   "outputs": [
    {
     "name": "stdout",
     "output_type": "stream",
     "text": [
      "<google.cloud.bigquery.dataset.DatasetListItem object at 0x10cc1a9e0>\n",
      "<google.cloud.bigquery.dataset.DatasetListItem object at 0x130549450>\n",
      "<google.cloud.bigquery.dataset.DatasetListItem object at 0x10cc1a9e0>\n",
      "<google.cloud.bigquery.dataset.DatasetListItem object at 0x130549450>\n",
      "<google.cloud.bigquery.dataset.DatasetListItem object at 0x10cc1a9e0>\n"
     ]
    }
   ],
   "source": [
    "datasets = client.list_datasets()\n",
    "\n",
    "for dataset in datasets:\n",
    "  print(dataset)\n"
   ]
  },
  {
   "cell_type": "code",
   "execution_count": 8,
   "metadata": {},
   "outputs": [],
   "source": [
    "# query = '''SELECT * FROM `skyscanner-insights-343713.raw_skyscanner_data_frankfurt.skyscanner_redirect_data_v5`\n",
    "# WHERE Timestamp BETWEEN DATETIME(\"2023-08-17\")\n",
    "# AND DATETIME_ADD(\"2023-08-18\", INTERVAL 1 DAY) and Leg_0_StopsCount is not null'''\n",
    "\n",
    "query = '''Select * from `skyscanner-insights-343713.raw_skyscanner_data_frankfurt.skyscanner_redirect_data_v5`\n",
    "WHERE Timestamp BETWEEN DATETIME(\"2023-08-17\")AND DATETIME_ADD(\"2023-08-18\", INTERVAL 1 DAY) and Leg_0_StopsCount is not null\n",
    "ORDER BY RAND()\n",
    "LIMIT 200\n",
    "'''\n"
   ]
  },
  {
   "cell_type": "code",
   "execution_count": 9,
   "metadata": {},
   "outputs": [],
   "source": [
    "query_job = client.query(query)\n"
   ]
  },
  {
   "cell_type": "code",
   "execution_count": 10,
   "metadata": {},
   "outputs": [],
   "source": [
    "results = query_job.result()\n"
   ]
  },
  {
   "cell_type": "code",
   "execution_count": 11,
   "metadata": {},
   "outputs": [],
   "source": [
    "the_data = results.to_dataframe()\n"
   ]
  },
  {
   "cell_type": "code",
   "execution_count": 12,
   "metadata": {},
   "outputs": [
    {
     "data": {
      "text/plain": [
       "(200, 153)"
      ]
     },
     "execution_count": 12,
     "metadata": {},
     "output_type": "execute_result"
    }
   ],
   "source": [
    "the_data.shape\n"
   ]
  },
  {
   "cell_type": "code",
   "execution_count": 11,
   "metadata": {},
   "outputs": [],
   "source": [
    "# data_q1 = the_data[:824792]\n",
    "# data_q2 = the_data[824792:1649584]\n",
    "# data_q3 = the_data[1649584:2474376]\n",
    "# data_q4 = the_data[2474376:]\n",
    "\n",
    "# data_q4.columns\n",
    "\n",
    "# data_q1.to_json(\"raw_data/data_25\", orient='records')\n",
    "# test_df = pd.read_json('raw_data/data_25', orient='records')\n"
   ]
  },
  {
   "cell_type": "code",
   "execution_count": null,
   "metadata": {},
   "outputs": [],
   "source": []
  }
 ],
 "metadata": {
  "kernelspec": {
   "display_name": "lewagon",
   "language": "python",
   "name": "python3"
  },
  "language_info": {
   "codemirror_mode": {
    "name": "ipython",
    "version": 3
   },
   "file_extension": ".py",
   "mimetype": "text/x-python",
   "name": "python",
   "nbconvert_exporter": "python",
   "pygments_lexer": "ipython3",
   "version": "3.10.6"
  }
 },
 "nbformat": 4,
 "nbformat_minor": 2
}
