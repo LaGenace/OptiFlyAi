{
 "cells": [
  {
   "cell_type": "code",
   "execution_count": 1,
   "metadata": {},
   "outputs": [],
   "source": [
    "import sys\n",
    "sys.path.insert(0, '..')\n",
    "\n",
    "import pandas as pd\n",
    "import numpy as np\n",
    "import matplotlib.pyplot as plt\n",
    "from sklearn.model_selection import train_test_split\n",
    "\n",
    "from utils import *\n",
    "\n",
    "from sklearn.ensemble import RandomForestRegressor"
   ]
  },
  {
   "cell_type": "code",
   "execution_count": 2,
   "metadata": {},
   "outputs": [],
   "source": [
    "data = pd.read_csv('../raw_data/skyscanner_data_171223')"
   ]
  },
  {
   "cell_type": "code",
   "execution_count": 3,
   "metadata": {},
   "outputs": [
    {
     "data": {
      "text/plain": [
       "Index(['OriginApt', 'OriginCty', 'OriginCtry', 'DestinationApt',\n",
       "       'DestinationCty', 'DestinationCtry', 'TravelHorizonDays',\n",
       "       'TravelDistanceKm', 'SelfTransfer', 'Stops', 'DurationMin', 'dayofweek',\n",
       "       'Seg_0_OperatingCarrierIATA', 'Seg_1_OperatingCarrierIATA',\n",
       "       'Seg_2_OperatingCarrierIATA', 'Seg_3_OperatingCarrierIATA',\n",
       "       'Total_Flight_Distance', 'Total_Flight_Duration', 'passengers',\n",
       "       'PricePerPax', 'ItineraryRedirects', 'ODRedirects'],\n",
       "      dtype='object')"
      ]
     },
     "execution_count": 3,
     "metadata": {},
     "output_type": "execute_result"
    }
   ],
   "source": [
    "data.columns"
   ]
  },
  {
   "cell_type": "code",
   "execution_count": 4,
   "metadata": {},
   "outputs": [],
   "source": [
    "no_nan = data.dropna(subset=['OriginApt', 'DestinationApt', 'DurationMin', 'PricePerPax', 'DestinationCtry'])"
   ]
  },
  {
   "cell_type": "code",
   "execution_count": 5,
   "metadata": {},
   "outputs": [],
   "source": [
    "columns = ['TravelDistanceKm', 'SelfTransfer', 'Stops',\n",
    "           'DurationMin', 'dayofweek', 'Total_Flight_Distance', 'Total_Flight_Duration', 'PricePerPax',\n",
    "           'total_layover_time_ratio', 'extra_travel_distance']\n",
    "\n",
    "box_cox = ['PricePerPax', 'TravelDistanceKm']\n",
    "\n",
    "yeo_johnson = ['DurationMin', 'Total_Flight_Duration', 'Total_Flight_Distance', 'total_layover_time_ratio', 'extra_travel_distance']\n"
   ]
  },
  {
   "cell_type": "code",
   "execution_count": 6,
   "metadata": {},
   "outputs": [],
   "source": [
    "economy_flights = no_nan[(no_nan['PricePerPax'] > 0) & (no_nan['PricePerPax'] < 2000)]"
   ]
  },
  {
   "cell_type": "code",
   "execution_count": 7,
   "metadata": {},
   "outputs": [],
   "source": [
    "distance_makes_sense_flights = economy_flights[(economy_flights[\"TravelDistanceKm\"]<= economy_flights[\"Total_Flight_Distance\"]) &\n",
    "                                               (economy_flights[\"Total_Flight_Distance\"] <= 5*economy_flights[\"TravelDistanceKm\"])]"
   ]
  },
  {
   "cell_type": "code",
   "execution_count": 8,
   "metadata": {},
   "outputs": [
    {
     "name": "stderr",
     "output_type": "stream",
     "text": [
      "/Users/antonis/code/LaGenace/OptiFlyAi/Notebooks/../utils.py:263: SettingWithCopyWarning: \n",
      "A value is trying to be set on a copy of a slice from a DataFrame.\n",
      "Try using .loc[row_indexer,col_indexer] = value instead\n",
      "\n",
      "See the caveats in the documentation: https://pandas.pydata.org/pandas-docs/stable/user_guide/indexing.html#returning-a-view-versus-a-copy\n",
      "  raw_data[column] = raw_data[column].astype('float64')\n",
      "/Users/antonis/code/LaGenace/OptiFlyAi/Notebooks/../utils.py:263: SettingWithCopyWarning: \n",
      "A value is trying to be set on a copy of a slice from a DataFrame.\n",
      "Try using .loc[row_indexer,col_indexer] = value instead\n",
      "\n",
      "See the caveats in the documentation: https://pandas.pydata.org/pandas-docs/stable/user_guide/indexing.html#returning-a-view-versus-a-copy\n",
      "  raw_data[column] = raw_data[column].astype('float64')\n",
      "/Users/antonis/code/LaGenace/OptiFlyAi/Notebooks/../utils.py:263: SettingWithCopyWarning: \n",
      "A value is trying to be set on a copy of a slice from a DataFrame.\n",
      "Try using .loc[row_indexer,col_indexer] = value instead\n",
      "\n",
      "See the caveats in the documentation: https://pandas.pydata.org/pandas-docs/stable/user_guide/indexing.html#returning-a-view-versus-a-copy\n",
      "  raw_data[column] = raw_data[column].astype('float64')\n",
      "/Users/antonis/code/LaGenace/OptiFlyAi/Notebooks/../utils.py:263: SettingWithCopyWarning: \n",
      "A value is trying to be set on a copy of a slice from a DataFrame.\n",
      "Try using .loc[row_indexer,col_indexer] = value instead\n",
      "\n",
      "See the caveats in the documentation: https://pandas.pydata.org/pandas-docs/stable/user_guide/indexing.html#returning-a-view-versus-a-copy\n",
      "  raw_data[column] = raw_data[column].astype('float64')\n",
      "/Users/antonis/code/LaGenace/OptiFlyAi/Notebooks/../utils.py:263: SettingWithCopyWarning: \n",
      "A value is trying to be set on a copy of a slice from a DataFrame.\n",
      "Try using .loc[row_indexer,col_indexer] = value instead\n",
      "\n",
      "See the caveats in the documentation: https://pandas.pydata.org/pandas-docs/stable/user_guide/indexing.html#returning-a-view-versus-a-copy\n",
      "  raw_data[column] = raw_data[column].astype('float64')\n",
      "/Users/antonis/code/LaGenace/OptiFlyAi/Notebooks/../utils.py:263: SettingWithCopyWarning: \n",
      "A value is trying to be set on a copy of a slice from a DataFrame.\n",
      "Try using .loc[row_indexer,col_indexer] = value instead\n",
      "\n",
      "See the caveats in the documentation: https://pandas.pydata.org/pandas-docs/stable/user_guide/indexing.html#returning-a-view-versus-a-copy\n",
      "  raw_data[column] = raw_data[column].astype('float64')\n",
      "/Users/antonis/code/LaGenace/OptiFlyAi/Notebooks/../utils.py:263: SettingWithCopyWarning: \n",
      "A value is trying to be set on a copy of a slice from a DataFrame.\n",
      "Try using .loc[row_indexer,col_indexer] = value instead\n",
      "\n",
      "See the caveats in the documentation: https://pandas.pydata.org/pandas-docs/stable/user_guide/indexing.html#returning-a-view-versus-a-copy\n",
      "  raw_data[column] = raw_data[column].astype('float64')\n",
      "/Users/antonis/code/LaGenace/OptiFlyAi/Notebooks/../utils.py:263: SettingWithCopyWarning: \n",
      "A value is trying to be set on a copy of a slice from a DataFrame.\n",
      "Try using .loc[row_indexer,col_indexer] = value instead\n",
      "\n",
      "See the caveats in the documentation: https://pandas.pydata.org/pandas-docs/stable/user_guide/indexing.html#returning-a-view-versus-a-copy\n",
      "  raw_data[column] = raw_data[column].astype('float64')\n",
      "/Users/antonis/code/LaGenace/OptiFlyAi/Notebooks/../utils.py:268: SettingWithCopyWarning: \n",
      "A value is trying to be set on a copy of a slice from a DataFrame.\n",
      "Try using .loc[row_indexer,col_indexer] = value instead\n",
      "\n",
      "See the caveats in the documentation: https://pandas.pydata.org/pandas-docs/stable/user_guide/indexing.html#returning-a-view-versus-a-copy\n",
      "  raw_data['OD'] = raw_data['OriginCty'] + raw_data['DestinationCty']\n",
      "/Users/antonis/code/LaGenace/OptiFlyAi/Notebooks/../utils.py:271: SettingWithCopyWarning: \n",
      "A value is trying to be set on a copy of a slice from a DataFrame.\n",
      "Try using .loc[row_indexer,col_indexer] = value instead\n",
      "\n",
      "See the caveats in the documentation: https://pandas.pydata.org/pandas-docs/stable/user_guide/indexing.html#returning-a-view-versus-a-copy\n",
      "  raw_data['total_layover_time'] = raw_data['DurationMin'] - raw_data['Total_Flight_Duration']\n",
      "/Users/antonis/code/LaGenace/OptiFlyAi/Notebooks/../utils.py:272: SettingWithCopyWarning: \n",
      "A value is trying to be set on a copy of a slice from a DataFrame.\n",
      "Try using .loc[row_indexer,col_indexer] = value instead\n",
      "\n",
      "See the caveats in the documentation: https://pandas.pydata.org/pandas-docs/stable/user_guide/indexing.html#returning-a-view-versus-a-copy\n",
      "  raw_data['total_layover_time_ratio'] =raw_data['total_layover_time'] /raw_data['DurationMin']\n",
      "/Users/antonis/code/LaGenace/OptiFlyAi/Notebooks/../utils.py:275: SettingWithCopyWarning: \n",
      "A value is trying to be set on a copy of a slice from a DataFrame.\n",
      "Try using .loc[row_indexer,col_indexer] = value instead\n",
      "\n",
      "See the caveats in the documentation: https://pandas.pydata.org/pandas-docs/stable/user_guide/indexing.html#returning-a-view-versus-a-copy\n",
      "  raw_data['extra_travel_distance'] = raw_data['Total_Flight_Distance'] - raw_data['TravelDistanceKm']\n",
      "/Users/antonis/code/LaGenace/OptiFlyAi/Notebooks/../utils.py:276: SettingWithCopyWarning: \n",
      "A value is trying to be set on a copy of a slice from a DataFrame.\n",
      "Try using .loc[row_indexer,col_indexer] = value instead\n",
      "\n",
      "See the caveats in the documentation: https://pandas.pydata.org/pandas-docs/stable/user_guide/indexing.html#returning-a-view-versus-a-copy\n",
      "  raw_data['extra_travel_distance_ratio'] =  raw_data['Total_Flight_Distance'] / raw_data['TravelDistanceKm']\n"
     ]
    }
   ],
   "source": [
    "processed_data, scalers = all_preprocessing(distance_makes_sense_flights,columns, scale_itin_redirects, 'Score_Z_score_0_50', box_cox, yeo_johnson,\n",
    "                                   target_func_param1='ItineraryRedirects', target_func_param2=0, target_func_param3=50)"
   ]
  },
  {
   "cell_type": "code",
   "execution_count": 9,
   "metadata": {},
   "outputs": [
    {
     "data": {
      "image/png": "[encoded data removed]",
      "text/plain": [
       "<Figure size 2000x1000 with 12 Axes>"
      ]
     },
     "metadata": {},
     "output_type": "display_data"
    }
   ],
   "source": [
    "processed_data.hist(figsize=(20, 10));"
   ]
  },
  {
   "cell_type": "code",
   "execution_count": 10,
   "metadata": {},
   "outputs": [],
   "source": [
    "clean_processed_data = processed_data.dropna(subset=['Score_Z_score_0_50'])"
   ]
  },
  {
   "cell_type": "code",
   "execution_count": 11,
   "metadata": {},
   "outputs": [],
   "source": [
    "X_train, X_test, y_train, y_test = train_test_split(clean_processed_data.drop('Score_Z_score_0_50', axis=1),\n",
    "                                                    clean_processed_data['Score_Z_score_0_50'], test_size=0.2, random_state=42)"
   ]
  },
  {
   "cell_type": "code",
   "execution_count": 12,
   "metadata": {},
   "outputs": [],
   "source": [
    "from sklearn.model_selection import train_test_split\n",
    "from scipy.stats import zscore\n",
    "from sklearn.preprocessing import MinMaxScaler\n",
    "import numpy as np\n",
    "import pandas as pd\n",
    "import category_encoders as ce\n",
    "from scipy import stats\n",
    "from typing import List, Callable, ClassVar\n",
    "\n",
    "def process_new_data2(original_data:pd.DataFrame, new_data:pd.DataFrame, scalers, colums_to_keep:List[str],\n",
    "                     box_cox_columns:List[str]=False, yeo_johnson_columns:List[str]=False, log_transform_columns:List[str]=False, min_max_columns:List[str]=False,\n",
    "                     od_encoding:bool=False, operator_encoding:bool=False):\n",
    "    \"\"\"\n",
    "    This function processes new data, using scalers and encoders from the training set\n",
    "    It only returns the columns stated in columns_to_keep, and encoded columns if those options flipped to True\n",
    "\n",
    "    original_data: This is used for encoding - can have dummy data if no encoding is taking place.\n",
    "\n",
    "    new_data: The data you are processing\n",
    "\n",
    "    scalers: Must be a Class variable of scalers from the all_preprocessing function\n",
    "\n",
    "    columns_to_keep: this is the list of columns you want to keep, if daysofweek, it only returns the cosin columns and drops daysofweek\n",
    "\n",
    "    _columns variables: List of columns you want in that scaling step\n",
    "\n",
    "    od_encoding + operator_encoding: Boolean, only flip if you want to encode new data.\n",
    "    \"\"\"\n",
    "\n",
    "    # DATA CLEANING\n",
    "\n",
    "    # Filling the Null itinerary_fare data with booked_fare\n",
    "    new_data['itinerary_fare'].fillna(new_data['booked_fare'], inplace=True)\n",
    "\n",
    "    # Dropping data where itinerary_fare remains Null\n",
    "    clean_data = new_data.dropna(subset=['itinerary_fare']).copy().reset_index()\n",
    "\n",
    "    # FEATURE ENGINEERING\n",
    "    clean_data['DurationMin'] = clean_data['flight_time'] + clean_data['connection_time']\n",
    "\n",
    "    clean_data['total_layover_time'] = clean_data['DurationMin'] - clean_data['flight_time']\n",
    "    clean_data['total_layover_time_ratio'] = clean_data['connection_time'] / clean_data['DurationMin']\n",
    "\n",
    "    clean_data['extra_travel_distance'] = clean_data['total_distance'] - clean_data['direct_distance']\n",
    "    clean_data['extra_travel_distance_ratio'] =  clean_data['total_distance'] / clean_data['direct_distance']\n",
    "\n",
    "    if 'seg_0' not in clean_data.columns:\n",
    "        clean_data['seg_0'] = 0\n",
    "        clean_data['seg_1'] = 0\n",
    "\n",
    "        for i in range(len(clean_data)):\n",
    "            listtt = clean_data['flights'][i].split(',')\n",
    "            clean_data['seg_0'][i] = listtt[0][:2]\n",
    "            clean_data['seg_1'][i] = listtt[1].strip()[:2]\n",
    "\n",
    "    # Renaming the columns\n",
    "    col_rename_dict = {'origin': 'OriginApt', 'destination':'DestinationApt', 'days_to_travel':'TravelHorizonDays', 'total_distance':'Total_Flight_Distance',\n",
    "                    'direct_distance':'TravelDistanceKm', 'connection_time':'total_layover_time', 'flight_time':'Total_Flight_Duration','itinerary_fare':'PricePerPax',\n",
    "                    'seg_0':'Seg_0_OperatingCarrierIATA', 'seg_1':'Seg_1_OperatingCarrierIATA', 'seg_2':'Seg_2_OperatingCarrierIATA', 'seg_3':'Seg_3_OperatingCarrierIATA'}\n",
    "\n",
    "    clean_data = clean_data.rename(columns=col_rename_dict).copy()\n",
    "\n",
    "    #TEMP creating Stops and SelfTransfer data\n",
    "    clean_data['Stops'] = 1\n",
    "    clean_data['SelfTransfer'] = True\n",
    "\n",
    "    #DATA CLEANING\n",
    "    for column in clean_data.select_dtypes(include=['int64']).columns:\n",
    "        clean_data[column] = clean_data[column].astype('float64')\n",
    "\n",
    "    # ENCODING\n",
    "    if od_encoding:\n",
    "        #Binary encoding origin\n",
    "        origin_encoded = encoding_new_data(original_data=original_data, data_to_be_processed=clean_data, column='OriginApt', encoder=scalers.o_encoder)\n",
    "\n",
    "        # Binary encoding Destination\n",
    "        destination_encoded = encoding_new_data(original_data, clean_data, 'DestinationApt', scalers.d_encoder)\n",
    "\n",
    "        # Updating the dataset with the encoded columns\n",
    "        clean_data = pd.concat([clean_data, origin_encoded, destination_encoded], axis=1)\n",
    "\n",
    "        # Ensuring the columns are returned at the end of the function\n",
    "        colums_to_keep.extend(origin_encoded.columns.to_list())\n",
    "        colums_to_keep.extend(destination_encoded.columns.to_list())\n",
    "\n",
    "    if operator_encoding:\n",
    "        seg_0_op_iata = encoding_new_data(original_data, clean_data, 'Seg_0_OperatingCarrierIATA', scalers.seg_0_encoder)\n",
    "        seg_1_op_iata = encoding_new_data(original_data, clean_data, 'Seg_1_OperatingCarrierIATA', scalers.seg_1_encoder)\n",
    "\n",
    "        if 'Seg_2_OperatingCarrierIATA' in clean_data.columns:\n",
    "            seg_2_op_iata = encoding_new_data(original_data, clean_data, 'Seg_2_OperatingCarrierIATA', scalers.seg_2_encoder)\n",
    "        else:\n",
    "            seg_2_op_iata = False\n",
    "\n",
    "        if 'Seg_3_OperatingCarrierIATA' in clean_data.columns:\n",
    "            seg_3_op_iata = encoding_new_data(original_data, clean_data, 'Seg_3_OperatingCarrierIATA', scalers.seg_3_encoder)\n",
    "        else:\n",
    "            seg_3_op_iata = False\n",
    "\n",
    "        # Updating the dataset with the encoded columns\n",
    "\n",
    "        dfs_to_concat = [clean_data, seg_0_op_iata, seg_1_op_iata]\n",
    "\n",
    "        if seg_2_op_iata:\n",
    "            dfs_to_concat.append(seg_2_op_iata)\n",
    "        if seg_3_op_iata:\n",
    "            dfs_to_concat.append(seg_3_op_iata)\n",
    "\n",
    "        clean_data = pd.concat(dfs_to_concat, axis=1)\n",
    "\n",
    "        # Ensuring the columns are returned at the end of the function\n",
    "        if operator_encoding:\n",
    "            colums_to_keep.extend(seg_0_op_iata.columns.to_list())\n",
    "            colums_to_keep.extend(seg_1_op_iata.columns.to_list())\n",
    "            if seg_2_op_iata:\n",
    "                colums_to_keep.extend(seg_2_op_iata.columns.to_list())\n",
    "            if seg_3_op_iata:\n",
    "                colums_to_keep.extend(seg_3_op_iata.columns.to_list())\n",
    "\n",
    "    colums_to_keep.append('bookings')\n",
    "\n",
    "    # SCALING\n",
    "    # Box cox\n",
    "    if box_cox_columns:\n",
    "        for col in box_cox_columns:\n",
    "            clean_data.loc[:,col]  = stats.boxcox(clean_data[col], lmbda=scalers.box_lambda[col])\n",
    "\n",
    "    # Yeo-johnson\n",
    "    if yeo_johnson_columns:\n",
    "        for col in yeo_johnson_columns:\n",
    "            clean_data.loc[:,col] = stats.yeojohnson(clean_data[col], lmbda=scalers.yeo_lambda[col])\n",
    "\n",
    "    # Log transformations\n",
    "    if log_transform_columns:\n",
    "        for col in log_transform_columns:\n",
    "            clean_data.loc[:,col] = np.log1p(clean_data[col])\n",
    "\n",
    "    #Min max scaling\n",
    "    if min_max_columns:\n",
    "        for col in min_max_columns:\n",
    "            clean_data.loc[:,col] = scalers.minmax_scaler[col].transform(clean_data[[col]])\n",
    "\n",
    "    if 'SelfTransfer' in colums_to_keep:\n",
    "        #Inversing the importance of SelfTransfer, so Non Self Transfer is seen as better by the model\n",
    "        clean_data['SelfTransfer'] = clean_data['SelfTransfer'].apply(convert_bool_to_num)\n",
    "\n",
    "    data_to_return = clean_data[colums_to_keep].copy()\n",
    "\n",
    "    if 'dayofweek' in colums_to_keep:\n",
    "        # Cyclical encoding\n",
    "        data_to_return['sin_day'] = np.sin(2 * np.pi * data_to_return['dayofweek'] / 7)\n",
    "        data_to_return['cos_day'] = np.cos(2 * np.pi * data_to_return['dayofweek'] / 7)\n",
    "\n",
    "        # Dropping day of week as it is no longer neccesary\n",
    "        data_to_return = data_to_return.drop(columns=['dayofweek']).copy()\n",
    "\n",
    "    return data_to_return"
   ]
  },
  {
   "cell_type": "code",
   "execution_count": 13,
   "metadata": {},
   "outputs": [
    {
     "name": "stderr",
     "output_type": "stream",
     "text": [
      "/var/folders/62/d7t21rj54ls65fhypjm4ryb00000gn/T/ipykernel_6037/1727809782.py:53: SettingWithCopyWarning: \n",
      "A value is trying to be set on a copy of a slice from a DataFrame\n",
      "\n",
      "See the caveats in the documentation: https://pandas.pydata.org/pandas-docs/stable/user_guide/indexing.html#returning-a-view-versus-a-copy\n",
      "  clean_data['seg_0'][i] = listtt[0][:2]\n",
      "/var/folders/62/d7t21rj54ls65fhypjm4ryb00000gn/T/ipykernel_6037/1727809782.py:53: FutureWarning: Setting an item of incompatible dtype is deprecated and will raise in a future error of pandas. Value 'U2' has dtype incompatible with int64, please explicitly cast to a compatible dtype first.\n",
      "  clean_data['seg_0'][i] = listtt[0][:2]\n",
      "/var/folders/62/d7t21rj54ls65fhypjm4ryb00000gn/T/ipykernel_6037/1727809782.py:54: SettingWithCopyWarning: \n",
      "A value is trying to be set on a copy of a slice from a DataFrame\n",
      "\n",
      "See the caveats in the documentation: https://pandas.pydata.org/pandas-docs/stable/user_guide/indexing.html#returning-a-view-versus-a-copy\n",
      "  clean_data['seg_1'][i] = listtt[1].strip()[:2]\n",
      "/var/folders/62/d7t21rj54ls65fhypjm4ryb00000gn/T/ipykernel_6037/1727809782.py:54: FutureWarning: Setting an item of incompatible dtype is deprecated and will raise in a future error of pandas. Value 'U2' has dtype incompatible with int64, please explicitly cast to a compatible dtype first.\n",
      "  clean_data['seg_1'][i] = listtt[1].strip()[:2]\n"
     ]
    }
   ],
   "source": [
    "dohop_data = pd.read_csv('../raw_data/OptiFlyAI_testset.csv')\n",
    "processed_dohop = process_new_data2(original_data=clean_processed_data, new_data=dohop_data, scalers=scalers,\n",
    "                 colums_to_keep=columns, box_cox_columns=box_cox, yeo_johnson_columns=yeo_johnson)"
   ]
  },
  {
   "cell_type": "code",
   "execution_count": 14,
   "metadata": {},
   "outputs": [
    {
     "data": {
      "text/plain": [
       "Index(['flights', 'origin', 'destination', 'cnx_airport', 'flight_time',\n",
       "       'connection_time', 'dayofweek', 'bkgs_with_no_content', 'pax',\n",
       "       'bookings', 'booked_fare', 'total_distance', 'direct_distance',\n",
       "       'itinerary_fare'],\n",
       "      dtype='object')"
      ]
     },
     "execution_count": 14,
     "metadata": {},
     "output_type": "execute_result"
    }
   ],
   "source": [
    "dohop_data.columns"
   ]
  },
  {
   "cell_type": "markdown",
   "metadata": {},
   "source": [
    "# Random forrest Model"
   ]
  },
  {
   "cell_type": "code",
   "execution_count": 29,
   "metadata": {},
   "outputs": [
    {
     "data": {
      "text/html": [
       "<style>#sk-container-id-3 {color: black;}#sk-container-id-3 pre{padding: 0;}#sk-container-id-3 div.sk-toggleable {background-color: white;}#sk-container-id-3 label.sk-toggleable__label {cursor: pointer;display: block;width: 100%;margin-bottom: 0;padding: 0.3em;box-sizing: border-box;text-align: center;}#sk-container-id-3 label.sk-toggleable__label-arrow:before {content: \"▸\";float: left;margin-right: 0.25em;color: #696969;}#sk-container-id-3 label.sk-toggleable__label-arrow:hover:before {color: black;}#sk-container-id-3 div.sk-estimator:hover label.sk-toggleable__label-arrow:before {color: black;}#sk-container-id-3 div.sk-toggleable__content {max-height: 0;max-width: 0;overflow: hidden;text-align: left;background-color: #f0f8ff;}#sk-container-id-3 div.sk-toggleable__content pre {margin: 0.2em;color: black;border-radius: 0.25em;background-color: #f0f8ff;}#sk-container-id-3 input.sk-toggleable__control:checked~div.sk-toggleable__content {max-height: 200px;max-width: 100%;overflow: auto;}#sk-container-id-3 input.sk-toggleable__control:checked~label.sk-toggleable__label-arrow:before {content: \"▾\";}#sk-container-id-3 div.sk-estimator input.sk-toggleable__control:checked~label.sk-toggleable__label {background-color: #d4ebff;}#sk-container-id-3 div.sk-label input.sk-toggleable__control:checked~label.sk-toggleable__label {background-color: #d4ebff;}#sk-container-id-3 input.sk-hidden--visually {border: 0;clip: rect(1px 1px 1px 1px);clip: rect(1px, 1px, 1px, 1px);height: 1px;margin: -1px;overflow: hidden;padding: 0;position: absolute;width: 1px;}#sk-container-id-3 div.sk-estimator {font-family: monospace;background-color: #f0f8ff;border: 1px dotted black;border-radius: 0.25em;box-sizing: border-box;margin-bottom: 0.5em;}#sk-container-id-3 div.sk-estimator:hover {background-color: #d4ebff;}#sk-container-id-3 div.sk-parallel-item::after {content: \"\";width: 100%;border-bottom: 1px solid gray;flex-grow: 1;}#sk-container-id-3 div.sk-label:hover label.sk-toggleable__label {background-color: #d4ebff;}#sk-container-id-3 div.sk-serial::before {content: \"\";position: absolute;border-left: 1px solid gray;box-sizing: border-box;top: 0;bottom: 0;left: 50%;z-index: 0;}#sk-container-id-3 div.sk-serial {display: flex;flex-direction: column;align-items: center;background-color: white;padding-right: 0.2em;padding-left: 0.2em;position: relative;}#sk-container-id-3 div.sk-item {position: relative;z-index: 1;}#sk-container-id-3 div.sk-parallel {display: flex;align-items: stretch;justify-content: center;background-color: white;position: relative;}#sk-container-id-3 div.sk-item::before, #sk-container-id-3 div.sk-parallel-item::before {content: \"\";position: absolute;border-left: 1px solid gray;box-sizing: border-box;top: 0;bottom: 0;left: 50%;z-index: -1;}#sk-container-id-3 div.sk-parallel-item {display: flex;flex-direction: column;z-index: 1;position: relative;background-color: white;}#sk-container-id-3 div.sk-parallel-item:first-child::after {align-self: flex-end;width: 50%;}#sk-container-id-3 div.sk-parallel-item:last-child::after {align-self: flex-start;width: 50%;}#sk-container-id-3 div.sk-parallel-item:only-child::after {width: 0;}#sk-container-id-3 div.sk-dashed-wrapped {border: 1px dashed gray;margin: 0 0.4em 0.5em 0.4em;box-sizing: border-box;padding-bottom: 0.4em;background-color: white;}#sk-container-id-3 div.sk-label label {font-family: monospace;font-weight: bold;display: inline-block;line-height: 1.2em;}#sk-container-id-3 div.sk-label-container {text-align: center;}#sk-container-id-3 div.sk-container {/* jupyter's `normalize.less` sets `[hidden] { display: none; }` but bootstrap.min.css set `[hidden] { display: none !important; }` so we also need the `!important` here to be able to override the default hidden behavior on the sphinx rendered scikit-learn.org. See: https://github.com/scikit-learn/scikit-learn/issues/21755 */display: inline-block !important;position: relative;}#sk-container-id-3 div.sk-text-repr-fallback {display: none;}</style><div id=\"sk-container-id-3\" class=\"sk-top-container\"><div class=\"sk-text-repr-fallback\"><pre>RandomForestRegressor(criterion=&#x27;poisson&#x27;, max_depth=25, n_estimators=10)</pre><b>In a Jupyter environment, please rerun this cell to show the HTML representation or trust the notebook. <br />On GitHub, the HTML representation is unable to render, please try loading this page with nbviewer.org.</b></div><div class=\"sk-container\" hidden><div class=\"sk-item\"><div class=\"sk-estimator sk-toggleable\"><input class=\"sk-toggleable__control sk-hidden--visually\" id=\"sk-estimator-id-3\" type=\"checkbox\" checked><label for=\"sk-estimator-id-3\" class=\"sk-toggleable__label sk-toggleable__label-arrow\">RandomForestRegressor</label><div class=\"sk-toggleable__content\"><pre>RandomForestRegressor(criterion=&#x27;poisson&#x27;, max_depth=25, n_estimators=10)</pre></div></div></div></div></div>"
      ],
      "text/plain": [
       "RandomForestRegressor(criterion='poisson', max_depth=25, n_estimators=10)"
      ]
     },
     "execution_count": 29,
     "metadata": {},
     "output_type": "execute_result"
    }
   ],
   "source": [
    "forrest = RandomForestRegressor(n_estimators=10, criterion='poisson', max_depth=25)\n",
    "forrest.fit(X_train, y_train)"
   ]
  },
  {
   "cell_type": "code",
   "execution_count": 30,
   "metadata": {},
   "outputs": [
    {
     "data": {
      "text/plain": [
       "((595765, 12), (1018923, 14))"
      ]
     },
     "execution_count": 30,
     "metadata": {},
     "output_type": "execute_result"
    }
   ],
   "source": [
    "processed_dohop.shape, dohop_data.shape"
   ]
  },
  {
   "cell_type": "code",
   "execution_count": 37,
   "metadata": {},
   "outputs": [
    {
     "data": {
      "text/plain": [
       "1011761"
      ]
     },
     "execution_count": 37,
     "metadata": {},
     "output_type": "execute_result"
    }
   ],
   "source": [
    "dohop_data['bookings'].isna().sum()"
   ]
  },
  {
   "cell_type": "code",
   "execution_count": 31,
   "metadata": {},
   "outputs": [
    {
     "data": {
      "text/plain": [
       "Index(['flights', 'origin', 'destination', 'cnx_airport', 'flight_time',\n",
       "       'connection_time', 'dayofweek', 'bkgs_with_no_content', 'pax',\n",
       "       'bookings', 'booked_fare', 'total_distance', 'direct_distance',\n",
       "       'itinerary_fare'],\n",
       "      dtype='object')"
      ]
     },
     "execution_count": 31,
     "metadata": {},
     "output_type": "execute_result"
    }
   ],
   "source": [
    "dohop_data.columns"
   ]
  },
  {
   "cell_type": "code",
   "execution_count": 32,
   "metadata": {},
   "outputs": [],
   "source": [
    "def evaluate_model(data, model):\n",
    "    data[\"predicted_score\"] = model.predict(data.drop('bookings', axis=1)).flatten()\n",
    "\n",
    "    # Create a new colummn bucketed into \"booked\" and \"not-booked\"\n",
    "    data[\"status\"] = np.where(data[\"bookings\"] > 0, \"booked\", \"not-booked\")\n",
    "\n",
    "    # Filter down the dataset to those rows which were booked\n",
    "    booked_data = data[data[\"status\"] == \"booked\"]\n",
    "\n",
    "    # Filter down the dataset to those rows which were not booked\n",
    "    not_booked_data = data[data[\"status\"] == \"not-booked\"]\n",
    "\n",
    "    # Compute minimum score threshold for booked and not-booked data\n",
    "    min_booked_score = data.loc[data[\"status\"] == \"booked\", \"predicted_score\"].min()\n",
    "    min_not_booked_score = data.loc[data[\"status\"] == \"not-booked\", \"predicted_score\"].min()\n",
    "\n",
    "    # Check for the edge case and issue a warning, if it applies\n",
    "    if min_booked_score < min_not_booked_score:\n",
    "        return \"Edge case encountered: Min score of booked rows is lower than min score of not-booked rows.\"\n",
    "\n",
    "    metrics = {\"min_threshold\": min_booked_score,\n",
    "               \"total_rows\": data.shape[0],\n",
    "               \"TP\": booked_data[data[\"predicted_score\"] >= min_booked_score].shape[0],\n",
    "               \"FP\": not_booked_data[data[\"predicted_score\"] >= min_booked_score].shape[0],\n",
    "               \"TN\": not_booked_data[data[\"predicted_score\"] < min_booked_score].shape[0],\n",
    "               \"FN\": booked_data[data[\"predicted_score\"] < min_booked_score].shape[0],\n",
    "               }\n",
    "\n",
    "    return metrics"
   ]
  },
  {
   "cell_type": "code",
   "execution_count": 33,
   "metadata": {},
   "outputs": [
    {
     "data": {
      "text/plain": [
       "TravelDistanceKm               490\n",
       "SelfTransfer                     0\n",
       "Stops                            0\n",
       "DurationMin                      0\n",
       "Total_Flight_Distance          558\n",
       "Total_Flight_Duration            0\n",
       "PricePerPax                      0\n",
       "total_layover_time_ratio         0\n",
       "extra_travel_distance          558\n",
       "bookings                    588603\n",
       "sin_day                          0\n",
       "cos_day                          0\n",
       "dtype: int64"
      ]
     },
     "execution_count": 33,
     "metadata": {},
     "output_type": "execute_result"
    }
   ],
   "source": [
    "processed_dohop.isna().sum()"
   ]
  },
  {
   "cell_type": "code",
   "execution_count": 34,
   "metadata": {},
   "outputs": [],
   "source": [
    "dohop_dropped_na = processed_dohop.dropna(subset=['TravelDistanceKm', 'Total_Flight_Distance'])"
   ]
  },
  {
   "cell_type": "code",
   "execution_count": 39,
   "metadata": {},
   "outputs": [
    {
     "data": {
      "text/plain": [
       "-7082"
      ]
     },
     "execution_count": 39,
     "metadata": {},
     "output_type": "execute_result"
    }
   ],
   "source": [
    "dohop_dropped_na['bookings'].isna().sum() - dohop_dropped_na.shape[0]"
   ]
  },
  {
   "cell_type": "code",
   "execution_count": 35,
   "metadata": {},
   "outputs": [
    {
     "name": "stderr",
     "output_type": "stream",
     "text": [
      "/var/folders/62/d7t21rj54ls65fhypjm4ryb00000gn/T/ipykernel_6037/3781935284.py:2: SettingWithCopyWarning: \n",
      "A value is trying to be set on a copy of a slice from a DataFrame.\n",
      "Try using .loc[row_indexer,col_indexer] = value instead\n",
      "\n",
      "See the caveats in the documentation: https://pandas.pydata.org/pandas-docs/stable/user_guide/indexing.html#returning-a-view-versus-a-copy\n",
      "  data[\"predicted_score\"] = model.predict(data.drop('bookings', axis=1)).flatten()\n",
      "/var/folders/62/d7t21rj54ls65fhypjm4ryb00000gn/T/ipykernel_6037/3781935284.py:5: SettingWithCopyWarning: \n",
      "A value is trying to be set on a copy of a slice from a DataFrame.\n",
      "Try using .loc[row_indexer,col_indexer] = value instead\n",
      "\n",
      "See the caveats in the documentation: https://pandas.pydata.org/pandas-docs/stable/user_guide/indexing.html#returning-a-view-versus-a-copy\n",
      "  data[\"status\"] = np.where(data[\"bookings\"] > 0, \"booked\", \"not-booked\")\n",
      "/var/folders/62/d7t21rj54ls65fhypjm4ryb00000gn/T/ipykernel_6037/3781935284.py:23: UserWarning: Boolean Series key will be reindexed to match DataFrame index.\n",
      "  \"TP\": booked_data[data[\"predicted_score\"] >= min_booked_score].shape[0],\n",
      "/var/folders/62/d7t21rj54ls65fhypjm4ryb00000gn/T/ipykernel_6037/3781935284.py:24: UserWarning: Boolean Series key will be reindexed to match DataFrame index.\n",
      "  \"FP\": not_booked_data[data[\"predicted_score\"] >= min_booked_score].shape[0],\n",
      "/var/folders/62/d7t21rj54ls65fhypjm4ryb00000gn/T/ipykernel_6037/3781935284.py:25: UserWarning: Boolean Series key will be reindexed to match DataFrame index.\n",
      "  \"TN\": not_booked_data[data[\"predicted_score\"] < min_booked_score].shape[0],\n",
      "/var/folders/62/d7t21rj54ls65fhypjm4ryb00000gn/T/ipykernel_6037/3781935284.py:26: UserWarning: Boolean Series key will be reindexed to match DataFrame index.\n",
      "  \"FN\": booked_data[data[\"predicted_score\"] < min_booked_score].shape[0],\n"
     ]
    },
    {
     "data": {
      "text/plain": [
       "{'min_threshold': 0.3559356535380518,\n",
       " 'total_rows': 595207,\n",
       " 'TP': 7082,\n",
       " 'FP': 588118,\n",
       " 'TN': 7,\n",
       " 'FN': 0}"
      ]
     },
     "execution_count": 35,
     "metadata": {},
     "output_type": "execute_result"
    }
   ],
   "source": [
    "evaluate_model(dohop_dropped_na, forrest)"
   ]
  },
  {
   "cell_type": "markdown",
   "metadata": {},
   "source": [
    "# Model results"
   ]
  },
  {
   "cell_type": "markdown",
   "metadata": {},
   "source": [
    "### Results for Poisson Random Forrest with 10 trees, and 20 max depth. \n",
    "\n",
    "columns = ['TravelDistanceKm', 'SelfTransfer', 'Stops',\n",
    "           'DurationMin', 'dayofweek', 'Total_Flight_Distance', 'Total_Flight_Duration', 'PricePerPax',\n",
    "           'total_layover_time_ratio', 'extra_travel_distance']\n",
    "\n",
    "box_cox = ['PricePerPax', 'TravelDistanceKm']\n",
    "\n",
    "yeo_johnson = ['DurationMin', 'Total_Flight_Duration', 'Total_Flight_Distance', 'total_layover_time_ratio', 'extra_travel_distance']\n",
    "\n",
    "\n",
    "- 'min_threshold': 0.3559356535380518,\n",
    "- 'total_rows': 595207,\n",
    "- 'TP': 7082,\n",
    "- 'FP': 588118,\n",
    "- 'TN': 7,\n",
    "- 'FN': 0\n",
    "\n",
    "Training time - 10 minutes"
   ]
  },
  {
   "cell_type": "markdown",
   "metadata": {},
   "source": [
    "### Results for Poisson Random Forrest with 10 trees, and 25 max depth. \n",
    "\n",
    "columns = ['TravelDistanceKm', 'SelfTransfer', 'Stops',\n",
    "           'DurationMin', 'dayofweek', 'Total_Flight_Distance', 'Total_Flight_Duration', 'PricePerPax',\n",
    "           'total_layover_time_ratio', 'extra_travel_distance']\n",
    "\n",
    "box_cox = ['PricePerPax', 'TravelDistanceKm']\n",
    "\n",
    "yeo_johnson = ['DurationMin', 'Total_Flight_Duration', 'Total_Flight_Distance', 'total_layover_time_ratio', 'extra_travel_distance']\n",
    "\n",
    "- min_threshold': 0.3980702486833349,\n",
    "- 'total_rows': 595207,\n",
    "- 'TP': 7082,\n",
    "- 'FP': 587975,\n",
    "- 'TN': 150,\n",
    "- 'FN': 0\n",
    "\n",
    "Training time - 11 minutes"
   ]
  },
  {
   "cell_type": "markdown",
   "metadata": {},
   "source": [
    "### Results for Poisson Random Forrest with 15 trees, and 20 max depth. \n",
    "\n",
    "columns = ['TravelDistanceKm', 'SelfTransfer', 'Stops',\n",
    "           'DurationMin', 'dayofweek', 'Total_Flight_Distance', 'Total_Flight_Duration', 'PricePerPax',\n",
    "           'total_layover_time_ratio', 'extra_travel_distance']\n",
    "\n",
    "box_cox = ['PricePerPax', 'TravelDistanceKm']\n",
    "\n",
    "yeo_johnson = ['DurationMin', 'Total_Flight_Duration', 'Total_Flight_Distance', 'total_layover_time_ratio', 'extra_travel_distance']\n",
    "\n",
    "- 'min_threshold': 0.4278422656407467,\n",
    "- 'total_rows': 595207,\n",
    "- 'TP': 7082,\n",
    "- 'FP': 587982,\n",
    "- 'TN': 143,\n",
    "- 'FN': 0\n",
    "\n",
    "Training time - 17 minutes"
   ]
  },
  {
   "cell_type": "markdown",
   "metadata": {},
   "source": [
    "### Results for Poisson Random Forrest with 30 trees, and 20 max depth. \n",
    "\n",
    "columns = ['TravelDistanceKm', 'SelfTransfer', 'Stops',\n",
    "           'DurationMin', 'dayofweek', 'Total_Flight_Distance', 'Total_Flight_Duration', 'PricePerPax',\n",
    "           'total_layover_time_ratio', 'extra_travel_distance']\n",
    "\n",
    "box_cox = ['PricePerPax', 'TravelDistanceKm']\n",
    "\n",
    "yeo_johnson = ['DurationMin', 'Total_Flight_Duration', 'Total_Flight_Distance', 'total_layover_time_ratio', 'extra_travel_distance']\n",
    "\n",
    "- 'min_threshold': 0.40947495385794425,\n",
    "- 'total_rows': 595207,\n",
    "- 'TP': 7082,\n",
    "- 'FP': 588111,\n",
    "- 'TN': 14,\n",
    "- 'FN': 0\n",
    "\n",
    "Training time - 107 minutes"
   ]
  },
  {
   "cell_type": "markdown",
   "metadata": {},
   "source": [
    "### Results for Poisson Random Forrest with 5 trees, and 30 max depth. \n",
    "\n",
    "columns = ['TravelDistanceKm', 'SelfTransfer', 'Stops',\n",
    "           'DurationMin', 'dayofweek', 'Total_Flight_Distance', 'Total_Flight_Duration', 'PricePerPax',\n",
    "           'total_layover_time_ratio', 'extra_travel_distance']\n",
    "\n",
    "box_cox = ['PricePerPax', 'TravelDistanceKm']\n",
    "\n",
    "yeo_johnson = ['DurationMin', 'Total_Flight_Duration', 'Total_Flight_Distance', 'total_layover_time_ratio', 'extra_travel_distance']\n",
    "\n",
    "- 'min_threshold': 0.37001877943373246,\n",
    "- 'total_rows': 595207,\n",
    "- 'TP': 7082,\n",
    "- 'FP': 587691,\n",
    "- 'TN': 434,\n",
    "- 'FN': 0\n",
    "\n",
    "Training time - 6 Minutes"
   ]
  },
  {
   "cell_type": "markdown",
   "metadata": {},
   "source": [
    "### Results for Poisson Random Forrest with 7 trees, and 40 max depth. \n",
    "\n",
    "columns = ['TravelDistanceKm', 'SelfTransfer', 'Stops',\n",
    "           'DurationMin', 'dayofweek', 'Total_Flight_Distance', 'Total_Flight_Duration', 'PricePerPax',\n",
    "           'total_layover_time_ratio', 'extra_travel_distance']\n",
    "\n",
    "box_cox = ['PricePerPax', 'TravelDistanceKm']\n",
    "\n",
    "yeo_johnson = ['DurationMin', 'Total_Flight_Duration', 'Total_Flight_Distance', 'total_layover_time_ratio', 'extra_travel_distance']\n",
    "\n",
    "- 'min_threshold': 0.3839483185231023,\n",
    "- 'total_rows': 595207,\n",
    "- 'TP': 7082,\n",
    "- 'FP': 587455,\n",
    "- 'TN': 670,\n",
    "- 'FN': 0\n",
    "\n",
    "Training time - 9 minutes"
   ]
  },
  {
   "cell_type": "markdown",
   "metadata": {},
   "source": []
  }
 ],
 "metadata": {
  "kernelspec": {
   "display_name": "OptiEnv",
   "language": "python",
   "name": "python3"
  },
  "language_info": {
   "codemirror_mode": {
    "name": "ipython",
    "version": 3
   },
   "file_extension": ".py",
   "mimetype": "text/x-python",
   "name": "python",
   "nbconvert_exporter": "python",
   "pygments_lexer": "ipython3",
   "version": "3.11.2"
  }
 },
 "nbformat": 4,
 "nbformat_minor": 2
}
