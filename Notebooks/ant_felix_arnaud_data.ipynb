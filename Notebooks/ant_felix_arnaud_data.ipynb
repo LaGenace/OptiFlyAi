{
 "cells": [
  {
   "cell_type": "code",
   "execution_count": 1,
   "metadata": {},
   "outputs": [
    {
     "name": "stderr",
     "output_type": "stream",
     "text": [
      "2023-11-23 08:25:37.676185: I tensorflow/core/platform/cpu_feature_guard.cc:182] This TensorFlow binary is optimized to use available CPU instructions in performance-critical operations.\n",
      "To enable the following instructions: AVX2 FMA, in other operations, rebuild TensorFlow with the appropriate compiler flags.\n",
      "IProgress not found. Please update jupyter and ipywidgets. See https://ipywidgets.readthedocs.io/en/stable/user_install.html\n"
     ]
    }
   ],
   "source": [
    "import os\n",
    "import sys\n",
    "sys.path.append('../')\n",
    "\n",
    "from google.cloud import bigquery\n",
    "from google.oauth2 import service_account\n",
    "\n",
    "from google.cloud import bigquery\n",
    "from google.oauth2 import service_account\n",
    "\n",
    "import pandas as pd\n",
    "import matplotlib.pyplot as plt\n",
    "import json\n",
    "import numpy as np\n",
    "\n",
    "from authenticate_service_account import main\n",
    "from utils import *\n",
    "import tensorflow as tf\n",
    "from tensorflow import keras\n",
    "from tensorflow.keras import layers, Sequential\n",
    "from sklearn.preprocessing import MinMaxScaler\n",
    "from keras.callbacks import EarlyStopping\n",
    "from keras.models import load_model\n",
    "import SALib as sa\n",
    "from SALib.sample import saltelli\n",
    "from SALib.analyze import sobol\n",
    "import shap\n"
   ]
  },
  {
   "cell_type": "code",
   "execution_count": 2,
   "metadata": {},
   "outputs": [],
   "source": [
    "# client = main()\n",
    "\n",
    "# query = \"\"\"\n",
    "# SELECT *\n",
    "# FROM skyscanner-insights-343713.Itinerary_Scoring.top_10_ods\n",
    "# \"\"\"\n",
    "\n",
    "# query_job = client.query(query)\n",
    "\n",
    "# results = query_job.result()\n"
   ]
  },
  {
   "cell_type": "code",
   "execution_count": 3,
   "metadata": {},
   "outputs": [],
   "source": [
    "# data = results.to_dataframe()\n"
   ]
  },
  {
   "cell_type": "code",
   "execution_count": 4,
   "metadata": {},
   "outputs": [],
   "source": [
    "# data.to_csv('4Mrows.csv', index=False)\n"
   ]
  },
  {
   "cell_type": "code",
   "execution_count": 5,
   "metadata": {},
   "outputs": [],
   "source": [
    "data = pd.read_csv('../raw_data/4Mrows.csv')\n"
   ]
  },
  {
   "cell_type": "code",
   "execution_count": 6,
   "metadata": {},
   "outputs": [
    {
     "data": {
      "text/plain": [
       "Index(['OriginApt', 'OriginCty', 'OriginCtry', 'DestinationApt',\n",
       "       'DestinationCty', 'DestinationCtry', 'TravelHorizonDays',\n",
       "       'TravelDistanceKm', 'SelfTransfer', 'Stops', 'DurationMin',\n",
       "       'Seg_0_OriginIATA', 'Seg_0_OriginName', 'Seg_0_DestinationIATA',\n",
       "       'Seg_0_DestinationName', 'Seg_0_OperatingCarrierIATA',\n",
       "       'Seg_0_TravelDistanceKm', 'Seg_1_OriginIATA', 'Seg_1_OriginName',\n",
       "       'Seg_1_DestinationIATA', 'Seg_1_DestinationName',\n",
       "       'Seg_1_OperatingCarrierIATA', 'Seg_1_TravelDistanceKm',\n",
       "       'Seg_2_OriginIATA', 'Seg_2_OriginName', 'Seg_2_DestinationIATA',\n",
       "       'Seg_2_DestinationName', 'Seg_2_OperatingCarrierIATA',\n",
       "       'Seg_2_TravelDistanceKm', 'Seg_3_OriginIATA', 'Seg_3_OriginName',\n",
       "       'Seg_3_DestinationIATA', 'Seg_3_DestinationName',\n",
       "       'Seg_3_OperatingCarrierIATA', 'Seg_3_TravelDistanceKm',\n",
       "       'Seg_0_DurationMin', 'Seg_1_DurationMin', 'Seg_2_DurationMin',\n",
       "       'Seg_3_DurationMin', 'passengers', 'SearchLowestRatio',\n",
       "       'ItinLowestRatio', 'Price', 'PricePerPax', 'ItineraryRedirects',\n",
       "       'ODRedirects'],\n",
       "      dtype='object')"
      ]
     },
     "execution_count": 6,
     "metadata": {},
     "output_type": "execute_result"
    }
   ],
   "source": [
    "data.columns\n"
   ]
  },
  {
   "cell_type": "markdown",
   "metadata": {},
   "source": [
    "# Start from scratch with data "
   ]
  },
  {
   "cell_type": "markdown",
   "metadata": {},
   "source": [
    "## Running preprocessor"
   ]
  },
  {
   "cell_type": "code",
   "execution_count": 7,
   "metadata": {},
   "outputs": [
    {
     "data": {
      "text/html": [
       "<div>\n",
       "<style scoped>\n",
       "    .dataframe tbody tr th:only-of-type {\n",
       "        vertical-align: middle;\n",
       "    }\n",
       "\n",
       "    .dataframe tbody tr th {\n",
       "        vertical-align: top;\n",
       "    }\n",
       "\n",
       "    .dataframe thead th {\n",
       "        text-align: right;\n",
       "    }\n",
       "</style>\n",
       "<table border=\"1\" class=\"dataframe\">\n",
       "  <thead>\n",
       "    <tr style=\"text-align: right;\">\n",
       "      <th></th>\n",
       "      <th>OriginApt</th>\n",
       "      <th>OriginCty</th>\n",
       "      <th>OriginCtry</th>\n",
       "      <th>DestinationApt</th>\n",
       "      <th>DestinationCty</th>\n",
       "      <th>DestinationCtry</th>\n",
       "      <th>TravelHorizonDays</th>\n",
       "      <th>TravelDistanceKm</th>\n",
       "      <th>SelfTransfer</th>\n",
       "      <th>Stops</th>\n",
       "      <th>...</th>\n",
       "      <th>PricePerPax</th>\n",
       "      <th>ItineraryRedirects</th>\n",
       "      <th>ODRedirects</th>\n",
       "      <th>redirect_ratio</th>\n",
       "      <th>OD</th>\n",
       "      <th>total_travel_time</th>\n",
       "      <th>total_layover_time</th>\n",
       "      <th>total_layover_time_ratio</th>\n",
       "      <th>total_distance_traveled</th>\n",
       "      <th>extra_travel_distance_ratio</th>\n",
       "    </tr>\n",
       "  </thead>\n",
       "  <tbody>\n",
       "    <tr>\n",
       "      <th>0</th>\n",
       "      <td>NaN</td>\n",
       "      <td>NaN</td>\n",
       "      <td>NaN</td>\n",
       "      <td>BEG</td>\n",
       "      <td>BEG</td>\n",
       "      <td>RS</td>\n",
       "      <td>24</td>\n",
       "      <td>NaN</td>\n",
       "      <td>False</td>\n",
       "      <td>1</td>\n",
       "      <td>...</td>\n",
       "      <td>591.8100</td>\n",
       "      <td>1</td>\n",
       "      <td>2</td>\n",
       "      <td>0.500000</td>\n",
       "      <td>NaN</td>\n",
       "      <td>575.0</td>\n",
       "      <td>95.0</td>\n",
       "      <td>0.141791</td>\n",
       "      <td>7265.0</td>\n",
       "      <td>NaN</td>\n",
       "    </tr>\n",
       "    <tr>\n",
       "      <th>1</th>\n",
       "      <td>NaN</td>\n",
       "      <td>NaN</td>\n",
       "      <td>NaN</td>\n",
       "      <td>BEG</td>\n",
       "      <td>BEG</td>\n",
       "      <td>RS</td>\n",
       "      <td>24</td>\n",
       "      <td>NaN</td>\n",
       "      <td>False</td>\n",
       "      <td>1</td>\n",
       "      <td>...</td>\n",
       "      <td>637.9000</td>\n",
       "      <td>1</td>\n",
       "      <td>2</td>\n",
       "      <td>0.500000</td>\n",
       "      <td>NaN</td>\n",
       "      <td>585.0</td>\n",
       "      <td>145.0</td>\n",
       "      <td>0.198630</td>\n",
       "      <td>7244.0</td>\n",
       "      <td>NaN</td>\n",
       "    </tr>\n",
       "    <tr>\n",
       "      <th>2</th>\n",
       "      <td>NaN</td>\n",
       "      <td>NaN</td>\n",
       "      <td>NaN</td>\n",
       "      <td>BEY</td>\n",
       "      <td>BEY</td>\n",
       "      <td>LB</td>\n",
       "      <td>23</td>\n",
       "      <td>NaN</td>\n",
       "      <td>False</td>\n",
       "      <td>0</td>\n",
       "      <td>...</td>\n",
       "      <td>180.1100</td>\n",
       "      <td>1</td>\n",
       "      <td>4</td>\n",
       "      <td>0.250000</td>\n",
       "      <td>NaN</td>\n",
       "      <td>115.0</td>\n",
       "      <td>0.0</td>\n",
       "      <td>0.000000</td>\n",
       "      <td>900.0</td>\n",
       "      <td>NaN</td>\n",
       "    </tr>\n",
       "    <tr>\n",
       "      <th>3</th>\n",
       "      <td>NaN</td>\n",
       "      <td>NaN</td>\n",
       "      <td>NaN</td>\n",
       "      <td>BEY</td>\n",
       "      <td>BEY</td>\n",
       "      <td>LB</td>\n",
       "      <td>23</td>\n",
       "      <td>NaN</td>\n",
       "      <td>False</td>\n",
       "      <td>0</td>\n",
       "      <td>...</td>\n",
       "      <td>181.1900</td>\n",
       "      <td>1</td>\n",
       "      <td>4</td>\n",
       "      <td>0.250000</td>\n",
       "      <td>NaN</td>\n",
       "      <td>110.0</td>\n",
       "      <td>0.0</td>\n",
       "      <td>0.000000</td>\n",
       "      <td>900.0</td>\n",
       "      <td>NaN</td>\n",
       "    </tr>\n",
       "    <tr>\n",
       "      <th>4</th>\n",
       "      <td>NaN</td>\n",
       "      <td>NaN</td>\n",
       "      <td>NaN</td>\n",
       "      <td>BEY</td>\n",
       "      <td>BEY</td>\n",
       "      <td>LB</td>\n",
       "      <td>23</td>\n",
       "      <td>NaN</td>\n",
       "      <td>False</td>\n",
       "      <td>0</td>\n",
       "      <td>...</td>\n",
       "      <td>187.1000</td>\n",
       "      <td>1</td>\n",
       "      <td>4</td>\n",
       "      <td>0.250000</td>\n",
       "      <td>NaN</td>\n",
       "      <td>145.0</td>\n",
       "      <td>0.0</td>\n",
       "      <td>0.000000</td>\n",
       "      <td>1239.0</td>\n",
       "      <td>NaN</td>\n",
       "    </tr>\n",
       "    <tr>\n",
       "      <th>...</th>\n",
       "      <td>...</td>\n",
       "      <td>...</td>\n",
       "      <td>...</td>\n",
       "      <td>...</td>\n",
       "      <td>...</td>\n",
       "      <td>...</td>\n",
       "      <td>...</td>\n",
       "      <td>...</td>\n",
       "      <td>...</td>\n",
       "      <td>...</td>\n",
       "      <td>...</td>\n",
       "      <td>...</td>\n",
       "      <td>...</td>\n",
       "      <td>...</td>\n",
       "      <td>...</td>\n",
       "      <td>...</td>\n",
       "      <td>...</td>\n",
       "      <td>...</td>\n",
       "      <td>...</td>\n",
       "      <td>...</td>\n",
       "      <td>...</td>\n",
       "    </tr>\n",
       "    <tr>\n",
       "      <th>2580499</th>\n",
       "      <td>ZUH</td>\n",
       "      <td>ZUH</td>\n",
       "      <td>CN</td>\n",
       "      <td>KMG</td>\n",
       "      <td>KMG</td>\n",
       "      <td>CN</td>\n",
       "      <td>5</td>\n",
       "      <td>1133.0</td>\n",
       "      <td>False</td>\n",
       "      <td>0</td>\n",
       "      <td>...</td>\n",
       "      <td>125.2675</td>\n",
       "      <td>4</td>\n",
       "      <td>5</td>\n",
       "      <td>0.800000</td>\n",
       "      <td>ZUHKMG</td>\n",
       "      <td>120.0</td>\n",
       "      <td>0.0</td>\n",
       "      <td>0.000000</td>\n",
       "      <td>1133.0</td>\n",
       "      <td>1.000000</td>\n",
       "    </tr>\n",
       "    <tr>\n",
       "      <th>2580500</th>\n",
       "      <td>ZUH</td>\n",
       "      <td>ZUH</td>\n",
       "      <td>CN</td>\n",
       "      <td>KOW</td>\n",
       "      <td>KOW</td>\n",
       "      <td>CN</td>\n",
       "      <td>21</td>\n",
       "      <td>461.0</td>\n",
       "      <td>False</td>\n",
       "      <td>0</td>\n",
       "      <td>...</td>\n",
       "      <td>52.1950</td>\n",
       "      <td>1</td>\n",
       "      <td>1</td>\n",
       "      <td>1.000000</td>\n",
       "      <td>ZUHKOW</td>\n",
       "      <td>80.0</td>\n",
       "      <td>0.0</td>\n",
       "      <td>0.000000</td>\n",
       "      <td>461.0</td>\n",
       "      <td>1.000000</td>\n",
       "    </tr>\n",
       "    <tr>\n",
       "      <th>2580501</th>\n",
       "      <td>ZYL</td>\n",
       "      <td>ZYL</td>\n",
       "      <td>BD</td>\n",
       "      <td>MAN</td>\n",
       "      <td>MAN</td>\n",
       "      <td>GB</td>\n",
       "      <td>7</td>\n",
       "      <td>8070.0</td>\n",
       "      <td>False</td>\n",
       "      <td>0</td>\n",
       "      <td>...</td>\n",
       "      <td>716.5630</td>\n",
       "      <td>5</td>\n",
       "      <td>5</td>\n",
       "      <td>1.000000</td>\n",
       "      <td>ZYLMAN</td>\n",
       "      <td>690.0</td>\n",
       "      <td>0.0</td>\n",
       "      <td>0.000000</td>\n",
       "      <td>8070.0</td>\n",
       "      <td>1.000000</td>\n",
       "    </tr>\n",
       "    <tr>\n",
       "      <th>2580502</th>\n",
       "      <td>ZYL</td>\n",
       "      <td>ZYL</td>\n",
       "      <td>BD</td>\n",
       "      <td>MAN</td>\n",
       "      <td>MAN</td>\n",
       "      <td>GB</td>\n",
       "      <td>17</td>\n",
       "      <td>8070.0</td>\n",
       "      <td>True</td>\n",
       "      <td>3</td>\n",
       "      <td>...</td>\n",
       "      <td>887.4400</td>\n",
       "      <td>1</td>\n",
       "      <td>3</td>\n",
       "      <td>0.333333</td>\n",
       "      <td>ZYLMAN</td>\n",
       "      <td>860.0</td>\n",
       "      <td>495.0</td>\n",
       "      <td>0.365314</td>\n",
       "      <td>9428.0</td>\n",
       "      <td>1.168278</td>\n",
       "    </tr>\n",
       "    <tr>\n",
       "      <th>2580503</th>\n",
       "      <td>ZYL</td>\n",
       "      <td>ZYL</td>\n",
       "      <td>BD</td>\n",
       "      <td>MAN</td>\n",
       "      <td>MAN</td>\n",
       "      <td>GB</td>\n",
       "      <td>17</td>\n",
       "      <td>8070.0</td>\n",
       "      <td>True</td>\n",
       "      <td>3</td>\n",
       "      <td>...</td>\n",
       "      <td>1143.0400</td>\n",
       "      <td>2</td>\n",
       "      <td>3</td>\n",
       "      <td>0.666667</td>\n",
       "      <td>ZYLMAN</td>\n",
       "      <td>895.0</td>\n",
       "      <td>575.0</td>\n",
       "      <td>0.391156</td>\n",
       "      <td>9428.0</td>\n",
       "      <td>1.168278</td>\n",
       "    </tr>\n",
       "  </tbody>\n",
       "</table>\n",
       "<p>2575612 rows × 53 columns</p>\n",
       "</div>"
      ],
      "text/plain": [
       "        OriginApt OriginCty OriginCtry DestinationApt DestinationCty  \\\n",
       "0             NaN       NaN        NaN            BEG            BEG   \n",
       "1             NaN       NaN        NaN            BEG            BEG   \n",
       "2             NaN       NaN        NaN            BEY            BEY   \n",
       "3             NaN       NaN        NaN            BEY            BEY   \n",
       "4             NaN       NaN        NaN            BEY            BEY   \n",
       "...           ...       ...        ...            ...            ...   \n",
       "2580499       ZUH       ZUH         CN            KMG            KMG   \n",
       "2580500       ZUH       ZUH         CN            KOW            KOW   \n",
       "2580501       ZYL       ZYL         BD            MAN            MAN   \n",
       "2580502       ZYL       ZYL         BD            MAN            MAN   \n",
       "2580503       ZYL       ZYL         BD            MAN            MAN   \n",
       "\n",
       "        DestinationCtry  TravelHorizonDays  TravelDistanceKm  SelfTransfer  \\\n",
       "0                    RS                 24               NaN         False   \n",
       "1                    RS                 24               NaN         False   \n",
       "2                    LB                 23               NaN         False   \n",
       "3                    LB                 23               NaN         False   \n",
       "4                    LB                 23               NaN         False   \n",
       "...                 ...                ...               ...           ...   \n",
       "2580499              CN                  5            1133.0         False   \n",
       "2580500              CN                 21             461.0         False   \n",
       "2580501              GB                  7            8070.0         False   \n",
       "2580502              GB                 17            8070.0          True   \n",
       "2580503              GB                 17            8070.0          True   \n",
       "\n",
       "         Stops  ...  PricePerPax ItineraryRedirects ODRedirects  \\\n",
       "0            1  ...     591.8100                  1           2   \n",
       "1            1  ...     637.9000                  1           2   \n",
       "2            0  ...     180.1100                  1           4   \n",
       "3            0  ...     181.1900                  1           4   \n",
       "4            0  ...     187.1000                  1           4   \n",
       "...        ...  ...          ...                ...         ...   \n",
       "2580499      0  ...     125.2675                  4           5   \n",
       "2580500      0  ...      52.1950                  1           1   \n",
       "2580501      0  ...     716.5630                  5           5   \n",
       "2580502      3  ...     887.4400                  1           3   \n",
       "2580503      3  ...    1143.0400                  2           3   \n",
       "\n",
       "        redirect_ratio      OD total_travel_time  total_layover_time  \\\n",
       "0             0.500000     NaN             575.0                95.0   \n",
       "1             0.500000     NaN             585.0               145.0   \n",
       "2             0.250000     NaN             115.0                 0.0   \n",
       "3             0.250000     NaN             110.0                 0.0   \n",
       "4             0.250000     NaN             145.0                 0.0   \n",
       "...                ...     ...               ...                 ...   \n",
       "2580499       0.800000  ZUHKMG             120.0                 0.0   \n",
       "2580500       1.000000  ZUHKOW              80.0                 0.0   \n",
       "2580501       1.000000  ZYLMAN             690.0                 0.0   \n",
       "2580502       0.333333  ZYLMAN             860.0               495.0   \n",
       "2580503       0.666667  ZYLMAN             895.0               575.0   \n",
       "\n",
       "        total_layover_time_ratio total_distance_traveled  \\\n",
       "0                       0.141791                  7265.0   \n",
       "1                       0.198630                  7244.0   \n",
       "2                       0.000000                   900.0   \n",
       "3                       0.000000                   900.0   \n",
       "4                       0.000000                  1239.0   \n",
       "...                          ...                     ...   \n",
       "2580499                 0.000000                  1133.0   \n",
       "2580500                 0.000000                   461.0   \n",
       "2580501                 0.000000                  8070.0   \n",
       "2580502                 0.365314                  9428.0   \n",
       "2580503                 0.391156                  9428.0   \n",
       "\n",
       "        extra_travel_distance_ratio  \n",
       "0                               NaN  \n",
       "1                               NaN  \n",
       "2                               NaN  \n",
       "3                               NaN  \n",
       "4                               NaN  \n",
       "...                             ...  \n",
       "2580499                    1.000000  \n",
       "2580500                    1.000000  \n",
       "2580501                    1.000000  \n",
       "2580502                    1.168278  \n",
       "2580503                    1.168278  \n",
       "\n",
       "[2575612 rows x 53 columns]"
      ]
     },
     "execution_count": 7,
     "metadata": {},
     "output_type": "execute_result"
    }
   ],
   "source": [
    "processed_data = preprocess(data, ['OriginCty', 'DestinationCty'], as_ratio=True)\n",
    "processed_data\n"
   ]
  },
  {
   "cell_type": "markdown",
   "metadata": {},
   "source": [
    "### Checking the distribution of the redirect ratio\n"
   ]
  },
  {
   "cell_type": "code",
   "execution_count": 8,
   "metadata": {},
   "outputs": [
    {
     "data": {
      "image/png": "[encoded data removed]",
      "text/plain": [
       "<Figure size 1800x1000 with 1 Axes>"
      ]
     },
     "metadata": {},
     "output_type": "display_data"
    }
   ],
   "source": [
    "plt.figure(figsize=(18, 10))\n",
    "plt.hist(processed_data[\"redirect_ratio\"], bins=15)\n",
    "plt.xlabel(\"redirect_ratio\")\n",
    "plt.ylabel(\"Frequency\")\n",
    "plt.title(\"Distribution of redirect_ratio\")\n",
    "plt.show()\n"
   ]
  },
  {
   "cell_type": "code",
   "execution_count": null,
   "metadata": {},
   "outputs": [],
   "source": [
    "df_grouped = processed_data.groupby([\"OriginCty\", \"OriginApt\"]).count()\n",
    "df_grouped\n"
   ]
  },
  {
   "cell_type": "markdown",
   "metadata": {},
   "source": [
    "## Testing the binary encoder"
   ]
  },
  {
   "cell_type": "code",
   "execution_count": null,
   "metadata": {},
   "outputs": [],
   "source": [
    "# import category_encoders as ce\n",
    "# # Initialize BinaryEncoder\n",
    "# binary_encoder = ce.BinaryEncoder(cols=[\"OD\"])\n",
    "# # Fit and transform the data\n",
    "# binary_encoded_data = binary_encoder.fit_transform(processed_data)\n",
    "# # Print the result\n",
    "# print(\"Binary Encoded data:\")\n",
    "# print(binary_encoded_data.columns)\n"
   ]
  },
  {
   "cell_type": "code",
   "execution_count": null,
   "metadata": {},
   "outputs": [],
   "source": [
    "model_columns = ['ODRedirects', 'TravelDistanceKm', 'Stops', 'TravelHorizonDays',\n",
    "                     'redirect_ratio', 'SelfTransfer',\n",
    "                     'total_layover_time_ratio', 'extra_travel_distance_ratio']\n",
    "\n",
    "model_data = processed_data[model_columns]\n"
   ]
  },
  {
   "cell_type": "code",
   "execution_count": null,
   "metadata": {},
   "outputs": [],
   "source": [
    "model_data.loc[:, \"SelfTransfer\"] = model_data[\"SelfTransfer\"].astype(int)\n"
   ]
  },
  {
   "cell_type": "code",
   "execution_count": null,
   "metadata": {},
   "outputs": [],
   "source": [
    "model_data.head()\n"
   ]
  },
  {
   "cell_type": "code",
   "execution_count": null,
   "metadata": {},
   "outputs": [],
   "source": [
    "model_data.dtypes\n"
   ]
  },
  {
   "cell_type": "code",
   "execution_count": null,
   "metadata": {},
   "outputs": [],
   "source": [
    "corr_matrix = model_data.corr()\n",
    "corr_matrix\n"
   ]
  },
  {
   "cell_type": "code",
   "execution_count": null,
   "metadata": {},
   "outputs": [],
   "source": [
    "import seaborn as sns\n",
    "plt.figure(figsize=(18,8))\n",
    "sns.heatmap(corr_matrix, annot=True, cmap='coolwarm')\n",
    "plt.show()\n"
   ]
  },
  {
   "cell_type": "code",
   "execution_count": null,
   "metadata": {},
   "outputs": [],
   "source": []
  },
  {
   "cell_type": "code",
   "execution_count": null,
   "metadata": {},
   "outputs": [],
   "source": [
    "# Set a larger figure size for readability\n",
    "plt.figure(figsize=(10, 20))\n",
    "\n",
    "# Iterate over the columns and create a subplot for each\n",
    "for i, heading in enumerate(model_data.columns):\n",
    "    plt.subplot(len(model_data.columns), 1, i+1)\n",
    "    model_data[heading].plot.hist()\n",
    "    plt.title(f'Distribution of {heading}')\n",
    "    plt.xlabel(heading)\n",
    "    plt.ylabel('Frequency')\n",
    "\n",
    "# Adjust layout to prevent overlap\n",
    "plt.tight_layout()\n",
    "plt.show()\n"
   ]
  },
  {
   "cell_type": "markdown",
   "metadata": {},
   "source": [
    "### Feature Engineering\n",
    "- Log of ODRedirect\n",
    "- Log of TravelDistanceKm\n",
    "- Log of redirect_ratio\n",
    "- Log of total_layover_time\n",
    "- Log of extra_travel_distance"
   ]
  },
  {
   "cell_type": "code",
   "execution_count": null,
   "metadata": {},
   "outputs": [],
   "source": [
    "model_data.head()\n"
   ]
  },
  {
   "cell_type": "code",
   "execution_count": null,
   "metadata": {},
   "outputs": [],
   "source": [
    "model_data.dropna(inplace=True)\n"
   ]
  },
  {
   "cell_type": "code",
   "execution_count": null,
   "metadata": {},
   "outputs": [],
   "source": [
    "model_data.isna().any().any()\n"
   ]
  },
  {
   "cell_type": "code",
   "execution_count": null,
   "metadata": {},
   "outputs": [],
   "source": [
    "model_data.loc[:, 'ODRedirects'] = np.log1p(model_data['ODRedirects']+ 1e-9)  # 1e-9 is a small constant to offset zero values\n",
    "model_data.loc[:, 'TravelDistanceKm'] = np.log1p(model_data['TravelDistanceKm']+ 1e-9)  # 1e-9 is a small constant to offset zero values\n",
    "model_data.loc[:, 'redirect_ratio'] = np.log1p(model_data['redirect_ratio']+ 1e-9)  # 1e-9 is a small constant to offset zero values\n",
    "model_data.loc[:, 'total_layover_time_ratio'] = np.log1p(model_data['total_layover_time_ratio']+ 1e-9)  # 1e-9 is a small constant to offset zero values\n",
    "model_data.loc[:, 'extra_travel_distance_ratio'] = np.log1p(model_data['extra_travel_distance_ratio']+ 1e-9)  # 1e-9 is a small constant to offset zero values\n"
   ]
  },
  {
   "cell_type": "markdown",
   "metadata": {},
   "source": [
    "### Apply MinMax Scalar"
   ]
  },
  {
   "cell_type": "code",
   "execution_count": null,
   "metadata": {},
   "outputs": [],
   "source": [
    "scaler = MinMaxScaler()\n"
   ]
  },
  {
   "cell_type": "code",
   "execution_count": null,
   "metadata": {},
   "outputs": [],
   "source": [
    "X_train, X_test, y_train, y_test = create_train_test_split(model_data, 'redirect_ratio')\n"
   ]
  },
  {
   "cell_type": "code",
   "execution_count": null,
   "metadata": {},
   "outputs": [],
   "source": [
    "Test_ODRedirect = X_test[\"ODRedirects\"]\n",
    "Test_ODRedirect\n"
   ]
  },
  {
   "cell_type": "code",
   "execution_count": null,
   "metadata": {},
   "outputs": [],
   "source": [
    "scaler.fit(X_train)\n",
    "X_train = scaler.transform(X_train)\n",
    "X_test = scaler.transform(X_test)\n"
   ]
  },
  {
   "cell_type": "code",
   "execution_count": null,
   "metadata": {},
   "outputs": [],
   "source": [
    "model = Sequential()\n",
    "model.add(layers.Dense(64, input_dim=7, activation='relu'))\n",
    "model.add(layers.Dense(64, activation='relu'))\n",
    "model.add(layers.Dense(1, activation='linear'))\n"
   ]
  },
  {
   "cell_type": "code",
   "execution_count": null,
   "metadata": {},
   "outputs": [],
   "source": [
    "model.summary()\n"
   ]
  },
  {
   "cell_type": "code",
   "execution_count": null,
   "metadata": {},
   "outputs": [],
   "source": [
    "early_stopping = EarlyStopping(monitor='val_loss', min_delta=0.001, patience=10, verbose=1, mode='min', restore_best_weights=True)\n"
   ]
  },
  {
   "cell_type": "code",
   "execution_count": null,
   "metadata": {},
   "outputs": [],
   "source": [
    "model.compile(loss='mse', optimizer='adam', metrics=['mae'])\n"
   ]
  },
  {
   "cell_type": "code",
   "execution_count": null,
   "metadata": {},
   "outputs": [],
   "source": [
    "# model.fit(X_train, y_train, epochs=10, batch_size=32, verbose=1, callbacks=[early_stopping], validation_split=0.2)\n"
   ]
  },
  {
   "cell_type": "code",
   "execution_count": null,
   "metadata": {},
   "outputs": [],
   "source": [
    "#model.save('my_model.h5')\n"
   ]
  },
  {
   "cell_type": "code",
   "execution_count": null,
   "metadata": {},
   "outputs": [],
   "source": [
    "model = load_model('../models/my_model.h5')\n"
   ]
  },
  {
   "cell_type": "code",
   "execution_count": null,
   "metadata": {},
   "outputs": [],
   "source": [
    "# # Evaluate the model on the test set\n",
    "# test_loss, test_error = model.evaluate(X_test, y_test, verbose=1)\n",
    "\n",
    "# # Print the results\n",
    "# print(f\"Test Loss (MSE): {test_loss}\")\n",
    "# print(f\"Test Error (MAE): {test_error}\")\n"
   ]
  },
  {
   "cell_type": "code",
   "execution_count": null,
   "metadata": {},
   "outputs": [],
   "source": [
    "y_pred = model.predict(X_test)\n"
   ]
  },
  {
   "cell_type": "code",
   "execution_count": null,
   "metadata": {},
   "outputs": [],
   "source": [
    "X_test.shape\n"
   ]
  },
  {
   "cell_type": "code",
   "execution_count": null,
   "metadata": {},
   "outputs": [],
   "source": [
    "y_pred.shape\n"
   ]
  },
  {
   "cell_type": "code",
   "execution_count": null,
   "metadata": {},
   "outputs": [],
   "source": [
    "y_pred.dtype\n"
   ]
  },
  {
   "cell_type": "code",
   "execution_count": null,
   "metadata": {},
   "outputs": [],
   "source": [
    "y_test.shape\n"
   ]
  },
  {
   "cell_type": "code",
   "execution_count": null,
   "metadata": {},
   "outputs": [],
   "source": [
    "y_test.dtypes\n"
   ]
  },
  {
   "cell_type": "code",
   "execution_count": null,
   "metadata": {},
   "outputs": [],
   "source": [
    "y_diff = y_pred.flatten() - y_test\n"
   ]
  },
  {
   "cell_type": "code",
   "execution_count": null,
   "metadata": {},
   "outputs": [],
   "source": [
    "y_diff_abs = y_diff.abs()\n"
   ]
  },
  {
   "cell_type": "code",
   "execution_count": null,
   "metadata": {},
   "outputs": [],
   "source": [
    "y_diff.shape\n"
   ]
  },
  {
   "cell_type": "code",
   "execution_count": null,
   "metadata": {},
   "outputs": [],
   "source": [
    "Test_ODRedirect\n"
   ]
  },
  {
   "cell_type": "code",
   "execution_count": null,
   "metadata": {},
   "outputs": [],
   "source": [
    "Test_ODRedirect = np.expm1(Test_ODRedirect)\n",
    "Test_ODRedirect\n"
   ]
  },
  {
   "cell_type": "code",
   "execution_count": null,
   "metadata": {},
   "outputs": [],
   "source": [
    "plt.figure(figsize=(25, 18))\n",
    "plt.scatter(Test_ODRedirect, y_diff, color='blue', alpha=0.1)\n",
    "plt.title('Difference in Predictions vs ODRedirects')\n",
    "plt.xlabel('ODRedirects')\n",
    "plt.ylabel('Prediction Difference (y_pred - y_test)')\n",
    "plt.grid(True)\n"
   ]
  },
  {
   "cell_type": "code",
   "execution_count": null,
   "metadata": {},
   "outputs": [],
   "source": [
    "plt.figure(figsize=(25, 18))\n",
    "plt.scatter(Test_ODRedirect, y_diff_abs, color='blue', alpha=0.1)\n",
    "plt.title('Difference in Predictions vs ODRedirects')\n",
    "plt.xlabel('ODRedirects')\n",
    "plt.ylabel('Abs. Prediction Difference (y_pred - y_test)')\n",
    "plt.grid(True)\n"
   ]
  },
  {
   "cell_type": "code",
   "execution_count": null,
   "metadata": {},
   "outputs": [],
   "source": [
    "['ODRedirects', 'TravelDistanceKm', 'Stops', 'TravelHorizonDays',\n",
    "                     'redirect_ratio', 'SelfTransfer',\n",
    "                     'total_layover_time_ratio', 'extra_travel_distance_ratio']\n",
    "\n",
    "\n",
    "# Define the model inputs\n",
    "problem = {\n",
    "    'num_vars': 7,\n",
    "    'names': ['ODRedirects', 'TravelDistanceKm', 'Stops', 'TravelHorizonDays', 'SelfTransfer', 'total_layover_time_ratio', 'extra_travel_distance_ratio'],  # Replace with your variables\n",
    "    'bounds': [[0, 1], [0, 1], [0, 1], [0, 1], [0, 1], [0, 1], [0, 1]]  # Replace with your variable bounds\n",
    "}\n",
    "\n",
    "# Generate samples\n",
    "param_values = saltelli.sample(problem, 1000)\n",
    "\n",
    "# Run model\n",
    "Y = np.array([model.predict(params.reshape(1, -1)) for params in param_values])\n",
    "\n",
    "# Flatten Y if necessary\n",
    "Y = Y.flatten()\n",
    "\n",
    "# Perform analysis\n",
    "Si = sobol.analyze(problem, Y, print_to_console=True)\n",
    "\n",
    "# Si contains the sensitivity indices\n"
   ]
  },
  {
   "cell_type": "code",
   "execution_count": null,
   "metadata": {},
   "outputs": [],
   "source": [
    "# Extracting the first order sensitivity indices\n",
    "s1 = Si['S1']\n",
    "\n",
    "# Creating a heatmap\n",
    "plt.figure(figsize=(35, 15))\n",
    "sns.heatmap([s1], annot=True, cmap='viridis', yticklabels=['S1'])\n",
    "plt.title('First Order Sensitivity Indices')\n",
    "plt.xticks(ticks=np.arange(len(s1)) + 0.5, labels=problem['names'])\n",
    "plt.show()\n"
   ]
  },
  {
   "cell_type": "code",
   "execution_count": null,
   "metadata": {},
   "outputs": [],
   "source": [
    "# Create the explainer\n",
    "explainer = shap.DeepExplainer(model, data=X_train)  # X_train is your training data\n",
    "\n",
    "\n",
    "# Assuming shap_values are already calculated for X_test\n",
    "shap_values = explainer.shap_values(X_test)\n",
    "\n",
    "# Initialize JavaScript in Jupyter for SHAP plots\n",
    "shap.initjs()\n",
    "\n",
    "# Feature Importance Plot\n",
    "shap.summary_plot(shap_values, X_test, plot_type=\"bar\")\n",
    "\n",
    "# SHAP Value Plot (Bee Swarm)\n",
    "shap.summary_plot(shap_values, X_test)\n"
   ]
  },
  {
   "cell_type": "code",
   "execution_count": null,
   "metadata": {},
   "outputs": [],
   "source": [
    "\n",
    "# # Assuming `model` is your trained model and `X_train` is your training data\n",
    "# explainer = shap.DeepExplainer(model, X_train)\n",
    "# shap_values = explainer.shap_values(X_test)  # X_test is your test data\n",
    "\n",
    "# # Calculate the mean absolute SHAP values for each feature\n",
    "# shap_sum = np.abs(shap_values[0]).mean(axis=0)\n",
    "\n",
    "# # Create a bar plot\n",
    "# plt.bar(range(len(shap_sum)), shap_sum)\n",
    "# plt.xlabel('Feature Index')\n",
    "# plt.ylabel('Mean Abs SHAP Value')\n",
    "# plt.title('Feature Importance')\n",
    "# plt.show()\n"
   ]
  },
  {
   "cell_type": "code",
   "execution_count": null,
   "metadata": {},
   "outputs": [],
   "source": []
  }
 ],
 "metadata": {
  "kernelspec": {
   "display_name": "Python 3 (ipykernel)",
   "language": "python",
   "name": "python3"
  },
  "language_info": {
   "codemirror_mode": {
    "name": "ipython",
    "version": 3
   },
   "file_extension": ".py",
   "mimetype": "text/x-python",
   "name": "python",
   "nbconvert_exporter": "python",
   "pygments_lexer": "ipython3",
   "version": "3.11.2"
  }
 },
 "nbformat": 4,
 "nbformat_minor": 4
}
